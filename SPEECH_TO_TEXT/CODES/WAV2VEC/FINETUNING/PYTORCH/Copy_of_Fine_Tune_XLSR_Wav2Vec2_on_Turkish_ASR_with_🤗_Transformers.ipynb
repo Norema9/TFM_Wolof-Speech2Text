{
  "cells": [
    {
      "cell_type": "markdown",
      "metadata": {
        "id": "LBSYoWbi-45k"
      },
      "source": [
        "# **Fine-tuning XLSR-Wav2Vec2 for Multi-Lingual ASR with 🤗 Transformers**"
      ]
    },
    {
      "cell_type": "markdown",
      "metadata": {
        "id": "V7YOT2mnUiea"
      },
      "source": [
        "Wav2Vec2 is a pretrained model for Automatic Speech Recognition (ASR) and was released in [September 2020](https://ai.facebook.com/blog/wav2vec-20-learning-the-structure-of-speech-from-raw-audio/) by Alexei Baevski, Michael Auli, and Alex Conneau.  Soon after the superior performance of Wav2Vec2 was demonstrated on the English ASR dataset LibriSpeech, *Facebook AI* presented XLSR-Wav2Vec2 (click [here](https://arxiv.org/abs/2006.13979)). XLSR stands for *cross-lingual  speech representations* and refers to XLSR-Wav2Vec2's ability to learn speech representations that are useful across multiple languages.\n",
        "\n",
        "Similar to Wav2Vec2, XLSR-Wav2Vec2 learns powerful speech representations from hundreds of thousands of hours of speech in more than 50 languages of unlabeled speech. Similar, to [BERT's masked language modeling](http://jalammar.github.io/illustrated-bert/), the model learns contextualized speech representations by randomly masking feature vectors before passing them to a transformer network.\n",
        "\n",
        "![wav2vec2_structure](https://raw.githubusercontent.com/patrickvonplaten/scientific_images/master/xlsr_wav2vec2.png)\n",
        "\n",
        "The authors show for the first time that massively pretraining an ASR model on cross-lingual unlabeled speech data, followed by language-specific fine-tuning on very little labeled data achieves state-of-the-art results. See Table 1-5 of the official [paper](https://arxiv.org/pdf/2006.13979.pdf)."
      ]
    },
    {
      "cell_type": "markdown",
      "metadata": {
        "id": "nT_QrfWtsxIz"
      },
      "source": [
        "In this notebook, we will give an in-detail explanation of how XLSR-Wav2Vec2's pretrained checkpoint can be fine-tuned on a low-resource ASR dataset of any language. Note that in this notebook, we will fine-tune XLSR-Wav2Vec2 without making use of a language model. It is much simpler and more efficient to use XLSR-Wav2Vec2 without a language model, but better results can be achieved by including a language model.\n",
        "\n",
        "For demonstration purposes, we fine-tune the [wav2vec2-large-xlsr-53](https://huggingface.co/facebook/wav2vec2-large-xlsr-53) on the low resource Turkish ASR dataset of [Common Voice](https://huggingface.co/datasets/common_voice) that contains just ~6h of validated training data."
      ]
    },
    {
      "cell_type": "markdown",
      "metadata": {
        "id": "Gx9OdDYrCtQ1"
      },
      "source": [
        "XLSR-Wav2Vec2 is fine-tuned using Connectionist Temporal Classification (CTC), which is an algorithm that is used to train neural networks for sequence-to-sequence problems and mainly in Automatic Speech Recognition and handwriting recognition.\n",
        "\n",
        "I highly recommend reading the blog post [Sequence Modeling with CTC (2017)](https://distill.pub/2017/ctc/) very well-written blog post by Awni Hannun."
      ]
    },
    {
      "cell_type": "markdown",
      "metadata": {
        "id": "e335hPmdtASZ"
      },
      "source": [
        "Before we start, let's install both `datasets` and `transformers` from master. Also, we need the `torchaudio` and `librosa` package to load audio files and the `jiwer` to evaluate our fine-tuned model using the [word error rate (WER)](https://huggingface.co/metrics/wer) metric ${}^1$."
      ]
    },
    {
      "cell_type": "code",
      "execution_count": 1,
      "metadata": {
        "colab": {
          "base_uri": "https://localhost:8080/"
        },
        "id": "c8eh87Hoee5d",
        "outputId": "6a1731e8-5380-4e98-9ce0-fd05df7d424b"
      },
      "outputs": [],
      "source": [
        "%%capture\n",
        "!pip install --upgrade huggingface_hub\n",
        "!pip install datasets\n",
        "!pip install transformers\n",
        "!pip install torchaudio\n",
        "!pip install librosa\n",
        "!pip install jiwer\n",
        "!pip install soundfile\n",
        "!pip install evaluate\n",
        "!pip uninstall accelerate -y\n",
        "!pip install accelerate -U"
      ]
    },
    {
      "cell_type": "markdown",
      "metadata": {
        "id": "Mn9swf6EQ9Vd"
      },
      "source": [
        "\n",
        "\n",
        "\n",
        "---\n",
        "\n",
        "${}^1$ In the [paper](https://arxiv.org/pdf/2006.13979.pdf), the model was evaluated using the phoneme error rate (PER), but by far the most common metric in ASR is the word error rate (WER). To keep this notebook as general as possible we decided to evaluate the model using WER."
      ]
    },
    {
      "cell_type": "markdown",
      "metadata": {
        "id": "zXMtp9S7J4-r"
      },
      "source": [
        "# FONCTIONS"
      ]
    },
    {
      "cell_type": "code",
      "execution_count": null,
      "metadata": {
        "id": "2Laai-s_G2L0"
      },
      "outputs": [],
      "source": [
        "# ## the goal is to convert the speech array to WAV file in bulk\n",
        "# audio_file_path = 'DATA\\CLEANED\\AUDIO_WAV\\\\'\n",
        "# def array2WAV(row, df_name, sample_rate = 16000):\n",
        "#     # Convert NumPy array to AudioSegment object\n",
        "#     samples = row.get('audio')\n",
        "#     samples = (samples * (2**15 - 1)).astype(np.int16)\n",
        "#     audio_segment = AudioSegment(samples.tobytes(), sample_width = 2, frame_rate = sample_rate, channels = 1)\n",
        "\n",
        "#     # Save the AudioSegment as a WAV file\n",
        "#     filename = f\"{df_name}_{row.get('id')}_WOL.wav\"\n",
        "#     audio_segment.export(os.path.join(audio_file_path, filename), format=\"wav\")\n",
        "\n",
        "#     # Return the generated file path\n",
        "#     return filename"
      ]
    },
    {
      "cell_type": "code",
      "execution_count": null,
      "metadata": {
        "id": "c1n9zo1VG69V"
      },
      "outputs": [],
      "source": [
        "# def ByteWAV2WAV(audio_dict, df_name):\n",
        "#     try:\n",
        "#         # Extract 'bytes' from the dictionary\n",
        "#         audio_bytes = audio_dict.get('audio')['bytes']\n",
        "\n",
        "#         # Save the bytes as a WAV file\n",
        "#         filename = f\"{df_name}_{audio_dict.get('id')}_WOL.wav\"\n",
        "#         with open(os.path.join(audio_file_path, filename), 'wb') as f:\n",
        "#             f.write(audio_bytes)\n",
        "\n",
        "#         # Return the generated file path\n",
        "#         return filename\n",
        "#     except Exception as e:\n",
        "#         print(f\"Error processing id {audio_dict.get('id')}: {e}\")\n",
        "#         return None"
      ]
    },
    {
      "cell_type": "code",
      "execution_count": null,
      "metadata": {
        "id": "h7rDpfnvQxht"
      },
      "outputs": [],
      "source": [
        "# def filename(row, df_name):\n",
        "#   return f\"{df_name}_{row.get('id')}_WOL.wav\""
      ]
    },
    {
      "cell_type": "code",
      "execution_count": null,
      "metadata": {
        "id": "MGH9omV8MWS2"
      },
      "outputs": [],
      "source": [
        "# def ByteWAV2Array(audio_dict):\n",
        "#     try:\n",
        "#         # Extract 'bytes' from the dictionary\n",
        "#         audio_bytes = audio_dict.get('audio')['bytes']\n",
        "\n",
        "#         # Load the audio data using librosa\n",
        "#         audio_data, _ = librosa.load(io.BytesIO(audio_bytes), sr=16000)\n",
        "#         del audio_bytes\n",
        "#         # Return the audio data as a NumPy array\n",
        "#         return audio_data\n",
        "#     except Exception as e:\n",
        "#         print(f\"Error processing id {audio_dict.get('id')}: {e}\")\n",
        "#         return None"
      ]
    },
    {
      "cell_type": "code",
      "execution_count": null,
      "metadata": {
        "id": "O4yIOnF6G9pM"
      },
      "outputs": [],
      "source": [
        "# def create_id(df, id_max):\n",
        "#     df['id'] = range(id_max + 1, id_max + len(df) + 1)\n",
        "#     return df"
      ]
    },
    {
      "cell_type": "markdown",
      "metadata": {
        "id": "U4E39mBkHIHt"
      },
      "source": [
        "## Directory handling"
      ]
    },
    {
      "cell_type": "code",
      "execution_count": null,
      "metadata": {
        "id": "eM-sGcBUHKVO"
      },
      "outputs": [],
      "source": [
        "# path = r\"C:\\Users\\maron\\OneDrive\\02-Documents\\03.PROJETS\\00.INFORMATIQUE\\00.APP\\00.SENLAAKK\\05.IA\\00.WOLOF\\SPEECH_TO_TEXT\"\n",
        "# os.chdir(path)"
      ]
    },
    {
      "cell_type": "markdown",
      "metadata": {
        "id": "TV4GZXDFHjdb"
      },
      "source": [
        "## perrynelson cleaning"
      ]
    },
    {
      "cell_type": "markdown",
      "metadata": {
        "id": "SSwX3P2GHmzU"
      },
      "source": [
        "### Data loading"
      ]
    },
    {
      "cell_type": "code",
      "execution_count": null,
      "metadata": {
        "id": "6tY3FKtIHpMG"
      },
      "outputs": [],
      "source": [
        "# dataset_waxal = load_dataset(\"perrynelson/waxal-wolof\")\n",
        "# dataset_waxal_2 = load_dataset(\"perrynelson/waxal-wolof2\")"
      ]
    },
    {
      "cell_type": "code",
      "execution_count": null,
      "metadata": {
        "id": "M5Fi9oQVHsya"
      },
      "outputs": [],
      "source": [
        "# print(f'the keys of the downloaded data are : {dataset_waxal.keys()}')\n",
        "# print(f'the keys of the downloaded data are : {dataset_waxal_2.keys()}')"
      ]
    },
    {
      "cell_type": "code",
      "execution_count": null,
      "metadata": {
        "id": "uEUBItHYHu9-"
      },
      "outputs": [],
      "source": [
        "# dataset_waxal_df_train = dataset_waxal['train'].to_pandas()\n",
        "# dataset_waxal_df_validation = dataset_waxal['validation'].to_pandas()\n",
        "# dataset_waxal_df_test = dataset_waxal['test'].to_pandas()\n",
        "# dataset_waxal_2_df_test = dataset_waxal_2['test'].to_pandas()"
      ]
    },
    {
      "cell_type": "markdown",
      "metadata": {
        "id": "BD7USDJoH1JH"
      },
      "source": [
        "### Visualization"
      ]
    },
    {
      "cell_type": "code",
      "execution_count": null,
      "metadata": {
        "id": "VDlnA7UaHx-P"
      },
      "outputs": [],
      "source": [
        "# dataset_waxal_df_train.head(3)"
      ]
    },
    {
      "cell_type": "code",
      "execution_count": null,
      "metadata": {
        "id": "aQwoudhvH4Ez"
      },
      "outputs": [],
      "source": [
        "# dataset_waxal_2_df_test.head(3)"
      ]
    },
    {
      "cell_type": "code",
      "execution_count": null,
      "metadata": {
        "id": "Xiz90QMRH6Ti"
      },
      "outputs": [],
      "source": [
        "# # Assuming dataset_waxal_df_train, dataset_waxal_df_validation, dataset_waxal_df_test, dataset_waxal_2_df_test are your DataFrames\n",
        "# dataframes = [dataset_waxal_df_train, dataset_waxal_df_validation, dataset_waxal_df_test, dataset_waxal_2_df_test]\n",
        "\n",
        "# dataset_waxal_df = pd.concat(dataframes, axis=0, ignore_index=True)\n",
        "# dataset_waxal_df = create_id(dataset_waxal_df, 0)\n",
        "# dataset_waxal_df.head(3)"
      ]
    },
    {
      "cell_type": "markdown",
      "metadata": {
        "id": "FHxwEEXdH9Co"
      },
      "source": [
        "### saving the original data"
      ]
    },
    {
      "cell_type": "code",
      "execution_count": null,
      "metadata": {
        "id": "LVF8_Yi1H-zZ"
      },
      "outputs": [],
      "source": [
        "#dataset_waxal_df.to_csv(\"/content/drive/MyDrive/PROJETS/WOLOF_IA/SPEECH_TO_TEXT/DATA/BRUT/CSV/dataset_waxal.csv\")"
      ]
    },
    {
      "cell_type": "code",
      "execution_count": null,
      "metadata": {
        "id": "z57fmXfoIEzf"
      },
      "outputs": [],
      "source": [
        "# # create a new dataframe to store the clean data from perrynelson\n",
        "# dataset_waxal__clean_df = pd.DataFrame()\n",
        "# dataset_waxal__clean_df = dataset_waxal_df[[\"id\", \"transcription\"]]\n",
        "# dataset_waxal__clean_df['audio'] = dataset_waxal_df.apply(lambda row: ByteWAV2Array(row), axis = 1)\n",
        "# dataset_waxal__clean_df['filename'] = dataset_waxal_df.apply(lambda row: filename(row, \"perrynelson\"), axis = 1)\n",
        "\n",
        "# dataset_waxal__clean_df.head(3)"
      ]
    },
    {
      "cell_type": "code",
      "execution_count": null,
      "metadata": {
        "id": "QJ62KUprUlML"
      },
      "outputs": [],
      "source": [
        "# # Save DataFrame\n",
        "# dataset_waxal__clean_df.to_pickle(\"DATA/CLEANED/DATA/df_tot_audio_path_transcription.pkl\")\n",
        "\n",
        "# # Load DataFrame\n",
        "# df = pd.read_pickle(\"DATA/CLEANED/DATA/df_tot_audio_path_transcription.pkl\")\n"
      ]
    },
    {
      "cell_type": "code",
      "execution_count": null,
      "metadata": {
        "id": "gMddwBotIKCd"
      },
      "outputs": [],
      "source": [
        "#dataset_waxal__clean_df.to_pickle(\"/content/drive/MyDrive/PROJETS/WOLOF_IA/SPEECH_TO_TEXT/DATA/CLEANED/DATA/dataset_waxal__clean_df.pkl\")"
      ]
    },
    {
      "cell_type": "markdown",
      "metadata": {
        "id": "6GlSUAdQIAsR"
      },
      "source": [
        "## Isma cleaning"
      ]
    },
    {
      "cell_type": "markdown",
      "metadata": {
        "id": "76CjPMRWIiC0"
      },
      "source": [
        "### Data loading"
      ]
    },
    {
      "cell_type": "code",
      "execution_count": null,
      "metadata": {
        "id": "ZEIUQGMJIj-o"
      },
      "outputs": [],
      "source": [
        "# dataset_alffa = load_dataset(\"Isma/alffa_wolof\")"
      ]
    },
    {
      "cell_type": "code",
      "execution_count": null,
      "metadata": {
        "id": "52ByPMmFImTH"
      },
      "outputs": [],
      "source": [
        "# print(f'the keys of the downloaded data are : {dataset_alffa.keys()}')"
      ]
    },
    {
      "cell_type": "code",
      "execution_count": null,
      "metadata": {
        "id": "SeDv9oTWIoHr"
      },
      "outputs": [],
      "source": [
        "# dataset_alffa_df_train = dataset_alffa['train'].to_pandas()\n",
        "# dataset_alffa_df_dev = dataset_alffa['dev'].to_pandas()"
      ]
    },
    {
      "cell_type": "code",
      "execution_count": null,
      "metadata": {
        "id": "Ro8FfnVdIqRC"
      },
      "outputs": [],
      "source": [
        "# dataset_alffa_df_train.head(3)"
      ]
    },
    {
      "cell_type": "code",
      "execution_count": null,
      "metadata": {
        "id": "U89q8qUZIzfG"
      },
      "outputs": [],
      "source": [
        "# dataset_alffa_df_dev.head(3)"
      ]
    },
    {
      "cell_type": "code",
      "execution_count": null,
      "metadata": {
        "id": "AGMBm8WSWG25"
      },
      "outputs": [],
      "source": [
        "# print(type(dataset_alffa_df_train['audio'][0]))"
      ]
    },
    {
      "cell_type": "markdown",
      "metadata": {
        "id": "UOhbVW1aI1YK"
      },
      "source": [
        "### Grouping all the data"
      ]
    },
    {
      "cell_type": "code",
      "execution_count": null,
      "metadata": {
        "id": "as_s2CweI3AG"
      },
      "outputs": [],
      "source": [
        "# # Assuming dataset_waxal_df_train, dataset_waxal_df_validation, dataset_waxal_df_test, dataset_waxal_2_df_test are your DataFrames\n",
        "# dataframes = [dataset_alffa_df_train, dataset_alffa_df_dev]\n",
        "\n",
        "# dataset_alffa_df = pd.concat(dataframes, axis=0, ignore_index=True)\n",
        "# dataset_alffa_df = create_id(dataset_alffa_df, len(dataset_waxal_df))\n",
        "# dataset_alffa_df.head(3)"
      ]
    },
    {
      "cell_type": "code",
      "execution_count": null,
      "metadata": {
        "id": "Drnjsb3wI4dz"
      },
      "outputs": [],
      "source": [
        "#dataset_alffa_df.to_pickle(\"/content/drive/MyDrive/PROJETS/WOLOF_IA/SPEECH_TO_TEXT/DATA/BRUT/CSV/dataset_alffa_df.pkl\")"
      ]
    },
    {
      "cell_type": "markdown",
      "metadata": {
        "id": "fj9RKFiEI502"
      },
      "source": [
        "### Sequence to WAV conversion"
      ]
    },
    {
      "cell_type": "code",
      "execution_count": null,
      "metadata": {
        "id": "WAmqUXSAI8Dc"
      },
      "outputs": [],
      "source": [
        "# # create a new dataframe to store the clean data from perrynelson\n",
        "# dataset_alffa_clean_df = pd.DataFrame()\n",
        "# dataset_alffa_clean_df = dataset_alffa_df[[\"id\", \"transcription\", \"audio\"]]\n",
        "# dataset_alffa_clean_df['filename'] = dataset_alffa_df.apply(lambda row: filename(row, \"isma\"), axis = 1)\n",
        "\n",
        "# dataset_alffa_clean_df.head(3)"
      ]
    },
    {
      "cell_type": "code",
      "execution_count": null,
      "metadata": {
        "id": "LvX3OiF5I9y1"
      },
      "outputs": [],
      "source": [
        "#dataset_alffa_clean_df.to_pickle(\"/content/drive/MyDrive/PROJETS/WOLOF_IA/SPEECH_TO_TEXT/DATA/CLEANED/DATA/dataset_alffa_clean_df.pkl\")"
      ]
    },
    {
      "cell_type": "markdown",
      "metadata": {
        "id": "BybioLt6JL4f"
      },
      "source": [
        "## serge-wilson cleaning"
      ]
    },
    {
      "cell_type": "markdown",
      "metadata": {
        "id": "0VglwFVlJN9Z"
      },
      "source": [
        "### Data loading"
      ]
    },
    {
      "cell_type": "code",
      "execution_count": null,
      "metadata": {
        "id": "kN8GJPQ_JPga"
      },
      "outputs": [],
      "source": [
        "# dataset_serge = load_dataset(\"serge-wilson/wolof_speech_transcription\")"
      ]
    },
    {
      "cell_type": "code",
      "execution_count": null,
      "metadata": {
        "id": "AClk6kJmJQ0i"
      },
      "outputs": [],
      "source": [
        "# print(f'the keys of the downloaded data are : {dataset_serge.keys()}')"
      ]
    },
    {
      "cell_type": "code",
      "execution_count": null,
      "metadata": {
        "id": "O-y4TRkfJSLe"
      },
      "outputs": [],
      "source": [
        "# dataset_serge_df_train = dataset_serge['train'].to_pandas()\n",
        "# dataset_serge_df_test = dataset_serge['test'].to_pandas()"
      ]
    },
    {
      "cell_type": "code",
      "execution_count": null,
      "metadata": {
        "id": "dUCVSd9OJT53"
      },
      "outputs": [],
      "source": [
        "# dataset_serge_df_train.head(3)"
      ]
    },
    {
      "cell_type": "code",
      "execution_count": null,
      "metadata": {
        "id": "of8k5tHzJYZf"
      },
      "outputs": [],
      "source": [
        "# dataset_serge_df_test.head(3)"
      ]
    },
    {
      "cell_type": "markdown",
      "metadata": {
        "id": "IIDkeBWFJzXS"
      },
      "source": [
        "### Grouping all the data"
      ]
    },
    {
      "cell_type": "code",
      "execution_count": null,
      "metadata": {
        "id": "eK9xWN4jJbg0"
      },
      "outputs": [],
      "source": [
        "# # Assuming dataset_waxal_df_train, dataset_waxal_df_validation, dataset_waxal_df_test, dataset_waxal_2_df_test are your DataFrames\n",
        "# dataframes = [dataset_serge_df_train, dataset_serge_df_test]\n",
        "\n",
        "# dataset_serge_df = pd.concat(dataframes, axis = 0, ignore_index=  True)\n",
        "# dataset_serge_df = create_id(dataset_serge_df, 18571)\n",
        "# dataset_serge_df.head(3)"
      ]
    },
    {
      "cell_type": "code",
      "execution_count": null,
      "metadata": {
        "id": "dbIJ3JCBJdxd"
      },
      "outputs": [],
      "source": [
        "#dataset_serge_df.to_pickle(\"/content/drive/MyDrive/PROJETS/WOLOF_IA/SPEECH_TO_TEXT/DATA/BRUT/CSV/dataset_serge_df.pkl\")"
      ]
    },
    {
      "cell_type": "markdown",
      "metadata": {
        "id": "0JiP2L1NJZpB"
      },
      "source": [
        "### Bytes to WAV conversion"
      ]
    },
    {
      "cell_type": "code",
      "execution_count": null,
      "metadata": {
        "id": "WPc6QLtmJiq2"
      },
      "outputs": [],
      "source": [
        "# # create a new dataframe to store the clean data from perrynelson\n",
        "# dataset_serge_clean_df = pd.DataFrame()\n",
        "# dataset_serge_clean_df['id'] = dataset_serge_df[\"id\"].copy()\n",
        "# dataset_serge_clean_df[\"transcription\"] = dataset_serge_df[\"sentence\"].copy()\n",
        "# dataset_serge_clean_df[\"audio\"] = dataset_serge_df.apply(lambda row: ByteWAV2Array(row), axis = 1)\n",
        "# dataset_serge_clean_df['filename'] = dataset_serge_df.apply(lambda row: filename(row, \"serge-wilson\"), axis = 1)\n",
        "\n",
        "# dataset_serge_clean_df.head(3)"
      ]
    },
    {
      "cell_type": "code",
      "execution_count": null,
      "metadata": {
        "id": "rxHbDbD2JkAf"
      },
      "outputs": [],
      "source": [
        "#dataset_serge_clean_df.to_pickle(\"/content/drive/MyDrive/PROJETS/WOLOF_IA/SPEECH_TO_TEXT/DATA/CLEANED/DATA/dataset_serge_clean_df.pkl\")"
      ]
    },
    {
      "cell_type": "markdown",
      "metadata": {
        "id": "0hASFaRZKQDA"
      },
      "source": [
        "## Final cleaned data"
      ]
    },
    {
      "cell_type": "code",
      "execution_count": null,
      "metadata": {
        "id": "S2y-wYQjKYHK"
      },
      "outputs": [],
      "source": [
        "# #dataset_waxal__clean_df = pd.read_pickle(\"/content/drive/MyDrive/PROJETS/WOLOF_IA/SPEECH_TO_TEXT/DATA/CLEANED/DATA/dataset_waxal__clean_df.pkl\")\n",
        "# #dataset_alffa_clean_df = pd.read_pickle(\"/content/drive/MyDrive/PROJETS/WOLOF_IA/SPEECH_TO_TEXT/DATA/CLEANED/DATA/dataset_alffa_clean_df.pkl\")\n",
        "# #dataset_serge_clean_df = pd.read_pickle(\"/content/drive/MyDrive/PROJETS/WOLOF_IA/SPEECH_TO_TEXT/DATA/CLEANED/DATA/dataset_serge_clean_df.csv\")\n",
        "\n",
        "# dataframes = [dataset_waxal__clean_df, dataset_alffa_clean_df, dataset_serge_clean_df]\n",
        "\n",
        "# dataset_tot_cleaned_df = pd.concat(dataframes, axis=0, ignore_index=True)\n",
        "# dataset_tot_cleaned_df.head(3)"
      ]
    },
    {
      "cell_type": "code",
      "execution_count": null,
      "metadata": {
        "id": "7VjkFQczKZe2"
      },
      "outputs": [],
      "source": [
        "# dataset_tot_cleaned_df.to_csv(\"/content/drive/MyDrive/PROJETS/WOLOF_IA/SPEECH_TO_TEXT/DATA/CLEANED/DATA/dataset_tot_cleaned_df.csv\")"
      ]
    },
    {
      "cell_type": "markdown",
      "metadata": {
        "id": "KbvOdbxzJ4-8"
      },
      "source": [
        "# MODEL DEVELOPPEMENT"
      ]
    },
    {
      "cell_type": "markdown",
      "metadata": {
        "id": "0mW-C1Nt-j7k"
      },
      "source": [
        "## Prepare Data, Tokenizer, Feature Extractor"
      ]
    },
    {
      "cell_type": "markdown",
      "metadata": {
        "id": "BeBosnY9BH3e"
      },
      "source": [
        "ASR models transcribe speech to text, which means that we both need a feature extractor that processes the speech signal to the model's input format, *e.g.* a feature vector, and a tokenizer that processes the model's output format to text.\n",
        "\n",
        "In 🤗 Transformers, the XLSR-Wav2Vec2 model is thus accompanied by both a tokenizer, called [Wav2Vec2CTCTokenizer](https://huggingface.co/transformers/master/model_doc/wav2vec2.html#wav2vec2ctctokenizer), and a feature extractor, called [Wav2Vec2FeatureExtractor](https://huggingface.co/transformers/master/model_doc/wav2vec2.html#wav2vec2featureextractor).\n",
        "\n",
        "Let's start by creating the tokenizer responsible for decoding the model's predictions."
      ]
    },
    {
      "cell_type": "markdown",
      "metadata": {
        "id": "sEXEWEJGQPqD"
      },
      "source": [
        "### Create Wav2Vec2CTCTokenizer"
      ]
    },
    {
      "cell_type": "markdown",
      "metadata": {
        "id": "tWmMikuNEKl_"
      },
      "source": [
        "The [pretrained Wav2Vec2 checkpoint]( ) maps the speech signal to a sequence of context representations as illustrated in the figure above. A fine-tuned XLSR-Wav2Vec2 checkpoint needs to map this sequence of context representations to its corresponding transcription so that a linear layer has to be added on top of the transformer block (shown in yellow). This linear layer is used to classifies each context representation to a token class analogous how, *e.g.*, after pretraining a linear layer is added on top of BERT's embeddings for further classification - *cf.* with *'BERT'* section of this [blog post](https://huggingface.co/blog/warm-starting-encoder-decoder).\n",
        "\n",
        "The output size of this layer corresponds to the number of tokens in the vocabulary, which does **not** depend on XLSR-Wav2Vec2's pretraining task, but only on the labeled dataset used for fine-tuning. So in the first step, we will take a look at Common Voice and define a vocabulary based on the dataset's transcriptions."
      ]
    },
    {
      "cell_type": "markdown",
      "metadata": {
        "id": "idBczw8mWzgt"
      },
      "source": [
        "First, let's go to [Common Voice](https://commonvoice.mozilla.org/en/datasets) and pick a language to fine-tune XLSR-Wav2Vec2 on. For this notebook, we will use Turkish.\n",
        "\n",
        "For each language-specific dataset, you can find a language code corresponding to your chosen language. On [Common Voice](https://commonvoice.mozilla.org/en/datasets), look for the field \"Version\". The language code then corresponds to the prefix before the underscore. For Turkish, *e.g.* the language code is `\"tr\"`.\n",
        "\n",
        "Great, now we can use 🤗 Datasets' simple API to download the data. The dataset name will be `\"common_voice\"`, the config name corresponds to the language code - `\"tr\"` in our case."
      ]
    },
    {
      "cell_type": "markdown",
      "metadata": {
        "id": "bee4g9rpLxll"
      },
      "source": [
        "Common Voice has many different splits including `invalidated`, which refers to data that was not rated as \"clean enough\" to be considered useful. In this notebook, we will only make use of the splits `\"train\"`, `\"validation\"` and `\"test\"`.\n",
        "\n",
        "Because the Turkish dataset is so small, we will merge both the validation and training data into a training dataset and simply use the test data for validation."
      ]
    },
    {
      "cell_type": "code",
      "execution_count": 2,
      "metadata": {
        "id": "oL23iWu7G0Ka"
      },
      "outputs": [],
      "source": [
        "from datasets import load_dataset, load_metric, Audio\n",
        "import gc\n",
        "import numpy as np\n",
        "import pandas as pd\n",
        "import wave\n",
        "import os\n",
        "import io\n",
        "import librosa"
      ]
    },
    {
      "cell_type": "code",
      "execution_count": 5,
      "metadata": {
        "id": "2MMXcWFFgCXU"
      },
      "outputs": [],
      "source": [
        "os.chdir(r\"C:\\Users\\maron\\OneDrive\\02-Documents\\03.PROJETS\\00.INFORMATIQUE\\02.AI\\WOLOF\\SPEECH_TO_TEXT\")"
      ]
    },
    {
      "cell_type": "code",
      "execution_count": 6,
      "metadata": {
        "id": "nvw6F24JL8VS"
      },
      "outputs": [
        {
          "data": {
            "text/html": [
              "<div>\n",
              "<style scoped>\n",
              "    .dataframe tbody tr th:only-of-type {\n",
              "        vertical-align: middle;\n",
              "    }\n",
              "\n",
              "    .dataframe tbody tr th {\n",
              "        vertical-align: top;\n",
              "    }\n",
              "\n",
              "    .dataframe thead th {\n",
              "        text-align: right;\n",
              "    }\n",
              "</style>\n",
              "<table border=\"1\" class=\"dataframe\">\n",
              "  <thead>\n",
              "    <tr style=\"text-align: right;\">\n",
              "      <th></th>\n",
              "      <th>Unnamed: 0</th>\n",
              "      <th>id</th>\n",
              "      <th>transcription</th>\n",
              "      <th>length</th>\n",
              "      <th>filename</th>\n",
              "      <th>audio</th>\n",
              "    </tr>\n",
              "  </thead>\n",
              "  <tbody>\n",
              "    <tr>\n",
              "      <th>0</th>\n",
              "      <td>0</td>\n",
              "      <td>1</td>\n",
              "      <td>jén fa nga ko jàppe soo ko fa sange mu rëcc</td>\n",
              "      <td>5.968</td>\n",
              "      <td>isma_1_WOL.wav</td>\n",
              "      <td>[0.0, 0.0002746582, -0.0009460449, 0.031341553...</td>\n",
              "    </tr>\n",
              "  </tbody>\n",
              "</table>\n",
              "</div>"
            ],
            "text/plain": [
              "   Unnamed: 0  id                                 transcription  length  \\\n",
              "0           0   1   jén fa nga ko jàppe soo ko fa sange mu rëcc   5.968   \n",
              "\n",
              "         filename                                              audio  \n",
              "0  isma_1_WOL.wav  [0.0, 0.0002746582, -0.0009460449, 0.031341553...  "
            ]
          },
          "execution_count": 6,
          "metadata": {},
          "output_type": "execute_result"
        }
      ],
      "source": [
        "df_alffa = pd.read_pickle(r\"DATA\\CLEANED\\alffa\\alffa_tot.pkl\")\n",
        "df_alffa.head(1)"
      ]
    },
    {
      "cell_type": "code",
      "execution_count": 89,
      "metadata": {},
      "outputs": [],
      "source": [
        "number_of_rows = 100\n",
        "df_alffa = df_alffa.head(number_of_rows)"
      ]
    },
    {
      "cell_type": "markdown",
      "metadata": {
        "id": "Go9Hq4e4NDT9"
      },
      "source": [
        "Let's write a short function to display some random samples of the dataset and run it a couple of times to get a feeling for the transcriptions."
      ]
    },
    {
      "cell_type": "code",
      "execution_count": 90,
      "metadata": {
        "id": "72737oog2F6U"
      },
      "outputs": [],
      "source": [
        "\n",
        "\n",
        "# Assuming df_audio_path is a DataFrame and you want to display a random sample\n",
        "# Make sure df_audio_path has the necessary columns\n",
        "\n",
        "def show_random_elements(dataset, num_examples=10):\n",
        "    assert num_examples <= len(dataset), \"Can't pick more elements than there are in the dataset.\"\n",
        "    picks = []\n",
        "    for _ in range(num_examples):\n",
        "        pick = random.randint(0, len(dataset)-1)\n",
        "        while pick in picks:\n",
        "            pick = random.randint(0, len(dataset)-1)\n",
        "        picks.append(pick)\n",
        "\n",
        "    # Use iloc to select rows by integer index\n",
        "    df_sample = dataset.iloc[picks]\n",
        "    display(HTML(df_sample.to_html()))"
      ]
    },
    {
      "cell_type": "code",
      "execution_count": 91,
      "metadata": {
        "colab": {
          "base_uri": "https://localhost:8080/",
          "height": 1000
        },
        "id": "K_JUmf3G3b9S",
        "outputId": "961c4696-40c3-464b-942d-a2c9bb6e6bf9"
      },
      "outputs": [
        {
          "data": {
            "text/html": [
              "<table border=\"1\" class=\"dataframe\">\n",
              "  <thead>\n",
              "    <tr style=\"text-align: right;\">\n",
              "      <th></th>\n",
              "      <th>Unnamed: 0</th>\n",
              "      <th>id</th>\n",
              "      <th>transcription</th>\n",
              "      <th>length</th>\n",
              "      <th>filename</th>\n",
              "      <th>audio</th>\n",
              "    </tr>\n",
              "  </thead>\n",
              "  <tbody>\n",
              "    <tr>\n",
              "      <th>2</th>\n",
              "      <td>2</td>\n",
              "      <td>3</td>\n",
              "      <td>dañu ko logal moo tax déggatuloo ko</td>\n",
              "      <td>5.608</td>\n",
              "      <td>isma_3_WOL.wav</td>\n",
              "      <td>[6.1035156e-05, -0.00015258789, 0.00033569336, -0.005004883, -0.005554199, -0.002319336, -0.002532959, -0.004486084, -0.0056152344, -0.0067749023, -0.0059814453, -0.005340576, -0.0052490234, -0.004058838, -0.007507324, -0.006866455, -0.006591797, -0.0055236816, -0.0026855469, -0.0020446777, -0.001953125, -0.0037231445, -0.0024414062, -0.0024414062, -0.002532959, -0.0022583008, -0.0034484863, -0.0024719238, -0.004486084, -0.006439209, -0.0060424805, -0.0058288574, -0.004852295, -0.0038146973, -0.0030822754, -0.0025634766, -0.0008239746, -0.0007324219, -0.0026245117, -0.0038146973, -0.0071411133, -0.006591797, -0.005584717, -0.0057373047, -0.0029907227, -0.002105713, -0.0015258789, -0.0020446777, -0.0018920898, -0.002166748, -0.0038757324, -0.003326416, -0.0025634766, -0.002166748, -0.00039672852, 0.0015258789, 0.0008544922, 0.0004272461, -0.00061035156, -0.0032348633, -0.003540039, -0.0037841797, -0.0050354004, -0.003753662, -0.0020751953, -0.0032348633, -0.0027160645, -0.0017700195, -0.0016479492, -0.00091552734, -0.000579834, -0.0023498535, -0.0025634766, -0.001373291, -0.00064086914, 0.00091552734, 0.00012207031, -0.0028381348, -0.005126953, -0.005706787, -0.0050354004, -0.0046081543, -0.0047302246, -0.002960205, -0.0010986328, -0.0017700195, -0.0019836426, -0.0020141602, -0.00289917, -0.002380371, -0.004180908, -0.00491333, -0.0050964355, -0.003112793, -0.0026245117, -0.004425049, -0.0028686523, -0.0026245117, -0.002166748, -0.002960205, ...]</td>\n",
              "    </tr>\n",
              "  </tbody>\n",
              "</table>"
            ],
            "text/plain": [
              "<IPython.core.display.HTML object>"
            ]
          },
          "metadata": {},
          "output_type": "display_data"
        }
      ],
      "source": [
        "show_random_elements(df_alffa, num_examples=1)"
      ]
    },
    {
      "cell_type": "markdown",
      "metadata": {
        "id": "fowcOllGNNju"
      },
      "source": [
        "Alright! The transcriptions look fairly clean. Having translated the transcribed sentences, it seems that the language corresponds more to written-out text than noisy dialogue. This makes sense considering that [Common Voice](https://huggingface.co/datasets/common_voice) is a crowd-sourced read speech corpus."
      ]
    },
    {
      "cell_type": "markdown",
      "metadata": {
        "id": "vq7OR50LN49m"
      },
      "source": [
        "We can see that the transcriptions contain some special characters, such as `,.?!;:`. Without a language model, it is much harder to classify speech chunks to such special characters because they don't really correspond to a characteristic sound unit. *E.g.*, the letter `\"s\"` has a more or less clear sound, whereas the special character `\".\"` does not.\n",
        "Also in order to understand the meaning of a speech signal, it is usually not necessary to include special characters in the transcription.\n",
        "\n",
        "In addition, we normalize the text to only have lower case letters and append a word separator token at the end."
      ]
    },
    {
      "cell_type": "code",
      "execution_count": 92,
      "metadata": {
        "id": "svKzVJ_hQGK6"
      },
      "outputs": [],
      "source": [
        "import re\n",
        "\n",
        "chars_to_ignore_regex = r'[,?\\.\\!\\-\\;:\"“%\\‘”�\\r\\n*/\\(\\)0-9]'\n",
        "\n",
        "def remove_special_characters(sentence):\n",
        "    return re.sub(chars_to_ignore_regex, '', sentence).lower() + \" \"\n",
        "\n",
        "# Assuming \"transcription\" is the name of the column you want to process\n",
        "df_alffa[\"transcription\"] = df_alffa[\"transcription\"].apply(remove_special_characters)"
      ]
    },
    {
      "cell_type": "code",
      "execution_count": 93,
      "metadata": {
        "colab": {
          "base_uri": "https://localhost:8080/",
          "height": 532
        },
        "id": "RBDRAAYxRE6n",
        "outputId": "d5c9301b-da4d-415d-c167-ef39831c65be"
      },
      "outputs": [
        {
          "data": {
            "text/html": [
              "<table border=\"1\" class=\"dataframe\">\n",
              "  <thead>\n",
              "    <tr style=\"text-align: right;\">\n",
              "      <th></th>\n",
              "      <th>Unnamed: 0</th>\n",
              "      <th>id</th>\n",
              "      <th>transcription</th>\n",
              "      <th>length</th>\n",
              "      <th>filename</th>\n",
              "      <th>audio</th>\n",
              "    </tr>\n",
              "  </thead>\n",
              "  <tbody>\n",
              "    <tr>\n",
              "      <th>0</th>\n",
              "      <td>0</td>\n",
              "      <td>1</td>\n",
              "      <td>jén fa nga ko jàppe soo ko fa sange mu rëcc</td>\n",
              "      <td>5.968</td>\n",
              "      <td>isma_1_WOL.wav</td>\n",
              "      <td>[0.0, 0.0002746582, -0.0009460449, 0.031341553, 0.03933716, 0.031677246, 0.034454346, 0.03643799, 0.0345459, 0.032836914, 0.041656494, 0.042755127, 0.04034424, 0.036590576, 0.034851074, 0.0435791, 0.036499023, 0.02947998, 0.03527832, 0.039031982, 0.04525757, 0.05117798, 0.043701172, 0.035095215, 0.037750244, 0.035827637, 0.033691406, 0.037506104, 0.035217285, 0.035705566, 0.042816162, 0.04586792, 0.05316162, 0.043426514, 0.04248047, 0.041046143, 0.031799316, 0.03652954, 0.040161133, 0.04196167, 0.04559326, 0.048950195, 0.05050659, 0.052001953, 0.05050659, 0.05130005, 0.04989624, 0.049316406, 0.052612305, 0.051605225, 0.051452637, 0.053222656, 0.04748535, 0.049865723, 0.05508423, 0.050964355, 0.052947998, 0.0552063, 0.057250977, 0.059051514, 0.061584473, 0.06439209, 0.06561279, 0.06439209, 0.055114746, 0.05593872, 0.056732178, 0.051757812, 0.056030273, 0.057434082, 0.05441284, 0.051452637, 0.045196533, 0.05117798, 0.056640625, 0.05493164, 0.052093506, 0.052459717, 0.052856445, 0.053222656, 0.05117798, 0.053619385, 0.0541687, 0.052612305, 0.052581787, 0.052734375, 0.06604004, 0.060302734, 0.046875, 0.042999268, 0.053253174, 0.063934326, 0.05883789, 0.048797607, 0.046325684, 0.058288574, 0.0708313, 0.060424805, 0.04736328, 0.04397583, ...]</td>\n",
              "    </tr>\n",
              "  </tbody>\n",
              "</table>"
            ],
            "text/plain": [
              "<IPython.core.display.HTML object>"
            ]
          },
          "metadata": {},
          "output_type": "display_data"
        }
      ],
      "source": [
        "show_random_elements(df_alffa, num_examples=1)"
      ]
    },
    {
      "cell_type": "markdown",
      "metadata": {
        "id": "jwfaptH5RJwA"
      },
      "source": [
        "Good! This looks better. We have removed most special characters from transcriptions and normalized them to lower-case only.\n",
        "\n",
        "In CTC, it is common to classify speech chunks into letters, so we will do the same here.\n",
        "Let's extract all distinct letters of the training and test data and build our vocabulary from this set of letters.\n",
        "\n",
        "We write a mapping function that concatenates all transcriptions into one long transcription and then transforms the string into a set of chars.\n",
        "It is important to pass the argument `batched=True` to the `map(...)` function so that the mapping function has access to all transcriptions at once."
      ]
    },
    {
      "cell_type": "code",
      "execution_count": 94,
      "metadata": {
        "id": "z-Z2lUq5C1jf"
      },
      "outputs": [],
      "source": [
        "from sklearn.model_selection import train_test_split\n",
        "X_train, X_test, y_train, y_test = train_test_split(\n",
        "    df_alffa[[\"transcription\", \"filename\"]],  # Features (input data)\n",
        "    df_alffa[\"audio\"],     # Labels (target variable)\n",
        "    test_size=0.2,              # Proportion of the dataset to include in the test split\n",
        "    random_state=42             # Seed for reproducibility\n",
        ")\n",
        "\n",
        "# Create training DataFrame\n",
        "df_audio_path_train = pd.DataFrame({\"sentence\": X_train['transcription'],\"path\": X_train['filename'] , \"audio\": y_train})\n",
        "\n",
        "# Create testing DataFrame\n",
        "df_audio_path_test = pd.DataFrame({\"sentence\": X_test['transcription'],\"path\": X_test['filename'], \"audio\": y_test})"
      ]
    },
    {
      "cell_type": "code",
      "execution_count": 95,
      "metadata": {
        "colab": {
          "base_uri": "https://localhost:8080/",
          "height": 428
        },
        "id": "H91UCy36EGJw",
        "outputId": "75c02ada-1d99-4edd-994e-4485b9b1211c"
      },
      "outputs": [
        {
          "data": {
            "text/html": [
              "<table border=\"1\" class=\"dataframe\">\n",
              "  <thead>\n",
              "    <tr style=\"text-align: right;\">\n",
              "      <th></th>\n",
              "      <th>sentence</th>\n",
              "      <th>path</th>\n",
              "      <th>audio</th>\n",
              "    </tr>\n",
              "  </thead>\n",
              "  <tbody>\n",
              "    <tr>\n",
              "      <th>1</th>\n",
              "      <td>ngorsi kat masu maa jaar buroom di tataani</td>\n",
              "      <td>isma_2_WOL.wav</td>\n",
              "      <td>[0.0, -9.1552734e-05, 0.00030517578, -0.008117676, -0.011932373, -0.011169434, -0.011352539, -0.010314941, -0.0121154785, -0.009185791, -0.0069885254, -0.006958008, -0.0061035156, -0.0055236816, -0.0051879883, -0.00592041, -0.0065307617, -0.007293701, -0.0067749023, -0.0065307617, -0.0070495605, -0.0058898926, -0.004699707, -0.004852295, -0.0032043457, -0.001159668, -0.0011291504, -0.000579834, -0.0016784668, -0.0021972656, -0.0018005371, -0.00048828125, 0.000579834, 0.0004272461, 0.0014038086, -6.1035156e-05, 3.0517578e-05, 9.1552734e-05, 0.0006713867, -0.0006713867, -0.00021362305, 0.0024108887, 0.002532959, 0.0035095215, 0.0030517578, 0.0022583008, -0.00064086914, -0.0005187988, -0.0019226074, -0.0030517578, -0.0031433105, -0.0016479492, -0.0007019043, -0.0009765625, -0.0016174316, -0.0028076172, -0.0021972656, -0.0018920898, -0.0014038086, -0.0035705566, -0.0043640137, -0.0028381348, -0.0031738281, -0.0027160645, -0.0018920898, -0.0038146973, -0.0020446777, -0.003753662, -0.0051879883, -0.006713867, -0.008422852, -0.008758545, -0.010467529, -0.0069274902, -0.004547119, -0.005065918, -0.0073547363, -0.008026123, -0.009307861, -0.011016846, -0.01071167, -0.011108398, -0.008514404, -0.006378174, -0.008636475, -0.009796143, -0.010101318, -0.012573242, -0.012878418, -0.011657715, -0.011291504, -0.010986328, -0.010650635, -0.009979248, -0.011169434, -0.010559082, -0.009918213, -0.010345459, -0.008575439, -0.011199951, ...]</td>\n",
              "    </tr>\n",
              "  </tbody>\n",
              "</table>"
            ],
            "text/plain": [
              "<IPython.core.display.HTML object>"
            ]
          },
          "metadata": {},
          "output_type": "display_data"
        }
      ],
      "source": [
        "show_random_elements(df_audio_path_train, num_examples=1)"
      ]
    },
    {
      "cell_type": "code",
      "execution_count": 96,
      "metadata": {
        "colab": {
          "base_uri": "https://localhost:8080/",
          "height": 410
        },
        "id": "gn_px-dnETxC",
        "outputId": "eb9ffcea-3d68-4b9e-e6ad-7691a20be617"
      },
      "outputs": [
        {
          "data": {
            "text/html": [
              "<table border=\"1\" class=\"dataframe\">\n",
              "  <thead>\n",
              "    <tr style=\"text-align: right;\">\n",
              "      <th></th>\n",
              "      <th>sentence</th>\n",
              "      <th>path</th>\n",
              "      <th>audio</th>\n",
              "    </tr>\n",
              "  </thead>\n",
              "  <tbody>\n",
              "    <tr>\n",
              "      <th>0</th>\n",
              "      <td>jén fa nga ko jàppe soo ko fa sange mu rëcc</td>\n",
              "      <td>isma_1_WOL.wav</td>\n",
              "      <td>[0.0, 0.0002746582, -0.0009460449, 0.031341553, 0.03933716, 0.031677246, 0.034454346, 0.03643799, 0.0345459, 0.032836914, 0.041656494, 0.042755127, 0.04034424, 0.036590576, 0.034851074, 0.0435791, 0.036499023, 0.02947998, 0.03527832, 0.039031982, 0.04525757, 0.05117798, 0.043701172, 0.035095215, 0.037750244, 0.035827637, 0.033691406, 0.037506104, 0.035217285, 0.035705566, 0.042816162, 0.04586792, 0.05316162, 0.043426514, 0.04248047, 0.041046143, 0.031799316, 0.03652954, 0.040161133, 0.04196167, 0.04559326, 0.048950195, 0.05050659, 0.052001953, 0.05050659, 0.05130005, 0.04989624, 0.049316406, 0.052612305, 0.051605225, 0.051452637, 0.053222656, 0.04748535, 0.049865723, 0.05508423, 0.050964355, 0.052947998, 0.0552063, 0.057250977, 0.059051514, 0.061584473, 0.06439209, 0.06561279, 0.06439209, 0.055114746, 0.05593872, 0.056732178, 0.051757812, 0.056030273, 0.057434082, 0.05441284, 0.051452637, 0.045196533, 0.05117798, 0.056640625, 0.05493164, 0.052093506, 0.052459717, 0.052856445, 0.053222656, 0.05117798, 0.053619385, 0.0541687, 0.052612305, 0.052581787, 0.052734375, 0.06604004, 0.060302734, 0.046875, 0.042999268, 0.053253174, 0.063934326, 0.05883789, 0.048797607, 0.046325684, 0.058288574, 0.0708313, 0.060424805, 0.04736328, 0.04397583, ...]</td>\n",
              "    </tr>\n",
              "  </tbody>\n",
              "</table>"
            ],
            "text/plain": [
              "<IPython.core.display.HTML object>"
            ]
          },
          "metadata": {},
          "output_type": "display_data"
        }
      ],
      "source": [
        "show_random_elements(df_audio_path_test, num_examples=1)"
      ]
    },
    {
      "cell_type": "code",
      "execution_count": 97,
      "metadata": {
        "id": "LwCshNbbeRZR"
      },
      "outputs": [],
      "source": [
        "def extract_all_chars(sentence_column):\n",
        "    all_text = \" \".join(sentence_column)\n",
        "    vocab = list(set(all_text))\n",
        "    return {\"vocab\": [vocab], \"all_text\": [all_text]}\n",
        "\n",
        "# Assuming \"sentence\" is the name of the column containing sentences\n",
        "vocab_train = extract_all_chars(df_audio_path_train[\"sentence\"].tolist())\n",
        "vocab_test = extract_all_chars(df_audio_path_test[\"sentence\"].tolist())"
      ]
    },
    {
      "cell_type": "markdown",
      "metadata": {
        "id": "7oVgE8RZSJNP"
      },
      "source": [
        "Now, we create the union of all distinct letters in the training dataset and test dataset and convert the resulting list into an enumerated dictionary."
      ]
    },
    {
      "cell_type": "code",
      "execution_count": 98,
      "metadata": {
        "id": "aQfneNsmlJI0"
      },
      "outputs": [],
      "source": [
        "vocab_list = list(set(vocab_train[\"vocab\"][0]) | set(vocab_test[\"vocab\"][0]))\n",
        "vocab_list= list(set(vocab_list))"
      ]
    },
    {
      "cell_type": "code",
      "execution_count": 99,
      "metadata": {
        "colab": {
          "base_uri": "https://localhost:8080/"
        },
        "id": "_0kRndSvqaKk",
        "outputId": "58b5026b-1e79-4623-ffd4-865d3f45d190"
      },
      "outputs": [
        {
          "data": {
            "text/plain": [
              "{'ñ': 0,\n",
              " 'r': 1,\n",
              " 's': 2,\n",
              " 'f': 3,\n",
              " 'ë': 4,\n",
              " 'e': 5,\n",
              " 'u': 6,\n",
              " 'é': 7,\n",
              " 'j': 8,\n",
              " 'à': 9,\n",
              " 'p': 10,\n",
              " 'b': 11,\n",
              " 'g': 12,\n",
              " 'k': 13,\n",
              " 'l': 14,\n",
              " 'a': 15,\n",
              " 'c': 16,\n",
              " 'x': 17,\n",
              " 'd': 18,\n",
              " 'i': 19,\n",
              " 'n': 20,\n",
              " 't': 21,\n",
              " 'm': 22,\n",
              " ' ': 23,\n",
              " 'o': 24}"
            ]
          },
          "execution_count": 99,
          "metadata": {},
          "output_type": "execute_result"
        }
      ],
      "source": [
        "vocab_dict = {v: k for k, v in enumerate(vocab_list)}\n",
        "vocab_dict"
      ]
    },
    {
      "cell_type": "markdown",
      "metadata": {
        "id": "JOSzbvs9SXT1"
      },
      "source": [
        "Cool, we see that all letters of the alphabet occur in the dataset (which is not really surprising) and we also extracted the special characters `\" \"` and `'`. Note that we did not exclude those special characters because:\n",
        "\n",
        "- The model has to learn to predict when a word is finished or else the model prediction would always be a sequence of chars which would make it impossible to separate words from each other.\n",
        "- From the transcriptions above it seems that words that include an apostrophe, such as `maktouf'un` do exist in Turkish, so I decided to keep the apostrophe in the dataset. This might be a wrong assumption though.\n",
        "\n",
        "One should always keep in mind that the data-preprocessing is a very important step before training your model. E.g., we don't want our model to differentiate between `a` and `A` just because we forgot to normalize the data. The difference between `a` and `A` does not depend on the \"sound\" of the letter at all, but more on grammatical rules - *e.g.* use a capitalized letter at the beginning of the sentence. So it is sensible to remove the difference between capitalized and non-capitalized letters so that the model has an easier time learning to transcribe speech.\n",
        "\n",
        "It is always advantageous to get help from a native speaker of the language you would like to transcribe to verify whether the assumptions you made are sensible, *e.g.* I should have made sure that keeping `'`, but removing other special characters is a sensible choice for Turkish."
      ]
    },
    {
      "cell_type": "markdown",
      "metadata": {
        "id": "b1fBRCn-TRaO"
      },
      "source": [
        "To make it clearer that `\" \"` has its own token class, we give it a more visible character `|`. In addition, we also add an \"unknown\" token so that the model can later deal with characters not encountered in Common Voice's training set.\n",
        "\n",
        "Finally, we also add a padding token that corresponds to CTC's \"*blank token*\". The \"blank token\" is a core component of the CTC algorithm. For more information, please take a look at the \"Alignment\" section [here](https://distill.pub/2017/ctc/)."
      ]
    },
    {
      "cell_type": "code",
      "execution_count": 100,
      "metadata": {
        "id": "npbIbBoLgaFX"
      },
      "outputs": [],
      "source": [
        "vocab_dict[\"|\"] = vocab_dict[\" \"]\n",
        "del vocab_dict[\" \"]"
      ]
    },
    {
      "cell_type": "code",
      "execution_count": 101,
      "metadata": {
        "colab": {
          "base_uri": "https://localhost:8080/"
        },
        "id": "znF0bNunsjbl",
        "outputId": "52064db2-9f10-48b4-fc89-770d4178ade1"
      },
      "outputs": [
        {
          "data": {
            "text/plain": [
              "27"
            ]
          },
          "execution_count": 101,
          "metadata": {},
          "output_type": "execute_result"
        }
      ],
      "source": [
        "vocab_dict[\"[UNK]\"] = len(vocab_dict)\n",
        "vocab_dict[\"[PAD]\"] = len(vocab_dict)\n",
        "len(vocab_dict)"
      ]
    },
    {
      "cell_type": "markdown",
      "metadata": {
        "id": "SFPGfet8U5sL"
      },
      "source": [
        "Cool, now our vocabulary is complete and consists of 53 tokens, which means that the linear layer that we will add on top of the pretrained XLSR-Wav2Vec2 checkpoint will have an output dimension of 53."
      ]
    },
    {
      "cell_type": "markdown",
      "metadata": {
        "id": "1CujRgBNVRaD"
      },
      "source": [
        "Let's now save the vocabulary as a json file."
      ]
    },
    {
      "cell_type": "code",
      "execution_count": 102,
      "metadata": {
        "id": "ehyUoh9vk191"
      },
      "outputs": [],
      "source": [
        "model_path = r\"DATA\\MODEL\\VOCABS\"\n",
        "\n",
        "import json\n",
        "with open(model_path +'/vocab.json', 'w') as vocab_file:\n",
        "    json.dump(vocab_dict, vocab_file)"
      ]
    },
    {
      "cell_type": "markdown",
      "metadata": {
        "id": "SHJDaKlIVVim"
      },
      "source": [
        "In a final step, we use the json file to instantiate an object of the `Wav2Vec2CTCTokenizer` class."
      ]
    },
    {
      "cell_type": "code",
      "execution_count": 103,
      "metadata": {
        "id": "xriFGEWQkO4M"
      },
      "outputs": [],
      "source": [
        "from transformers import Wav2Vec2CTCTokenizer\n",
        "\n",
        "tokenizer = Wav2Vec2CTCTokenizer(model_path + \"/vocab.json\", unk_token=\"[UNK]\", pad_token=\"[PAD]\", word_delimiter_token=\"|\")"
      ]
    },
    {
      "cell_type": "markdown",
      "metadata": {
        "id": "KvL12DrNV4cx"
      },
      "source": [
        "Next, we will create the feature extractor."
      ]
    },
    {
      "cell_type": "markdown",
      "metadata": {
        "id": "mYcIiR2FQ96i"
      },
      "source": [
        "### Create XLSR-Wav2Vec2 Feature Extractor"
      ]
    },
    {
      "cell_type": "markdown",
      "metadata": {
        "id": "Y6mDEyW719rx"
      },
      "source": [
        "Speech is a continuous signal and to be treated by computers, it first has to be discretized, which is usually called **sampling**. The sampling rate hereby plays an important role in that it defines how many data points of the speech signal are measured per second. Therefore, sampling with a higher sampling rate results in a better approximation of the *real* speech signal but also necessitates more values per second.\n",
        "\n",
        "A pretrained checkpoint expects its input data to have been sampled more or less from the same distribution as the data it was trained on. The same speech signals sampled at two different rates have a very different distribution, *e.g.*, doubling the sampling rate results in data points being twice as long. Thus,\n",
        "before fine-tuning a pretrained checkpoint of an ASR model, it is crucial to verify that the sampling rate of the data that was used to pretrain the model matches the sampling rate of the dataset used to fine-tune the model.\n",
        "\n",
        "XLSR-Wav2Vec2 was pretrained on the audio data of [Babel](https://huggingface.co/datasets/librispeech_asr),\n",
        "[Multilingual LibriSpeech (MLS)](https://ai.facebook.com/blog/a-new-open-data-set-for-multilingual-speech-research/), and [Common Voice](https://huggingface.co/datasets/common_voice). Most of those datasets were sampled at 16kHz, so that Common Voice, sampled at 48kHz, has to be downsampled to 16kHz for training. Therefore, we will have to downsample our fine-tuning data to 16kHz in the following.\n",
        "\n"
      ]
    },
    {
      "cell_type": "markdown",
      "metadata": {
        "id": "KuUbPW7oV-B5"
      },
      "source": [
        "A XLSR-Wav2Vec2 feature extractor object requires the following parameters to be instantiated:\n",
        "\n",
        "- `feature_size`: Speech models take a sequence of feature vectors as an input. While the length of this sequence obviously varies, the feature size should not. In the case of Wav2Vec2, the feature size is 1 because the model was trained on the raw speech signal ${}^2$.\n",
        "- `sampling_rate`: The sampling rate at which the model is trained on.\n",
        "- `padding_value`: For batched inference, shorter inputs need to be padded with a specific value\n",
        "- `do_normalize`: Whether the input should be *zero-mean-unit-variance* normalized or not. Usually, speech models perform better when normalizing the input\n",
        "- `return_attention_mask`: Whether the model should make use of an `attention_mask` for batched inference. In general, XLSR-Wav2Vec2 models should **always** make use of the `attention_mask`."
      ]
    },
    {
      "cell_type": "code",
      "execution_count": 104,
      "metadata": {
        "id": "kAR0-2KLkopp"
      },
      "outputs": [],
      "source": [
        "from transformers import Wav2Vec2FeatureExtractor\n",
        "\n",
        "feature_extractor = Wav2Vec2FeatureExtractor(feature_size=1, sampling_rate=16000, padding_value=0.0, do_normalize=True, return_attention_mask=True)"
      ]
    },
    {
      "cell_type": "markdown",
      "metadata": {
        "id": "qUETetgqYC3W"
      },
      "source": [
        "Great, XLSR-Wav2Vec2's feature extraction pipeline is thereby fully defined!\n",
        "\n",
        "To make the usage of XLSR-Wav2Vec2 as user-friendly as possible, the feature extractor and tokenizer are *wrapped* into a single `Wav2Vec2Processor` class so that one only needs a `model` and `processor` object."
      ]
    },
    {
      "cell_type": "code",
      "execution_count": 105,
      "metadata": {
        "id": "KYZtoW-tlZgl"
      },
      "outputs": [],
      "source": [
        "from transformers import Wav2Vec2Processor\n",
        "\n",
        "processor = Wav2Vec2Processor(feature_extractor=feature_extractor, tokenizer=tokenizer)"
      ]
    },
    {
      "cell_type": "markdown",
      "metadata": {
        "id": "fTfFDSS0YfMN"
      },
      "source": [
        "If one wants to re-use the just created processor and the fine-tuned model of this notebook, one can mount his/her google drive to the notebook and save all relevant files there. To do so, please uncomment the following lines.\n",
        "\n",
        "We will give the fine-tuned model the name `\"wav2vec2-large-xlsr-turkish-demo\"`."
      ]
    },
    {
      "cell_type": "code",
      "execution_count": 106,
      "metadata": {
        "id": "Par9rpypPsml"
      },
      "outputs": [
        {
          "data": {
            "text/plain": [
              "[]"
            ]
          },
          "execution_count": 106,
          "metadata": {},
          "output_type": "execute_result"
        }
      ],
      "source": [
        "processor.save_pretrained(model_path)"
      ]
    },
    {
      "cell_type": "markdown",
      "metadata": {
        "id": "DrKnYuvDIoOO"
      },
      "source": [
        "Next, we can prepare the dataset."
      ]
    },
    {
      "cell_type": "markdown",
      "metadata": {
        "id": "YFmShnl7RE35"
      },
      "source": [
        "### Preprocess Data\n",
        "\n",
        "So far, we have not looked at the actual values of the speech signal but just the transcriptio. In addition to `sentence`, our datasets include two more column names `path` and `audio`. `path` states the absolute path of the audio file. Let's take a look.\n"
      ]
    },
    {
      "cell_type": "code",
      "execution_count": 107,
      "metadata": {
        "colab": {
          "base_uri": "https://localhost:8080/",
          "height": 36
        },
        "id": "TTCS7W6XJ9BG",
        "outputId": "87bf8f3e-6f99-44ea-f488-c983dda8fd30"
      },
      "outputs": [
        {
          "data": {
            "text/plain": [
              "'isma_2_WOL.wav'"
            ]
          },
          "execution_count": 107,
          "metadata": {},
          "output_type": "execute_result"
        }
      ],
      "source": [
        "df_audio_path_train[\"path\"].iloc[0]"
      ]
    },
    {
      "cell_type": "markdown",
      "metadata": {
        "id": "T6ndIjHGFp0W"
      },
      "source": [
        "However, `XLSR-Wav2Vec2` expects the input in the format of a 1-dimensional array of 16 kHz. This means that the audio file has to be loaded and resampled.\n",
        "\n",
        " Thankfully, `datasets` does this automatically by calling the other column `audio`. Let try it out."
      ]
    },
    {
      "cell_type": "markdown",
      "metadata": {
        "id": "WUUTgI1bGHW-"
      },
      "source": [
        "Great, we can see that the audio file has automatically been loaded. This is thanks to the new [`\"Audio\"` feature](https://huggingface.co/docs/datasets/package_reference/main_classes.html?highlight=audio#datasets.Audio) introduced in `datasets == 4.13.3`, which loads and resamples audio files on-the-fly upon calling.\n",
        "\n",
        "In the example above we can see that the audio data is loaded with a sampling rate of 48kHZ whereas 16kHz are expected by the model. We can set the audio feature to the correct sampling rate by making use of [`cast_column`](https://huggingface.co/docs/datasets/package_reference/main_classes.html?highlight=cast_column#datasets.DatasetDict.cast_column):"
      ]
    },
    {
      "cell_type": "code",
      "execution_count": 108,
      "metadata": {
        "id": "rrv65aj7G95i"
      },
      "outputs": [],
      "source": [
        "# common_voice_train = common_voice_train.cast_column(\"audio\", Audio(sampling_rate=16_000))\n",
        "# common_voice_test = common_voice_test.cast_column(\"audio\", Audio(sampling_rate=16_000))"
      ]
    },
    {
      "cell_type": "markdown",
      "metadata": {
        "id": "PcnO4x-NGBEi"
      },
      "source": [
        "Let's take a look at `\"audio\"` again."
      ]
    },
    {
      "cell_type": "code",
      "execution_count": 109,
      "metadata": {
        "id": "aKtkc1o_HWHC"
      },
      "outputs": [],
      "source": [
        "# common_voice_train[0][\"audio\"]"
      ]
    },
    {
      "cell_type": "markdown",
      "metadata": {
        "id": "SOckzFd4Mbzq"
      },
      "source": [
        "This seemed to have worked! Let's listen to a couple of audio files to better understand the dataset and verify that the audio was correctly loaded.\n",
        "\n",
        "**Note**: *You can click the following cell a couple of times to listen to different speech samples.*"
      ]
    },
    {
      "cell_type": "code",
      "execution_count": 110,
      "metadata": {
        "colab": {
          "base_uri": "https://localhost:8080/"
        },
        "id": "ND__oF19ryC7",
        "outputId": "1d9f11a5-34e0-4f1f-f4a6-87a8a8ffb81c"
      },
      "outputs": [
        {
          "name": "stdout",
          "output_type": "stream",
          "text": [
            "[ 0.0000000e+00 -9.1552734e-05  3.0517578e-04 ...  1.1291504e-03\n",
            "  6.1035156e-04 -2.1972656e-03]\n"
          ]
        }
      ],
      "source": [
        "rand_int = random.randint(0, len(df_audio_path_train)-1)\n",
        "print(df_audio_path_train[\"audio\"].iloc[rand_int])"
      ]
    },
    {
      "cell_type": "code",
      "execution_count": 111,
      "metadata": {
        "colab": {
          "base_uri": "https://localhost:8080/",
          "height": 75
        },
        "id": "dueM6U7Ev0OA",
        "outputId": "8e2bd5ac-68be-4d65-effb-fa7284daf455"
      },
      "outputs": [
        {
          "data": {
            "text/html": [
              "\n",
              "                <audio  controls=\"controls\" autoplay=\"autoplay\">\n",
              "                    <source src=\"data:audio/wav;base64,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\" type=\"audio/wav\" />\n",
              "                    Your browser does not support the audio element.\n",
              "                </audio>\n",
              "              "
            ],
            "text/plain": [
              "<IPython.lib.display.Audio object>"
            ]
          },
          "execution_count": 111,
          "metadata": {},
          "output_type": "execute_result"
        }
      ],
      "source": [
        "import IPython.display as ipd\n",
        "import numpy as np\n",
        "import random\n",
        "\n",
        "rand_int = random.randint(0, len(df_audio_path_train)-1)\n",
        "\n",
        "ipd.Audio(data = df_audio_path_train[\"audio\"].iloc[rand_int], autoplay = True, rate = 16000)"
      ]
    },
    {
      "cell_type": "code",
      "execution_count": 112,
      "metadata": {
        "colab": {
          "base_uri": "https://localhost:8080/"
        },
        "id": "28bo7IkLJ4_F",
        "outputId": "8c7fd26a-1a1d-4598-f1dc-318a5cbb1fd3"
      },
      "outputs": [
        {
          "name": "stdout",
          "output_type": "stream",
          "text": [
            "[ 0.0000000e+00 -9.1552734e-05  3.0517578e-04 ...  1.1291504e-03\n",
            "  6.1035156e-04 -2.1972656e-03]\n"
          ]
        }
      ],
      "source": [
        "print(df_audio_path_train[\"audio\"].iloc[rand_int])"
      ]
    },
    {
      "cell_type": "markdown",
      "metadata": {
        "id": "gY8m3vARHYTa"
      },
      "source": [
        "Great, it seems like the data is now correctly loaded and resampled."
      ]
    },
    {
      "cell_type": "markdown",
      "metadata": {
        "id": "1MaL9J2dNVtG"
      },
      "source": [
        "It can be heard, that the speakers change along with their speaking rate, accent, and background environment, etc. Overall, the recordings sound acceptably clear though, which is to be expected from a crowd-sourced read speech corpus.\n",
        "\n",
        "Let's do a final check that the data is correctly prepared, by printing the shape of the speech input, its transcription, and the corresponding sampling rate.\n",
        "\n",
        "**Note**: *You can click the following cell a couple of times to verify multiple samples.*"
      ]
    },
    {
      "cell_type": "code",
      "execution_count": 113,
      "metadata": {
        "colab": {
          "base_uri": "https://localhost:8080/"
        },
        "id": "1Po2g7YPuRTx",
        "outputId": "d273c248-45ea-46c0-f974-f88496991304"
      },
      "outputs": [
        {
          "name": "stdout",
          "output_type": "stream",
          "text": [
            "Target text:  ngorsi kat masu maa jaar buroom di tataani   \n",
            "Input array shape: (63136,)\n"
          ]
        }
      ],
      "source": [
        "rand_int = random.randint(0, len(df_audio_path_train)-1)\n",
        "\n",
        "print(\"Target text:\", df_audio_path_train[\"sentence\"].iloc[rand_int])\n",
        "print(\"Input array shape:\", df_audio_path_train[\"audio\"].iloc[rand_int].shape)"
      ]
    },
    {
      "cell_type": "code",
      "execution_count": 114,
      "metadata": {
        "id": "ddFpoTakJ4_F"
      },
      "outputs": [],
      "source": [
        "a = processor(df_audio_path_train[\"audio\"].iloc[rand_int], sampling_rate = 16000).input_values[0]"
      ]
    },
    {
      "cell_type": "markdown",
      "metadata": {
        "id": "M9teZcSwOBJ4"
      },
      "source": [
        "Good! Everything looks fine - the data is a 1-dimensional array, the sampling rate always corresponds to 16kHz, and the target text is normalized."
      ]
    },
    {
      "cell_type": "markdown",
      "metadata": {
        "id": "k3Pbn5WvOYZF"
      },
      "source": [
        "Finally, we can leverage `Wav2Vec2Processor` to process the data to the format expected by `Wav2Vec2ForCTC` for training. We will again make use of the `map(...)` function.\n",
        "\n",
        "First, we load and resample the audio data, simply by calling `batch[\"audio\"]`.\n",
        "Second, we extract the `input_values` from the loaded audio file. In our case, this includes only normalization, but for other speech models, this step could correspond to extracting, *e.g.* [Log-Mel features](https://en.wikipedia.org/wiki/Mel-frequency_cepstrum).\n",
        "Third, we encode the transcriptions to label ids.\n",
        "\n",
        "**Note**: This mapping function is a good example of how the `Wav2Vec2Processor` class should be used. In \"normal\" context, calling `processor(...)` is redirected to `Wav2Vec2FeatureExtractor`'s call method. When wrapping the processor into the `as_target_processor` context, however, the same method is redirected to `Wav2Vec2CTCTokenizer`'s call method.\n",
        "For more information please check the [docs](https://huggingface.co/transformers/master/model_doc/wav2vec2.html#transformers.Wav2Vec2Processor.__call__)."
      ]
    },
    {
      "cell_type": "code",
      "execution_count": 115,
      "metadata": {
        "id": "eJY7I0XAwe9p"
      },
      "outputs": [],
      "source": [
        "def prepare_dataset(batch):\n",
        "    audio = batch.get('audio')\n",
        "\n",
        "    # batched output is \"un-batched\"\n",
        "    input_values = processor(audio, sampling_rate=16000).input_values[0]\n",
        "\n",
        "    # process labels using the `text` argument of the `__call__()` method\n",
        "    labels = processor(text=batch.get('sentence')).input_ids\n",
        "\n",
        "    return {'input_values': input_values, 'labels': labels}\n",
        "\n",
        "df_voice_train = df_audio_path_train.apply(lambda row : prepare_dataset(row), axis = 1)\n",
        "df_voice_test = df_audio_path_test.apply(lambda row : prepare_dataset(row), axis = 1)"
      ]
    },
    {
      "cell_type": "code",
      "execution_count": 116,
      "metadata": {
        "id": "h74afrqdcg1U"
      },
      "outputs": [],
      "source": [
        "df_voice_train = df_voice_train.reset_index(drop=True)\n",
        "df_voice_test = df_voice_test.reset_index(drop=True)\n",
        "\n",
        "# df_voice_train = df_voice_train.stack()\n",
        "# df_voice_test = df_voice_test.stack()"
      ]
    },
    {
      "cell_type": "markdown",
      "metadata": {
        "id": "q6Pg_WR3OGAP"
      },
      "source": [
        "Let's apply the data preparation function to all examples."
      ]
    },
    {
      "cell_type": "markdown",
      "metadata": {
        "id": "nKcEWHvKI1by"
      },
      "source": [
        "**Note**: Currently `datasets` make use of [`torchaudio`](https://pytorch.org/audio/stable/index.html) and [`librosa`](https://librosa.org/doc/latest/index.html) for audio loading and resampling. If you wish to implement your own costumized data loading/sampling, feel free to just make use of the `\"path\"` column instead and disregard the `\"audio\"` column."
      ]
    },
    {
      "cell_type": "markdown",
      "metadata": {
        "id": "gYlQkKVoRUos"
      },
      "source": [
        "## Training\n",
        "\n",
        "The data is processed so that we are ready to start setting up the training pipeline. We will make use of 🤗's [Trainer](https://huggingface.co/transformers/master/main_classes/trainer.html?highlight=trainer) for which we essentially need to do the following:\n",
        "\n",
        "- Define a data collator. In contrast to most NLP models, XLSR-Wav2Vec2 has a much larger input length than output length. *E.g.*, a sample of input length 50000 has an output length of no more than 100. Given the large input sizes, it is much more efficient to pad the training batches dynamically meaning that all training samples should only be padded to the longest sample in their batch and not the overall longest sample. Therefore, fine-tuning XLSR-Wav2Vec2 requires a special padding data collator, which we will define below\n",
        "\n",
        "- Evaluation metric. During training, the model should be evaluated on the word error rate. We should define a `compute_metrics` function accordingly\n",
        "\n",
        "- Load a pretrained checkpoint. We need to load a pretrained checkpoint and configure it correctly for training.\n",
        "\n",
        "- Define the training configuration.\n",
        "\n",
        "After having fine-tuned the model, we will correctly evaluate it on the test data and verify that it has indeed learned to correctly transcribe speech."
      ]
    },
    {
      "cell_type": "markdown",
      "metadata": {
        "id": "Slk403unUS91"
      },
      "source": [
        "### Set-up Trainer\n",
        "\n",
        "Let's start by defining the data collator. The code for the data collator was copied from [this example](https://github.com/huggingface/transformers/blob/9a06b6b11bdfc42eea08fa91d0c737d1863c99e3/examples/research_projects/wav2vec2/run_asr.py#L81).\n",
        "\n",
        "Without going into too many details, in contrast to the common data collators, this data collator treats the `input_values` and `labels` differently and thus applies to separate padding functions on them (again making use of XLSR-Wav2Vec2's context manager). This is necessary because in speech input and output are of different modalities meaning that they should not be treated by the same padding function.\n",
        "Analogous to the common data collators, the padding tokens in the labels with `-100` so that those tokens are **not** taken into account when computing the loss."
      ]
    },
    {
      "cell_type": "code",
      "execution_count": 117,
      "metadata": {
        "id": "tborvC9hx88e"
      },
      "outputs": [],
      "source": [
        "import torch\n",
        "\n",
        "from dataclasses import dataclass, field\n",
        "from typing import Any, Dict, List, Optional, Union\n",
        "\n",
        "@dataclass\n",
        "class DataCollatorCTCWithPadding:\n",
        "    \"\"\"\n",
        "    Data collator that will dynamically pad the inputs received.\n",
        "    Args:\n",
        "        processor (:class:`~transformers.Wav2Vec2Processor`)\n",
        "            The processor used for proccessing the data.\n",
        "        padding (:obj:`bool`, :obj:`str` or :class:`~transformers.tokenization_utils_base.PaddingStrategy`, `optional`, defaults to :obj:`True`):\n",
        "            Select a strategy to pad the returned sequences (according to the model's padding side and padding index)\n",
        "            among:\n",
        "            * :obj:`True` or :obj:`'longest'`: Pad to the longest sequence in the batch (or no padding if only a single\n",
        "              sequence if provided).\n",
        "            * :obj:`'max_length'`: Pad to a maximum length specified with the argument :obj:`max_length` or to the\n",
        "              maximum acceptable input length for the model if that argument is not provided.\n",
        "            * :obj:`False` or :obj:`'do_not_pad'` (default): No padding (i.e., can output a batch with sequences of\n",
        "              different lengths).\n",
        "        max_length (:obj:`int`, `optional`):\n",
        "            Maximum length of the ``input_values`` of the returned list and optionally padding length (see above).\n",
        "        max_length_labels (:obj:`int`, `optional`):\n",
        "            Maximum length of the ``labels`` returned list and optionally padding length (see above).\n",
        "        pad_to_multiple_of (:obj:`int`, `optional`):\n",
        "            If set will pad the sequence to a multiple of the provided value.\n",
        "            This is especially useful to enable the use of Tensor Cores on NVIDIA hardware with compute capability >=\n",
        "            7.5 (Volta).\n",
        "    \"\"\"\n",
        "\n",
        "    processor: Wav2Vec2Processor\n",
        "    padding: Union[bool, str] = True\n",
        "    max_length: Optional[int] = None\n",
        "    max_length_labels: Optional[int] = None\n",
        "    pad_to_multiple_of: Optional[int] = None\n",
        "    pad_to_multiple_of_labels: Optional[int] = None\n",
        "\n",
        "    def __call__(self, features: List[Dict[str, Union[List[int], torch.Tensor]]]) -> Dict[str, torch.Tensor]:\n",
        "        # split inputs and labels since they have to be of different lenghts and need\n",
        "        # different padding methods\n",
        "        input_features = [{\"input_values\": feature[\"input_values\"]} for feature in features]\n",
        "        label_features = [{\"input_ids\": feature[\"labels\"]} for feature in features]\n",
        "\n",
        "        batch = self.processor.pad(\n",
        "            input_features,\n",
        "            padding=self.padding,\n",
        "            max_length=self.max_length,\n",
        "            pad_to_multiple_of=self.pad_to_multiple_of,\n",
        "            return_tensors=\"pt\",\n",
        "        )\n",
        "        with self.processor.as_target_processor():\n",
        "            labels_batch = self.processor.pad(\n",
        "                label_features,\n",
        "                padding=self.padding,\n",
        "                max_length=self.max_length_labels,\n",
        "                pad_to_multiple_of=self.pad_to_multiple_of_labels,\n",
        "                return_tensors=\"pt\",\n",
        "            )\n",
        "\n",
        "        # replace padding with -100 to ignore loss correctly\n",
        "        labels = labels_batch[\"input_ids\"].masked_fill(labels_batch.attention_mask.ne(1), -100)\n",
        "\n",
        "        batch[\"labels\"] = labels\n",
        "\n",
        "        return batch"
      ]
    },
    {
      "cell_type": "code",
      "execution_count": 118,
      "metadata": {
        "id": "lbQf5GuZyQ4_"
      },
      "outputs": [],
      "source": [
        "data_collator = DataCollatorCTCWithPadding(processor=processor, padding=True)"
      ]
    },
    {
      "cell_type": "markdown",
      "metadata": {
        "id": "xO-Zdj-5cxXp"
      },
      "source": [
        "Next, the evaluation metric is defined. As mentioned earlier, the\n",
        "predominant metric in ASR is the word error rate (WER), hence we will use it in this notebook as well."
      ]
    },
    {
      "cell_type": "code",
      "execution_count": 119,
      "metadata": {
        "id": "9Xsux2gmyXso"
      },
      "outputs": [],
      "source": [
        "# wer_metric = load_metric(\"wer\")"
      ]
    },
    {
      "cell_type": "code",
      "execution_count": 120,
      "metadata": {
        "id": "gjLkUQRJJ4_I"
      },
      "outputs": [],
      "source": [
        "from evaluate import load\n",
        "\n",
        "wer_metric = load(\"wer\")"
      ]
    },
    {
      "cell_type": "markdown",
      "metadata": {
        "id": "E1qZU5p-deqB"
      },
      "source": [
        "The model will return a sequence of logit vectors:\n",
        "$\\mathbf{y}_1, \\ldots, \\mathbf{y}_m$ with $\\mathbf{y}_1 = f_{\\theta}(x_1, \\ldots, x_n)[0]$ and $n >> m$.\n",
        "\n",
        "A logit vector $\\mathbf{y}_1$ contains the log-odds for each word in the vocabulary we defined earlier, thus $\\text{len}(\\mathbf{y}_i) =$ `config.vocab_size`. We are interested in the most likely prediction of the model and thus take the `argmax(...)` of the logits. Also, we transform the encoded labels back to the original string by replacing `-100` with the `pad_token_id` and decoding the ids while making sure that consecutive tokens are **not** grouped to the same token in CTC style ${}^1$."
      ]
    },
    {
      "cell_type": "code",
      "execution_count": 121,
      "metadata": {
        "id": "1XZ-kjweyTy_"
      },
      "outputs": [],
      "source": [
        "def compute_metrics(pred):\n",
        "    pred_logits = pred.predictions\n",
        "    pred_ids = np.argmax(pred_logits, axis = -1)\n",
        "\n",
        "    pred.label_ids[pred.label_ids == -100] = processor.tokenizer.pad_token_id\n",
        "\n",
        "    pred_str = processor.batch_decode(pred_ids)\n",
        "    # we do not want to group tokens when computing the metrics\n",
        "    label_str = processor.batch_decode(pred.label_ids, group_tokens=False)\n",
        "\n",
        "    wer = wer_metric.compute(predictions=pred_str, references=label_str)\n",
        "\n",
        "    return {\"wer\": wer}"
      ]
    },
    {
      "cell_type": "markdown",
      "metadata": {
        "id": "Xmgrx4bRwLIH"
      },
      "source": [
        "Now, we can load the pretrained `XLSR-Wav2Vec2` checkpoint. The tokenizer's `pad_token_id` must be to define the model's `pad_token_id` or in the case of `Wav2Vec2ForCTC` also CTC's *blank token* ${}^2$. To save GPU memory, we enable PyTorch's [gradient checkpointing](https://pytorch.org/docs/stable/checkpoint.html) and also set the loss reduction to \"*mean*\".\n",
        "\n",
        "Because the dataset is quite small (~6h of training data) and because Common Voice is quite noisy, fine-tuning Facebook's [wav2vec2-large-xlsr-53 checkpoint](https://huggingface.co/facebook/wav2vec2-large-xlsr-53) seems to require some hyper-parameter tuning. Therefore, I had to play around a bit with different values for dropout, [SpecAugment](https://arxiv.org/abs/1904.08779)'s masking dropout rate, layer dropout, and the learning rate until training seemed to be stable enough.\n",
        "\n",
        "**Note**: When using this notebook to train XLSR-Wav2Vec2 on another language of Common Voice those hyper-parameter settings might not work very well. Feel free to adapt those depending on your use case."
      ]
    },
    {
      "cell_type": "code",
      "execution_count": 122,
      "metadata": {
        "colab": {
          "base_uri": "https://localhost:8080/"
        },
        "id": "e7cqAWIayn6w",
        "outputId": "2bbd7107-03ab-4063-dd17-97934c7bea46"
      },
      "outputs": [
        {
          "name": "stderr",
          "output_type": "stream",
          "text": [
            "Some weights of Wav2Vec2ForCTC were not initialized from the model checkpoint at facebook/wav2vec2-large-xlsr-53 and are newly initialized: ['lm_head.bias', 'lm_head.weight', 'wav2vec2.encoder.pos_conv_embed.conv.parametrizations.weight.original0', 'wav2vec2.encoder.pos_conv_embed.conv.parametrizations.weight.original1']\n",
            "You should probably TRAIN this model on a down-stream task to be able to use it for predictions and inference.\n"
          ]
        }
      ],
      "source": [
        "from transformers import Wav2Vec2ForCTC\n",
        "\n",
        "model = Wav2Vec2ForCTC.from_pretrained(\n",
        "    \"facebook/wav2vec2-large-xlsr-53\",\n",
        "    attention_dropout=0.1,\n",
        "    hidden_dropout=0.1,\n",
        "    feat_proj_dropout=0.0,\n",
        "    mask_time_prob=0.05,\n",
        "    layerdrop=0.1,\n",
        "    ctc_loss_reduction=\"mean\",\n",
        "    pad_token_id=processor.tokenizer.pad_token_id,\n",
        "    vocab_size=len(processor.tokenizer)\n",
        ")"
      ]
    },
    {
      "cell_type": "markdown",
      "metadata": {
        "id": "1DwR3XLSzGDD"
      },
      "source": [
        "The first component of XLSR-Wav2Vec2 consists of a stack of CNN layers that are used to extract acoustically meaningful - but contextually independent - features from the raw speech signal. This part of the model has already been sufficiently trained during pretraining and as stated in the [paper](https://arxiv.org/pdf/2006.13979.pdf) does not need to be fine-tuned anymore.\n",
        "Thus, we can set the `requires_grad` to `False` for all parameters of the *feature extraction* part."
      ]
    },
    {
      "cell_type": "code",
      "execution_count": 123,
      "metadata": {
        "id": "oGI8zObtZ3V0"
      },
      "outputs": [],
      "source": [
        "#model.freeze_feature_extractor() # depreciated"
      ]
    },
    {
      "cell_type": "code",
      "execution_count": 124,
      "metadata": {
        "id": "IY2o5O0UXzTu"
      },
      "outputs": [],
      "source": [
        "model.freeze_feature_encoder()"
      ]
    },
    {
      "cell_type": "markdown",
      "metadata": {
        "id": "3y34yOlVWZca"
      },
      "source": [
        "In addition, let's enable gradient checkpointing to save some memory."
      ]
    },
    {
      "cell_type": "code",
      "execution_count": 125,
      "metadata": {
        "id": "JE8uF0dFWeSw"
      },
      "outputs": [],
      "source": [
        "model.gradient_checkpointing_enable()"
      ]
    },
    {
      "cell_type": "markdown",
      "metadata": {
        "id": "lD4aGhQM0K-D"
      },
      "source": [
        "In a final step, we define all parameters related to training.\n",
        "To give more explanation on some of the parameters:\n",
        "- `group_by_length` makes training more efficient by grouping training samples of similar input length into one batch. This can significantly speed up training time by heavily reducing the overall number of useless padding tokens that are passed through the model\n",
        "- `learning_rate` and `weight_decay` were heuristically tuned until fine-tuning has become stable. Note that those parameters strongly depend on the Common Voice dataset and might be suboptimal for other speech datasets.\n",
        "\n",
        "For more explanations on other parameters, one can take a look at the [docs](https://huggingface.co/transformers/master/main_classes/trainer.html?highlight=trainer#trainingarguments).\n",
        "\n",
        "**Note**: If one wants to save the trained models in his/her google drive the commented-out `output_dir` can be used instead."
      ]
    },
    {
      "cell_type": "code",
      "execution_count": 126,
      "metadata": {
        "id": "KbeKSV7uzGPP"
      },
      "outputs": [],
      "source": [
        "from transformers import TrainingArguments\n",
        "model_path = r\"DATA\\MODEL\\RESULTS\"\n",
        "training_args = TrainingArguments(\n",
        "  # output_dir=\"/content/gdrive/MyDrive/wav2vec2-large-xlsr-turkish-demo\",\n",
        "  output_dir= model_path + \"/wav2vec2-large-xlsr-wolof-test1\",\n",
        "  group_by_length = True,\n",
        "  per_device_train_batch_size = 2,\n",
        "  gradient_accumulation_steps = 2,\n",
        "  evaluation_strategy = \"steps\",\n",
        "  num_train_epochs = 1, #30,\n",
        "  fp16 = False,\n",
        "  save_steps = 100,\n",
        "  eval_steps = 100,\n",
        "  logging_steps = 10,\n",
        "  learning_rate = 3e-4,\n",
        "  warmup_steps = 500,\n",
        "  save_total_limit = 2,\n",
        ")"
      ]
    },
    {
      "cell_type": "markdown",
      "metadata": {
        "id": "OsW-WZcL1ZtN"
      },
      "source": [
        "Now, all instances can be passed to Trainer and we are ready to start training!"
      ]
    },
    {
      "cell_type": "code",
      "execution_count": 127,
      "metadata": {
        "id": "rY7vBmFCPFgC"
      },
      "outputs": [],
      "source": [
        "from transformers import Trainer\n",
        "\n",
        "trainer = Trainer(\n",
        "    model = model,\n",
        "    data_collator = data_collator,\n",
        "    args = training_args,\n",
        "    compute_metrics = compute_metrics,\n",
        "    train_dataset = df_voice_train,\n",
        "    eval_dataset = df_voice_test,\n",
        "    tokenizer = processor.feature_extractor,\n",
        ")"
      ]
    },
    {
      "cell_type": "markdown",
      "metadata": {
        "id": "UoXBx1JAA0DX"
      },
      "source": [
        "\n",
        "\n",
        "---\n",
        "\n",
        "${}^1$ To allow models to become independent of the speaker rate, in CTC, consecutive tokens that are identical are simply grouped as a single token. However, the encoded labels should not be grouped when decoding since they don't correspond to the predicted tokens of the model, which is why the `group_tokens=False` parameter has to be passed. If we wouldn't pass this parameter a word like `\"hello\"` would incorrectly be encoded, and decoded as `\"helo\"`.\n",
        "\n",
        "${}^2$ The blank token allows the model to predict a word, such as `\"hello\"` by forcing it to insert the blank token between the two l's. A CTC-conform prediction of `\"hello\"` of our model would be `[PAD] [PAD] \"h\" \"e\" \"e\" \"l\" \"l\" [PAD] \"l\" \"o\" \"o\" [PAD]`."
      ]
    },
    {
      "cell_type": "markdown",
      "metadata": {
        "id": "rpvZHM1xReIW"
      },
      "source": [
        "### Training"
      ]
    },
    {
      "cell_type": "markdown",
      "metadata": {
        "id": "j-3oKSzZ1hGq"
      },
      "source": [
        "Training will take multiple hours depending on the GPU allocated to this notebook. While the trained model yields somewhat satisfying results on *Common Voice*'s test data of Turkish, it is by no means an optimally fine-tuned model. The purpose of this notebook is to demonstrate how XLSR-Wav2Vec2's [checkpoint](https://huggingface.co/facebook/wav2vec2-large-xlsr-53) can be fine-tuned on a low-resource ASR dataset.\n",
        "\n",
        "In case you want to use this google colab to fine-tune your model, you should make sure that your training doesn't stop due to inactivity. A simple hack to prevent this is to paste the following code into the console of this tab (*right mouse click -> inspect -> Console tab and insert code*)."
      ]
    },
    {
      "cell_type": "markdown",
      "metadata": {
        "id": "VYYAvgkW4P0m"
      },
      "source": [
        "```javascript\n",
        "function ConnectButton(){\n",
        "    console.log(\"Connect pushed\");\n",
        "    document.querySelector(\"#top-toolbar > colab-connect-button\").shadowRoot.querySelector(\"#connect\").click()\n",
        "}\n",
        "setInterval(ConnectButton,60000);\n",
        "```"
      ]
    },
    {
      "cell_type": "code",
      "execution_count": 128,
      "metadata": {
        "colab": {
          "base_uri": "https://localhost:8080/",
          "height": 515
        },
        "id": "_UEjJqGsQw24",
        "outputId": "b9ec7f3b-1a13-483a-83b8-5593215f0368"
      },
      "outputs": [
        {
          "data": {
            "application/vnd.jupyter.widget-view+json": {
              "model_id": "f17afc2756fa4b8a90ce180efc207d11",
              "version_major": 2,
              "version_minor": 0
            },
            "text/plain": [
              "  0%|          | 0/1 [00:00<?, ?it/s]"
            ]
          },
          "metadata": {},
          "output_type": "display_data"
        },
        {
          "name": "stderr",
          "output_type": "stream",
          "text": [
            "c:\\Users\\maron\\anaconda3\\Lib\\site-packages\\transformers\\models\\wav2vec2\\processing_wav2vec2.py:156: UserWarning: `as_target_processor` is deprecated and will be removed in v5 of Transformers. You can process your labels by using the argument `text` of the regular `__call__` method (either in the same call as your audio inputs, or in a separate call.\n",
            "  warnings.warn(\n",
            "c:\\Users\\maron\\anaconda3\\Lib\\site-packages\\torch\\utils\\checkpoint.py:429: UserWarning: torch.utils.checkpoint: please pass in use_reentrant=True or use_reentrant=False explicitly. The default value of use_reentrant will be updated to be False in the future. To maintain current behavior, pass use_reentrant=True. It is recommended that you use use_reentrant=False. Refer to docs for more details on the differences between the two variants.\n",
            "  warnings.warn(\n"
          ]
        },
        {
          "name": "stdout",
          "output_type": "stream",
          "text": [
            "{'train_runtime': 28.1105, 'train_samples_per_second': 0.071, 'train_steps_per_second': 0.036, 'train_loss': 7.690081596374512, 'epoch': 1.0}\n"
          ]
        },
        {
          "data": {
            "text/plain": [
              "TrainOutput(global_step=1, training_loss=7.690081596374512, metrics={'train_runtime': 28.1105, 'train_samples_per_second': 0.071, 'train_steps_per_second': 0.036, 'train_loss': 7.690081596374512, 'epoch': 1.0})"
            ]
          },
          "execution_count": 128,
          "metadata": {},
          "output_type": "execute_result"
        }
      ],
      "source": [
        "trainer.train()"
      ]
    },
    {
      "cell_type": "markdown",
      "metadata": {
        "id": "RHIVc44_fY2N"
      },
      "source": [
        "The training and validation loss go down nicely. The WER starts improving only at a later stage. Because this notebook is just for demonstration purposes, we can stop here.\n",
        "\n",
        "To fine-tune larger models on larger datasets using CTC loss, one should take a look at the official speech-recognition examples [here](https://github.com/huggingface/transformers/tree/master/examples/pytorch/speech-recognition#connectionist-temporal-classification-without-language-model-ctc-wo-lm) 🤗."
      ]
    }
  ],
  "metadata": {
    "accelerator": "GPU",
    "colab": {
      "collapsed_sections": [
        "zXMtp9S7J4-r"
      ],
      "gpuType": "T4",
      "machine_shape": "hm",
      "provenance": []
    },
    "kernelspec": {
      "display_name": "Python 3",
      "name": "python3"
    },
    "language_info": {
      "codemirror_mode": {
        "name": "ipython",
        "version": 3
      },
      "file_extension": ".py",
      "mimetype": "text/x-python",
      "name": "python",
      "nbconvert_exporter": "python",
      "pygments_lexer": "ipython3",
      "version": "3.11.5"
    }
  },
  "nbformat": 4,
  "nbformat_minor": 0
}
