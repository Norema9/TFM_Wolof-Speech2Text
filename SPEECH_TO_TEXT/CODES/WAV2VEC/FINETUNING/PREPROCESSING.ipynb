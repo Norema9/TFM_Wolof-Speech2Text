{
 "cells": [
  {
   "cell_type": "markdown",
   "metadata": {},
   "source": [
    "# Setup"
   ]
  },
  {
   "cell_type": "code",
   "execution_count": 1,
   "metadata": {},
   "outputs": [],
   "source": [
    "import pandas as pd\n",
    "import os\n",
    "import regex"
   ]
  },
  {
   "cell_type": "code",
   "execution_count": 2,
   "metadata": {},
   "outputs": [],
   "source": [
    "os.chdir(r\"E:\\IA\\WOLOF\")"
   ]
  },
  {
   "cell_type": "markdown",
   "metadata": {},
   "source": [
    "# Functions"
   ]
  },
  {
   "cell_type": "code",
   "execution_count": 3,
   "metadata": {},
   "outputs": [],
   "source": [
    "def store_in_pickles(df, directory, name):\n",
    "    # Ensure the directory exists\n",
    "    os.makedirs(directory, exist_ok=True)\n",
    "    \n",
    "    # Store each row in a separate pickle file\n",
    "    for i in range(len(df)):\n",
    "        df.iloc[[i]].to_pickle(os.path.join(directory, name + f'_data_{i}.pkl'))"
   ]
  },
  {
   "cell_type": "code",
   "execution_count": 4,
   "metadata": {},
   "outputs": [],
   "source": [
    "chars_to_ignore_regex = r'[кɲớˈ\\'\\xa0\\r\\n]'\n",
    "chars_to_keep_regex = r'[^a-zA-Z\\sёñïóŋöäàéîā́сđớ\\'ˈоɗɲtx їüúaëçèĩã̈ûjämсукéеɓìs️öŋïõăаrýànóvñlò̃qẽyfƭhgziâwíńồpêáôùёībkр]'\n",
    "replace_dict = {'ï': 'a', 'î': 'i', 'ā': 'a', 'ƭ': 'c', 'ī': 'i', 'ä': 'a', 'ɗ': 'nd', 'ń': 'ñ', 'ồ': 'o',\n",
    "                'ї': 'i', 'ü': 'u', 'ù': 'u', 'ú': 'u', 'ă': 'ã', '̃': '', 'â': 'a', '́': '', 'û': 'u',\n",
    "                '̈': '', 'è': 'e', 'ç': 's', 'ö': 'o', 'ý': 'y', 'ì': 'i', 'í': 'i', '̀': '', 'ɓ':'b', 'ô':'o',\n",
    "                'ê':'e', 'à':'a'}\n",
    "def remove_special_characters(sentence):\n",
    "    tex = \"\"\n",
    "    for word in sentence.split(','):\n",
    "        if tex != \"\":\n",
    "            tex = tex + \", \" + word.rstrip().lstrip()\n",
    "        else:\n",
    "            tex = word\n",
    "    text = regex.sub(chars_to_keep_regex, '', tex).lower() + \" \"\n",
    "    text = regex.sub(chars_to_ignore_regex, '', text) + \" \"\n",
    "\n",
    "    for key, value in replace_dict.items():\n",
    "        text = regex.sub(key, value, text) + \" \"\n",
    "    return text"
   ]
  },
  {
   "cell_type": "markdown",
   "metadata": {},
   "source": [
    "# Loading Data"
   ]
  },
  {
   "cell_type": "code",
   "execution_count": 5,
   "metadata": {},
   "outputs": [],
   "source": [
    "alffa_cleaned = pd.read_pickle(r\"SPEECH_TO_TEXT\\DATA\\CLEANED\\WOLOF_AUDIO_TRANS\\zz_total_cleaned\\alffa_cleaned_tot.pkl\")"
   ]
  },
  {
   "cell_type": "code",
   "execution_count": 6,
   "metadata": {},
   "outputs": [],
   "source": [
    "alffa_git_clean = pd.read_pickle(r\"SPEECH_TO_TEXT\\DATA\\CLEANED\\WOLOF_AUDIO_TRANS\\zz_total_cleaned\\alffa_git_clean_tot.pkl\")"
   ]
  },
  {
   "cell_type": "code",
   "execution_count": 7,
   "metadata": {},
   "outputs": [],
   "source": [
    "google_fleurs_clean = pd.read_pickle(r\"SPEECH_TO_TEXT\\DATA\\CLEANED\\WOLOF_AUDIO_TRANS\\zz_total_cleaned\\google_fleurs_clean_tot.pkl\")"
   ]
  },
  {
   "cell_type": "code",
   "execution_count": 8,
   "metadata": {},
   "outputs": [],
   "source": [
    "waxal_clean = pd.read_pickle(r\"SPEECH_TO_TEXT\\DATA\\CLEANED\\WOLOF_AUDIO_TRANS\\zz_total_cleaned\\waxal_clean_tot.pkl\")"
   ]
  },
  {
   "cell_type": "code",
   "execution_count": 9,
   "metadata": {},
   "outputs": [],
   "source": [
    "waxal_git_clean = pd.read_pickle(r\"SPEECH_TO_TEXT\\DATA\\CLEANED\\WOLOF_AUDIO_TRANS\\zz_total_cleaned\\waxal_git_clean_tot.pkl\")"
   ]
  },
  {
   "cell_type": "code",
   "execution_count": 10,
   "metadata": {},
   "outputs": [],
   "source": [
    "zenodo_clean = pd.read_pickle(r\"SPEECH_TO_TEXT\\DATA\\CLEANED\\WOLOF_AUDIO_TRANS\\zz_total_cleaned\\zenodo_tot.pkl\")"
   ]
  },
  {
   "cell_type": "code",
   "execution_count": 11,
   "metadata": {},
   "outputs": [
    {
     "data": {
      "text/html": [
       "<div>\n",
       "<style scoped>\n",
       "    .dataframe tbody tr th:only-of-type {\n",
       "        vertical-align: middle;\n",
       "    }\n",
       "\n",
       "    .dataframe tbody tr th {\n",
       "        vertical-align: top;\n",
       "    }\n",
       "\n",
       "    .dataframe thead th {\n",
       "        text-align: right;\n",
       "    }\n",
       "</style>\n",
       "<table border=\"1\" class=\"dataframe\">\n",
       "  <thead>\n",
       "    <tr style=\"text-align: right;\">\n",
       "      <th></th>\n",
       "      <th>transcription</th>\n",
       "      <th>filename</th>\n",
       "      <th>path</th>\n",
       "      <th>length</th>\n",
       "      <th>audio</th>\n",
       "      <th>id</th>\n",
       "    </tr>\n",
       "  </thead>\n",
       "  <tbody>\n",
       "    <tr>\n",
       "      <th>0</th>\n",
       "      <td>Tey texeg ndaw ñi,ak mag ñi,ak waxambaane yeek...</td>\n",
       "      <td>4af26658-5f2a-401c-aa35-748717079afa/02d98c90f...</td>\n",
       "      <td>DATA\\CLEANED\\WOLOF_AUDIO_TRANS\\zenodo\\audio\\4a...</td>\n",
       "      <td>6.384</td>\n",
       "      <td>[-3.6948222e-13, 4.405365e-13, -1.7053026e-13,...</td>\n",
       "      <td>NaN</td>\n",
       "    </tr>\n",
       "    <tr>\n",
       "      <th>1</th>\n",
       "      <td>Tey texeg ndaw ñi,ak mag ñi,ak waxambaane yeek...</td>\n",
       "      <td>fbc2f100-357a-4840-b1df-8b562861e8dd/02d98c90f...</td>\n",
       "      <td>DATA\\CLEANED\\WOLOF_AUDIO_TRANS\\zenodo\\audio\\fb...</td>\n",
       "      <td>5.616</td>\n",
       "      <td>[4.3655746e-11, 4.3655746e-11, -1.4551915e-11,...</td>\n",
       "      <td>NaN</td>\n",
       "    </tr>\n",
       "    <tr>\n",
       "      <th>2</th>\n",
       "      <td>Jamonoy cëtëŋ j</td>\n",
       "      <td>4af26658-5f2a-401c-aa35-748717079afa/038677fc2...</td>\n",
       "      <td>DATA\\CLEANED\\WOLOF_AUDIO_TRANS\\zenodo\\audio\\4a...</td>\n",
       "      <td>3.744</td>\n",
       "      <td>[-7.275958e-12, -1.8189894e-12, -1.4551915e-11...</td>\n",
       "      <td>NaN</td>\n",
       "    </tr>\n",
       "  </tbody>\n",
       "</table>\n",
       "</div>"
      ],
      "text/plain": [
       "                                       transcription  \\\n",
       "0  Tey texeg ndaw ñi,ak mag ñi,ak waxambaane yeek...   \n",
       "1  Tey texeg ndaw ñi,ak mag ñi,ak waxambaane yeek...   \n",
       "2                                    Jamonoy cëtëŋ j   \n",
       "\n",
       "                                            filename  \\\n",
       "0  4af26658-5f2a-401c-aa35-748717079afa/02d98c90f...   \n",
       "1  fbc2f100-357a-4840-b1df-8b562861e8dd/02d98c90f...   \n",
       "2  4af26658-5f2a-401c-aa35-748717079afa/038677fc2...   \n",
       "\n",
       "                                                path  length  \\\n",
       "0  DATA\\CLEANED\\WOLOF_AUDIO_TRANS\\zenodo\\audio\\4a...   6.384   \n",
       "1  DATA\\CLEANED\\WOLOF_AUDIO_TRANS\\zenodo\\audio\\fb...   5.616   \n",
       "2  DATA\\CLEANED\\WOLOF_AUDIO_TRANS\\zenodo\\audio\\4a...   3.744   \n",
       "\n",
       "                                               audio  id  \n",
       "0  [-3.6948222e-13, 4.405365e-13, -1.7053026e-13,... NaN  \n",
       "1  [4.3655746e-11, 4.3655746e-11, -1.4551915e-11,... NaN  \n",
       "2  [-7.275958e-12, -1.8189894e-12, -1.4551915e-11... NaN  "
      ]
     },
     "execution_count": 11,
     "metadata": {},
     "output_type": "execute_result"
    }
   ],
   "source": [
    "dataframes = [zenodo_clean, waxal_git_clean, waxal_clean, google_fleurs_clean, alffa_git_clean, alffa_cleaned]\n",
    "df_clean_tot = pd.concat(dataframes)\n",
    "df_clean_tot.head(3)"
   ]
  },
  {
   "cell_type": "code",
   "execution_count": 12,
   "metadata": {},
   "outputs": [],
   "source": [
    "df_clean_tot = df_clean_tot[df_clean_tot['length'] <= 6]"
   ]
  },
  {
   "cell_type": "markdown",
   "metadata": {},
   "source": [
    "# Preprocessing"
   ]
  },
  {
   "cell_type": "code",
   "execution_count": 13,
   "metadata": {},
   "outputs": [
    {
     "data": {
      "text/html": [
       "<div>\n",
       "<style scoped>\n",
       "    .dataframe tbody tr th:only-of-type {\n",
       "        vertical-align: middle;\n",
       "    }\n",
       "\n",
       "    .dataframe tbody tr th {\n",
       "        vertical-align: top;\n",
       "    }\n",
       "\n",
       "    .dataframe thead th {\n",
       "        text-align: right;\n",
       "    }\n",
       "</style>\n",
       "<table border=\"1\" class=\"dataframe\">\n",
       "  <thead>\n",
       "    <tr style=\"text-align: right;\">\n",
       "      <th></th>\n",
       "      <th>transcription</th>\n",
       "      <th>filename</th>\n",
       "      <th>path</th>\n",
       "      <th>length</th>\n",
       "      <th>audio</th>\n",
       "      <th>id</th>\n",
       "    </tr>\n",
       "  </thead>\n",
       "  <tbody>\n",
       "    <tr>\n",
       "      <th>1</th>\n",
       "      <td>tey texeg ndaw ñi ak mag ñi ak waxambaane yeek...</td>\n",
       "      <td>fbc2f100-357a-4840-b1df-8b562861e8dd/02d98c90f...</td>\n",
       "      <td>DATA\\CLEANED\\WOLOF_AUDIO_TRANS\\zenodo\\audio\\fb...</td>\n",
       "      <td>5.616</td>\n",
       "      <td>[4.3655746e-11, 4.3655746e-11, -1.4551915e-11,...</td>\n",
       "      <td>NaN</td>\n",
       "    </tr>\n",
       "    <tr>\n",
       "      <th>2</th>\n",
       "      <td>jamonoy cëtëŋ j</td>\n",
       "      <td>4af26658-5f2a-401c-aa35-748717079afa/038677fc2...</td>\n",
       "      <td>DATA\\CLEANED\\WOLOF_AUDIO_TRANS\\zenodo\\audio\\4a...</td>\n",
       "      <td>3.744</td>\n",
       "      <td>[-7.275958e-12, -1.8189894e-12, -1.4551915e-11...</td>\n",
       "      <td>NaN</td>\n",
       "    </tr>\n",
       "    <tr>\n",
       "      <th>3</th>\n",
       "      <td>jamonoy cëtëŋ j</td>\n",
       "      <td>fbc2f100-357a-4840-b1df-8b562861e8dd/038677fc2...</td>\n",
       "      <td>DATA\\CLEANED\\WOLOF_AUDIO_TRANS\\zenodo\\audio\\fb...</td>\n",
       "      <td>2.376</td>\n",
       "      <td>[-7.2759576e-11, 0.0, -5.820766e-10, 1.1641532...</td>\n",
       "      <td>NaN</td>\n",
       "    </tr>\n",
       "  </tbody>\n",
       "</table>\n",
       "</div>"
      ],
      "text/plain": [
       "                                       transcription  \\\n",
       "1  tey texeg ndaw ñi ak mag ñi ak waxambaane yeek...   \n",
       "2    jamonoy cëtëŋ j                                   \n",
       "3    jamonoy cëtëŋ j                                   \n",
       "\n",
       "                                            filename  \\\n",
       "1  fbc2f100-357a-4840-b1df-8b562861e8dd/02d98c90f...   \n",
       "2  4af26658-5f2a-401c-aa35-748717079afa/038677fc2...   \n",
       "3  fbc2f100-357a-4840-b1df-8b562861e8dd/038677fc2...   \n",
       "\n",
       "                                                path  length  \\\n",
       "1  DATA\\CLEANED\\WOLOF_AUDIO_TRANS\\zenodo\\audio\\fb...   5.616   \n",
       "2  DATA\\CLEANED\\WOLOF_AUDIO_TRANS\\zenodo\\audio\\4a...   3.744   \n",
       "3  DATA\\CLEANED\\WOLOF_AUDIO_TRANS\\zenodo\\audio\\fb...   2.376   \n",
       "\n",
       "                                               audio  id  \n",
       "1  [4.3655746e-11, 4.3655746e-11, -1.4551915e-11,... NaN  \n",
       "2  [-7.275958e-12, -1.8189894e-12, -1.4551915e-11... NaN  \n",
       "3  [-7.2759576e-11, 0.0, -5.820766e-10, 1.1641532... NaN  "
      ]
     },
     "execution_count": 13,
     "metadata": {},
     "output_type": "execute_result"
    }
   ],
   "source": [
    "df_clean_tot[\"transcription\"] = df_clean_tot[\"transcription\"].apply(remove_special_characters)\n",
    "df_clean_tot.head(3)"
   ]
  },
  {
   "cell_type": "code",
   "execution_count": 14,
   "metadata": {},
   "outputs": [
    {
     "data": {
      "text/html": [
       "<div>\n",
       "<style scoped>\n",
       "    .dataframe tbody tr th:only-of-type {\n",
       "        vertical-align: middle;\n",
       "    }\n",
       "\n",
       "    .dataframe tbody tr th {\n",
       "        vertical-align: top;\n",
       "    }\n",
       "\n",
       "    .dataframe thead th {\n",
       "        text-align: right;\n",
       "    }\n",
       "</style>\n",
       "<table border=\"1\" class=\"dataframe\">\n",
       "  <thead>\n",
       "    <tr style=\"text-align: right;\">\n",
       "      <th></th>\n",
       "      <th>1</th>\n",
       "      <th>2</th>\n",
       "      <th>3</th>\n",
       "      <th>4</th>\n",
       "      <th>5</th>\n",
       "    </tr>\n",
       "  </thead>\n",
       "  <tbody>\n",
       "    <tr>\n",
       "      <th>transcription</th>\n",
       "      <td>tey texeg ndaw ñi ak mag ñi ak waxambaane yeek...</td>\n",
       "      <td>jamonoy cëtëŋ j</td>\n",
       "      <td>jamonoy cëtëŋ j</td>\n",
       "      <td>da ngeen a xëm</td>\n",
       "      <td>da ngeen a xëm</td>\n",
       "    </tr>\n",
       "    <tr>\n",
       "      <th>audio</th>\n",
       "      <td>[4.3655746e-11, 4.3655746e-11, -1.4551915e-11,...</td>\n",
       "      <td>[-7.275958e-12, -1.8189894e-12, -1.4551915e-11...</td>\n",
       "      <td>[-7.2759576e-11, 0.0, -5.820766e-10, 1.1641532...</td>\n",
       "      <td>[-1.8189894e-12, 4.5474735e-12, -3.637979e-12,...</td>\n",
       "      <td>[2.6193447e-10, -2.910383e-11, 1.4551915e-10, ...</td>\n",
       "    </tr>\n",
       "  </tbody>\n",
       "</table>\n",
       "</div>"
      ],
      "text/plain": [
       "                                                               1  \\\n",
       "transcription  tey texeg ndaw ñi ak mag ñi ak waxambaane yeek...   \n",
       "audio          [4.3655746e-11, 4.3655746e-11, -1.4551915e-11,...   \n",
       "\n",
       "                                                               2  \\\n",
       "transcription    jamonoy cëtëŋ j                                   \n",
       "audio          [-7.275958e-12, -1.8189894e-12, -1.4551915e-11...   \n",
       "\n",
       "                                                               3  \\\n",
       "transcription    jamonoy cëtëŋ j                                   \n",
       "audio          [-7.2759576e-11, 0.0, -5.820766e-10, 1.1641532...   \n",
       "\n",
       "                                                               4  \\\n",
       "transcription     da ngeen a xëm                                   \n",
       "audio          [-1.8189894e-12, 4.5474735e-12, -3.637979e-12,...   \n",
       "\n",
       "                                                               5  \n",
       "transcription     da ngeen a xëm                                  \n",
       "audio          [2.6193447e-10, -2.910383e-11, 1.4551915e-10, ...  "
      ]
     },
     "execution_count": 14,
     "metadata": {},
     "output_type": "execute_result"
    }
   ],
   "source": [
    "df_clean_tot = df_clean_tot.drop(columns = ['filename', 'path', 'length', 'id'])\n",
    "df_clean_tot.head(5).T"
   ]
  },
  {
   "cell_type": "markdown",
   "metadata": {},
   "source": [
    "# Store data in different pickle files"
   ]
  },
  {
   "cell_type": "code",
   "execution_count": 15,
   "metadata": {},
   "outputs": [],
   "source": [
    "df_clean_tot['transcription'].to_csv(r\"SPEECH_TO_TEXT\\DATA\\PREPROCESSED\\total_data\\data_transcription_tot.csv\")"
   ]
  },
  {
   "cell_type": "code",
   "execution_count": 16,
   "metadata": {},
   "outputs": [],
   "source": [
    "from sklearn.model_selection import train_test_split\n",
    "train_size = 0.85\n",
    "validation_size = 0.15\n",
    "\n",
    "# Randomly split into training and validation+test\n",
    "df_clean_tot_train, df_clean_tot_validation_test = train_test_split(\n",
    "    df_clean_tot, test_size=validation_size, random_state = 0\n",
    ")\n",
    "\n",
    "# Further split validation+test into validation and test\n",
    "df_clean_tot_validation, df_clean_tot_test = train_test_split(\n",
    "    df_clean_tot_validation_test, test_size = 0.005, random_state = 0\n",
    ")"
   ]
  },
  {
   "cell_type": "code",
   "execution_count": 17,
   "metadata": {},
   "outputs": [],
   "source": [
    "direct_train = r\"SPEECH_TO_TEXT\\DATA\\PREPROCESSED\\train\"\n",
    "store_in_pickles(df_clean_tot_train, direct_train, \"train\")"
   ]
  },
  {
   "cell_type": "code",
   "execution_count": 18,
   "metadata": {},
   "outputs": [],
   "source": [
    "direct_validation = r\"SPEECH_TO_TEXT\\DATA\\PREPROCESSED\\validation\"\n",
    "store_in_pickles(df_clean_tot_validation, direct_validation, \"validation\")"
   ]
  },
  {
   "cell_type": "code",
   "execution_count": 19,
   "metadata": {},
   "outputs": [],
   "source": [
    "direct_test = r\"SPEECH_TO_TEXT\\DATA\\PREPROCESSED\\test\"\n",
    "store_in_pickles(df_clean_tot_test, direct_test, \"test\")"
   ]
  }
 ],
 "metadata": {
  "kernelspec": {
   "display_name": "base",
   "language": "python",
   "name": "python3"
  },
  "language_info": {
   "codemirror_mode": {
    "name": "ipython",
    "version": 3
   },
   "file_extension": ".py",
   "mimetype": "text/x-python",
   "name": "python",
   "nbconvert_exporter": "python",
   "pygments_lexer": "ipython3",
   "version": "3.11.5"
  }
 },
 "nbformat": 4,
 "nbformat_minor": 2
}
