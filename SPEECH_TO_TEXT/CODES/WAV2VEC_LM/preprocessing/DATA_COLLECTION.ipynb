{
 "cells": [
  {
   "cell_type": "markdown",
   "metadata": {},
   "source": [
    "# Setup"
   ]
  },
  {
   "cell_type": "code",
   "execution_count": 1,
   "metadata": {},
   "outputs": [],
   "source": [
    "%%capture\n",
    "!pip install --upgrade datasets"
   ]
  },
  {
   "cell_type": "code",
   "execution_count": 2,
   "metadata": {},
   "outputs": [],
   "source": [
    "import pandas as pd\n",
    "from datasets import load_dataset\n",
    "import os\n",
    "import re"
   ]
  },
  {
   "cell_type": "code",
   "execution_count": 3,
   "metadata": {},
   "outputs": [],
   "source": [
    "os.chdir(r\"C:\\Users\\maron\\OneDrive\\02-Documents\\03.PROJETS\\00.INFORMATIQUE\\02.AI\\WOLOF\\SPEECH_TO_TEXT\")"
   ]
  },
  {
   "cell_type": "markdown",
   "metadata": {},
   "source": [
    "# Fonction"
   ]
  },
  {
   "cell_type": "markdown",
   "metadata": {},
   "source": [
    "# Loading data"
   ]
  },
  {
   "cell_type": "markdown",
   "metadata": {},
   "source": [
    "## Data from GALSENAI/wolof_corpus"
   ]
  },
  {
   "cell_type": "code",
   "execution_count": 4,
   "metadata": {},
   "outputs": [],
   "source": [
    "# wolof_corpus = load_dataset(\"galsenai/wolof_corpus\")"
   ]
  },
  {
   "cell_type": "code",
   "execution_count": 5,
   "metadata": {},
   "outputs": [],
   "source": [
    "# print(f'the keys of the downloaded data are : {wolof_corpus.keys()}')"
   ]
  },
  {
   "cell_type": "code",
   "execution_count": 6,
   "metadata": {},
   "outputs": [],
   "source": [
    "# wolof_corpus_df = wolof_corpus['train'].to_pandas()\n",
    "# wolof_corpus_df.head(3)"
   ]
  },
  {
   "cell_type": "code",
   "execution_count": 7,
   "metadata": {},
   "outputs": [],
   "source": [
    "# wolof_corpus_df.to_csv(r\"DATA\\BRUT\\DATASET\\WOLOF_CORPUS\\galsenai_wolof_corpus.csv\")"
   ]
  },
  {
   "cell_type": "markdown",
   "metadata": {},
   "source": [
    "## Data from galsenai/french-wolof-translation"
   ]
  },
  {
   "cell_type": "code",
   "execution_count": 8,
   "metadata": {},
   "outputs": [],
   "source": [
    "french_wolof_translation = load_dataset(\"galsenai/french-wolof-translation\")"
   ]
  },
  {
   "cell_type": "code",
   "execution_count": 9,
   "metadata": {},
   "outputs": [
    {
     "name": "stdout",
     "output_type": "stream",
     "text": [
      "the keys of the downloaded data are : dict_keys(['train', 'dev', 'test'])\n"
     ]
    }
   ],
   "source": [
    "print(f'the keys of the downloaded data are : {french_wolof_translation.keys()}')"
   ]
  },
  {
   "cell_type": "code",
   "execution_count": 10,
   "metadata": {},
   "outputs": [],
   "source": [
    "french_wolof_translation_df_train = french_wolof_translation['train'].to_pandas()\n",
    "french_wolof_translation_df_dev = french_wolof_translation['dev'].to_pandas()\n",
    "french_wolof_translation_df_test = french_wolof_translation['test'].to_pandas()"
   ]
  },
  {
   "cell_type": "code",
   "execution_count": 11,
   "metadata": {},
   "outputs": [
    {
     "data": {
      "text/html": [
       "<div>\n",
       "<style scoped>\n",
       "    .dataframe tbody tr th:only-of-type {\n",
       "        vertical-align: middle;\n",
       "    }\n",
       "\n",
       "    .dataframe tbody tr th {\n",
       "        vertical-align: top;\n",
       "    }\n",
       "\n",
       "    .dataframe thead th {\n",
       "        text-align: right;\n",
       "    }\n",
       "</style>\n",
       "<table border=\"1\" class=\"dataframe\">\n",
       "  <thead>\n",
       "    <tr style=\"text-align: right;\">\n",
       "      <th></th>\n",
       "      <th>translation</th>\n",
       "    </tr>\n",
       "  </thead>\n",
       "  <tbody>\n",
       "    <tr>\n",
       "      <th>0</th>\n",
       "      <td>{'fr': 'Bonne continuation.', 'wo': 'Yal na la...</td>\n",
       "    </tr>\n",
       "    <tr>\n",
       "      <th>1</th>\n",
       "      <td>{'fr': 'Vérifiez que votre main soit détendue ...</td>\n",
       "    </tr>\n",
       "    <tr>\n",
       "      <th>2</th>\n",
       "      <td>{'fr': 'Ce renouveau politique, véritable alte...</td>\n",
       "    </tr>\n",
       "  </tbody>\n",
       "</table>\n",
       "</div>"
      ],
      "text/plain": [
       "                                         translation\n",
       "0  {'fr': 'Bonne continuation.', 'wo': 'Yal na la...\n",
       "1  {'fr': 'Vérifiez que votre main soit détendue ...\n",
       "2  {'fr': 'Ce renouveau politique, véritable alte..."
      ]
     },
     "execution_count": 11,
     "metadata": {},
     "output_type": "execute_result"
    }
   ],
   "source": [
    "french_wolof_translation_df = pd.concat([french_wolof_translation_df_train, french_wolof_translation_df_dev, french_wolof_translation_df_test])\n",
    "french_wolof_translation_df.head(3)"
   ]
  },
  {
   "cell_type": "code",
   "execution_count": 12,
   "metadata": {},
   "outputs": [],
   "source": [
    "def get_sentence(row, lang):\n",
    "    return row[lang]"
   ]
  },
  {
   "cell_type": "code",
   "execution_count": 13,
   "metadata": {},
   "outputs": [],
   "source": [
    "french_wolof_translation_df['wolof'] = french_wolof_translation_df['translation'].apply(lambda row: get_sentence(row, 'wo'))\n",
    "french_wolof_translation_df['francais'] = french_wolof_translation_df['translation'].apply(lambda row: get_sentence(row, 'fr'))"
   ]
  },
  {
   "cell_type": "code",
   "execution_count": 14,
   "metadata": {},
   "outputs": [
    {
     "data": {
      "text/html": [
       "<div>\n",
       "<style scoped>\n",
       "    .dataframe tbody tr th:only-of-type {\n",
       "        vertical-align: middle;\n",
       "    }\n",
       "\n",
       "    .dataframe tbody tr th {\n",
       "        vertical-align: top;\n",
       "    }\n",
       "\n",
       "    .dataframe thead th {\n",
       "        text-align: right;\n",
       "    }\n",
       "</style>\n",
       "<table border=\"1\" class=\"dataframe\">\n",
       "  <thead>\n",
       "    <tr style=\"text-align: right;\">\n",
       "      <th></th>\n",
       "      <th>wolof</th>\n",
       "      <th>francais</th>\n",
       "    </tr>\n",
       "  </thead>\n",
       "  <tbody>\n",
       "    <tr>\n",
       "      <th>0</th>\n",
       "      <td>Yal na la jig te yeneeni ndam topp ci.</td>\n",
       "      <td>Bonne continuation.</td>\n",
       "    </tr>\n",
       "    <tr>\n",
       "      <th>1</th>\n",
       "      <td>Wóo ni sa loxo bi téguna bu baax booy bindee l...</td>\n",
       "      <td>Vérifiez que votre main soit détendue le plus ...</td>\n",
       "    </tr>\n",
       "    <tr>\n",
       "      <th>2</th>\n",
       "      <td>Beesal gi am ci pólótig bi dana tax, ci lu wér...</td>\n",
       "      <td>Ce renouveau politique, véritable alternative,...</td>\n",
       "    </tr>\n",
       "  </tbody>\n",
       "</table>\n",
       "</div>"
      ],
      "text/plain": [
       "                                               wolof  \\\n",
       "0             Yal na la jig te yeneeni ndam topp ci.   \n",
       "1  Wóo ni sa loxo bi téguna bu baax booy bindee l...   \n",
       "2  Beesal gi am ci pólótig bi dana tax, ci lu wér...   \n",
       "\n",
       "                                            francais  \n",
       "0                                Bonne continuation.  \n",
       "1  Vérifiez que votre main soit détendue le plus ...  \n",
       "2  Ce renouveau politique, véritable alternative,...  "
      ]
     },
     "execution_count": 14,
     "metadata": {},
     "output_type": "execute_result"
    }
   ],
   "source": [
    "french_wolof_translation_df = french_wolof_translation_df.drop(columns=\"translation\")\n",
    "french_wolof_translation_df.head(3)"
   ]
  },
  {
   "cell_type": "code",
   "execution_count": 15,
   "metadata": {},
   "outputs": [],
   "source": [
    "french_wolof_translation_df.to_csv(r\"DATA\\BRUT\\DATASET\\WOLOF_FRENCH\\galsenai_french_wolof_translation.csv\")"
   ]
  },
  {
   "cell_type": "markdown",
   "metadata": {},
   "source": [
    "## Data from ALFFA"
   ]
  },
  {
   "cell_type": "code",
   "execution_count": 16,
   "metadata": {},
   "outputs": [
    {
     "data": {
      "text/html": [
       "<div>\n",
       "<style scoped>\n",
       "    .dataframe tbody tr th:only-of-type {\n",
       "        vertical-align: middle;\n",
       "    }\n",
       "\n",
       "    .dataframe tbody tr th {\n",
       "        vertical-align: top;\n",
       "    }\n",
       "\n",
       "    .dataframe thead th {\n",
       "        text-align: right;\n",
       "    }\n",
       "</style>\n",
       "<table border=\"1\" class=\"dataframe\">\n",
       "  <thead>\n",
       "    <tr style=\"text-align: right;\">\n",
       "      <th></th>\n",
       "      <th>Unnamed: 0</th>\n",
       "      <th>filename</th>\n",
       "      <th>transcript</th>\n",
       "    </tr>\n",
       "  </thead>\n",
       "  <tbody>\n",
       "    <tr>\n",
       "      <th>0</th>\n",
       "      <td>0</td>\n",
       "      <td>WOL_05_lect_0005</td>\n",
       "      <td>tari boo xam ne dañu lay gàgganti rekk mokkul</td>\n",
       "    </tr>\n",
       "    <tr>\n",
       "      <th>1</th>\n",
       "      <td>1</td>\n",
       "      <td>WOL_05_lect_0009</td>\n",
       "      <td>dafa am jamano yoo xam ni xasaw dafay ànd ak x...</td>\n",
       "    </tr>\n",
       "    <tr>\n",
       "      <th>2</th>\n",
       "      <td>2</td>\n",
       "      <td>WOL_05_lect_0016</td>\n",
       "      <td>bu ngeen bëggee laale demleen ca àll ba</td>\n",
       "    </tr>\n",
       "  </tbody>\n",
       "</table>\n",
       "</div>"
      ],
      "text/plain": [
       "   Unnamed: 0          filename  \\\n",
       "0           0  WOL_05_lect_0005   \n",
       "1           1  WOL_05_lect_0009   \n",
       "2           2  WOL_05_lect_0016   \n",
       "\n",
       "                                          transcript  \n",
       "0      tari boo xam ne dañu lay gàgganti rekk mokkul  \n",
       "1  dafa am jamano yoo xam ni xasaw dafay ànd ak x...  \n",
       "2            bu ngeen bëggee laale demleen ca àll ba  "
      ]
     },
     "execution_count": 16,
     "metadata": {},
     "output_type": "execute_result"
    }
   ],
   "source": [
    "alffa_txt = pd.read_csv(r\"DATA\\BRUT\\DATASET\\alffa_git\\alffa_git_brut.csv\")\n",
    "alffa_txt.head(3)"
   ]
  },
  {
   "cell_type": "markdown",
   "metadata": {},
   "source": [
    "# Data from ALFFA Corpus"
   ]
  },
  {
   "cell_type": "code",
   "execution_count": 17,
   "metadata": {},
   "outputs": [
    {
     "data": {
      "text/html": [
       "<div>\n",
       "<style scoped>\n",
       "    .dataframe tbody tr th:only-of-type {\n",
       "        vertical-align: middle;\n",
       "    }\n",
       "\n",
       "    .dataframe tbody tr th {\n",
       "        vertical-align: top;\n",
       "    }\n",
       "\n",
       "    .dataframe thead th {\n",
       "        text-align: right;\n",
       "    }\n",
       "</style>\n",
       "<table border=\"1\" class=\"dataframe\">\n",
       "  <thead>\n",
       "    <tr style=\"text-align: right;\">\n",
       "      <th></th>\n",
       "      <th>text</th>\n",
       "    </tr>\n",
       "  </thead>\n",
       "  <tbody>\n",
       "    <tr>\n",
       "      <th>0</th>\n",
       "      <td>a ngi baawaan ci ay woy yu kenn manul raññee j...</td>\n",
       "    </tr>\n",
       "    <tr>\n",
       "      <th>1</th>\n",
       "      <td>aji ji ak jottalikat bi ñu ngi jakkarlóo</td>\n",
       "    </tr>\n",
       "    <tr>\n",
       "      <th>2</th>\n",
       "      <td>aji jëfe ji</td>\n",
       "    </tr>\n",
       "  </tbody>\n",
       "</table>\n",
       "</div>"
      ],
      "text/plain": [
       "                                                text\n",
       "0  a ngi baawaan ci ay woy yu kenn manul raññee j...\n",
       "1           aji ji ak jottalikat bi ñu ngi jakkarlóo\n",
       "2                                        aji jëfe ji"
      ]
     },
     "execution_count": 17,
     "metadata": {},
     "output_type": "execute_result"
    }
   ],
   "source": [
    "wolof_corpus_df = pd.read_csv(r\"DATA\\BRUT\\DATASET\\WOLOF_CORPUS\\wo_SN-web_crawled.csv\")\n",
    "wolof_corpus_df.head(3)"
   ]
  },
  {
   "cell_type": "markdown",
   "metadata": {},
   "source": [
    "# Data from ALFFA WOL"
   ]
  },
  {
   "cell_type": "code",
   "execution_count": 18,
   "metadata": {},
   "outputs": [
    {
     "data": {
      "text/html": [
       "<div>\n",
       "<style scoped>\n",
       "    .dataframe tbody tr th:only-of-type {\n",
       "        vertical-align: middle;\n",
       "    }\n",
       "\n",
       "    .dataframe tbody tr th {\n",
       "        vertical-align: top;\n",
       "    }\n",
       "\n",
       "    .dataframe thead th {\n",
       "        text-align: right;\n",
       "    }\n",
       "</style>\n",
       "<table border=\"1\" class=\"dataframe\">\n",
       "  <thead>\n",
       "    <tr style=\"text-align: right;\">\n",
       "      <th></th>\n",
       "      <th>text</th>\n",
       "    </tr>\n",
       "  </thead>\n",
       "  <tbody>\n",
       "    <tr>\n",
       "      <th>0</th>\n",
       "      <td>Na baral wax ji</td>\n",
       "    </tr>\n",
       "    <tr>\n",
       "      <th>1</th>\n",
       "      <td>Na bay waar wi féete ak jànj bi</td>\n",
       "    </tr>\n",
       "    <tr>\n",
       "      <th>2</th>\n",
       "      <td>Na bufta yi jib</td>\n",
       "    </tr>\n",
       "  </tbody>\n",
       "</table>\n",
       "</div>"
      ],
      "text/plain": [
       "                              text\n",
       "0                  Na baral wax ji\n",
       "1  Na bay waar wi féete ak jànj bi\n",
       "2                  Na bufta yi jib"
      ]
     },
     "execution_count": 18,
     "metadata": {},
     "output_type": "execute_result"
    }
   ],
   "source": [
    "wol_df = pd.read_csv(r\"DATA\\BRUT\\DATASET\\WOLOF_CORPUS\\WOL copy.csv\")\n",
    "wol_df.head(3)"
   ]
  },
  {
   "cell_type": "markdown",
   "metadata": {},
   "source": [
    "## Data from waxal"
   ]
  },
  {
   "cell_type": "code",
   "execution_count": 19,
   "metadata": {},
   "outputs": [
    {
     "data": {
      "text/html": [
       "<div>\n",
       "<style scoped>\n",
       "    .dataframe tbody tr th:only-of-type {\n",
       "        vertical-align: middle;\n",
       "    }\n",
       "\n",
       "    .dataframe tbody tr th {\n",
       "        vertical-align: top;\n",
       "    }\n",
       "\n",
       "    .dataframe thead th {\n",
       "        text-align: right;\n",
       "    }\n",
       "</style>\n",
       "<table border=\"1\" class=\"dataframe\">\n",
       "  <thead>\n",
       "    <tr style=\"text-align: right;\">\n",
       "      <th></th>\n",
       "      <th>Unnamed: 0</th>\n",
       "      <th>id</th>\n",
       "      <th>transcription</th>\n",
       "      <th>length</th>\n",
       "      <th>filename</th>\n",
       "    </tr>\n",
       "  </thead>\n",
       "  <tbody>\n",
       "    <tr>\n",
       "      <th>0</th>\n",
       "      <td>0</td>\n",
       "      <td>1</td>\n",
       "      <td>Lii de ay nit lañu, ñoo xamante ne dañoo toog,...</td>\n",
       "      <td>33.178</td>\n",
       "      <td>perrynelson_1_WOL.wav</td>\n",
       "    </tr>\n",
       "    <tr>\n",
       "      <th>1</th>\n",
       "      <td>1</td>\n",
       "      <td>2</td>\n",
       "      <td>Lii de ab nataal la boob mel na ne maa ngi ciy...</td>\n",
       "      <td>18.838</td>\n",
       "      <td>perrynelson_2_WOL.wav</td>\n",
       "    </tr>\n",
       "    <tr>\n",
       "      <th>2</th>\n",
       "      <td>2</td>\n",
       "      <td>3</td>\n",
       "      <td>Waaw, lii sunu mbokk yi nekk ci casamance lañ ...</td>\n",
       "      <td>17.714</td>\n",
       "      <td>perrynelson_3_WOL.wav</td>\n",
       "    </tr>\n",
       "  </tbody>\n",
       "</table>\n",
       "</div>"
      ],
      "text/plain": [
       "   Unnamed: 0  id                                      transcription  length  \\\n",
       "0           0   1  Lii de ay nit lañu, ñoo xamante ne dañoo toog,...  33.178   \n",
       "1           1   2  Lii de ab nataal la boob mel na ne maa ngi ciy...  18.838   \n",
       "2           2   3  Waaw, lii sunu mbokk yi nekk ci casamance lañ ...  17.714   \n",
       "\n",
       "                filename  \n",
       "0  perrynelson_1_WOL.wav  \n",
       "1  perrynelson_2_WOL.wav  \n",
       "2  perrynelson_3_WOL.wav  "
      ]
     },
     "execution_count": 19,
     "metadata": {},
     "output_type": "execute_result"
    }
   ],
   "source": [
    "waxal_txt = pd.read_csv(r\"DATA\\CLEANED\\waxal\\waxal__clean_df.csv\")\n",
    "waxal_txt.head(3)"
   ]
  },
  {
   "cell_type": "markdown",
   "metadata": {},
   "source": [
    "## Data from examples of the dictionnary wolof-français"
   ]
  },
  {
   "cell_type": "code",
   "execution_count": 20,
   "metadata": {},
   "outputs": [
    {
     "data": {
      "text/html": [
       "<div>\n",
       "<style scoped>\n",
       "    .dataframe tbody tr th:only-of-type {\n",
       "        vertical-align: middle;\n",
       "    }\n",
       "\n",
       "    .dataframe tbody tr th {\n",
       "        vertical-align: top;\n",
       "    }\n",
       "\n",
       "    .dataframe thead th {\n",
       "        text-align: right;\n",
       "    }\n",
       "</style>\n",
       "<table border=\"1\" class=\"dataframe\">\n",
       "  <thead>\n",
       "    <tr style=\"text-align: right;\">\n",
       "      <th></th>\n",
       "      <th>id</th>\n",
       "      <th>example</th>\n",
       "      <th>exampl_Trad</th>\n",
       "      <th>creationDate</th>\n",
       "      <th>LastModifDate</th>\n",
       "    </tr>\n",
       "  </thead>\n",
       "  <tbody>\n",
       "    <tr>\n",
       "      <th>0</th>\n",
       "      <td>1</td>\n",
       "      <td>Ab paaka la yore</td>\n",
       "      <td>Il a un couteau sur lui</td>\n",
       "      <td>2023-12-23 20:28:28</td>\n",
       "      <td>2023-12-23 20:28:28</td>\n",
       "    </tr>\n",
       "    <tr>\n",
       "      <th>1</th>\n",
       "      <td>2</td>\n",
       "      <td>Abal ma sa téere !</td>\n",
       "      <td>Prête-moi ton livre !</td>\n",
       "      <td>2023-12-23 20:28:28</td>\n",
       "      <td>2023-12-23 20:28:28</td>\n",
       "    </tr>\n",
       "    <tr>\n",
       "      <th>2</th>\n",
       "      <td>3</td>\n",
       "      <td>Peñe, kenn du ko able</td>\n",
       "      <td>Un peigne, personne ne le prête</td>\n",
       "      <td>2023-12-23 20:28:28</td>\n",
       "      <td>2023-12-23 20:28:28</td>\n",
       "    </tr>\n",
       "  </tbody>\n",
       "</table>\n",
       "</div>"
      ],
      "text/plain": [
       "   id                example                      exampl_Trad  \\\n",
       "0   1       Ab paaka la yore          Il a un couteau sur lui   \n",
       "1   2     Abal ma sa téere !            Prête-moi ton livre !   \n",
       "2   3  Peñe, kenn du ko able  Un peigne, personne ne le prête   \n",
       "\n",
       "          creationDate        LastModifDate  \n",
       "0  2023-12-23 20:28:28  2023-12-23 20:28:28  \n",
       "1  2023-12-23 20:28:28  2023-12-23 20:28:28  \n",
       "2  2023-12-23 20:28:28  2023-12-23 20:28:28  "
      ]
     },
     "execution_count": 20,
     "metadata": {},
     "output_type": "execute_result"
    }
   ],
   "source": [
    "example_wolof_francais_txt = pd.read_csv(r\"DATA\\BRUT\\DATASET\\WOLOF_FRENCH\\wlexample.csv\")\n",
    "example_wolof_francais_txt.head(3)"
   ]
  },
  {
   "cell_type": "code",
   "execution_count": 21,
   "metadata": {},
   "outputs": [
    {
     "data": {
      "text/html": [
       "<div>\n",
       "<style scoped>\n",
       "    .dataframe tbody tr th:only-of-type {\n",
       "        vertical-align: middle;\n",
       "    }\n",
       "\n",
       "    .dataframe tbody tr th {\n",
       "        vertical-align: top;\n",
       "    }\n",
       "\n",
       "    .dataframe thead th {\n",
       "        text-align: right;\n",
       "    }\n",
       "</style>\n",
       "<table border=\"1\" class=\"dataframe\">\n",
       "  <thead>\n",
       "    <tr style=\"text-align: right;\">\n",
       "      <th></th>\n",
       "      <th>example</th>\n",
       "      <th>exampl_Trad</th>\n",
       "    </tr>\n",
       "  </thead>\n",
       "  <tbody>\n",
       "    <tr>\n",
       "      <th>0</th>\n",
       "      <td>Ab paaka la yore</td>\n",
       "      <td>Il a un couteau sur lui</td>\n",
       "    </tr>\n",
       "    <tr>\n",
       "      <th>1</th>\n",
       "      <td>Abal ma sa téere !</td>\n",
       "      <td>Prête-moi ton livre !</td>\n",
       "    </tr>\n",
       "    <tr>\n",
       "      <th>2</th>\n",
       "      <td>Peñe, kenn du ko able</td>\n",
       "      <td>Un peigne, personne ne le prête</td>\n",
       "    </tr>\n",
       "  </tbody>\n",
       "</table>\n",
       "</div>"
      ],
      "text/plain": [
       "                 example                      exampl_Trad\n",
       "0       Ab paaka la yore          Il a un couteau sur lui\n",
       "1     Abal ma sa téere !            Prête-moi ton livre !\n",
       "2  Peñe, kenn du ko able  Un peigne, personne ne le prête"
      ]
     },
     "execution_count": 21,
     "metadata": {},
     "output_type": "execute_result"
    }
   ],
   "source": [
    "example_wolof_francais_df = example_wolof_francais_txt.drop(columns=[\"creationDate\", 'LastModifDate', 'id'])\n",
    "example_wolof_francais_df.head(3)"
   ]
  },
  {
   "cell_type": "code",
   "execution_count": 22,
   "metadata": {},
   "outputs": [
    {
     "data": {
      "text/html": [
       "<div>\n",
       "<style scoped>\n",
       "    .dataframe tbody tr th:only-of-type {\n",
       "        vertical-align: middle;\n",
       "    }\n",
       "\n",
       "    .dataframe tbody tr th {\n",
       "        vertical-align: top;\n",
       "    }\n",
       "\n",
       "    .dataframe thead th {\n",
       "        text-align: right;\n",
       "    }\n",
       "</style>\n",
       "<table border=\"1\" class=\"dataframe\">\n",
       "  <thead>\n",
       "    <tr style=\"text-align: right;\">\n",
       "      <th></th>\n",
       "      <th>wolof</th>\n",
       "      <th>francais</th>\n",
       "    </tr>\n",
       "  </thead>\n",
       "  <tbody>\n",
       "    <tr>\n",
       "      <th>0</th>\n",
       "      <td>Ab paaka la yore</td>\n",
       "      <td>Il a un couteau sur lui</td>\n",
       "    </tr>\n",
       "    <tr>\n",
       "      <th>1</th>\n",
       "      <td>Abal ma sa téere !</td>\n",
       "      <td>Prête-moi ton livre !</td>\n",
       "    </tr>\n",
       "    <tr>\n",
       "      <th>2</th>\n",
       "      <td>Peñe, kenn du ko able</td>\n",
       "      <td>Un peigne, personne ne le prête</td>\n",
       "    </tr>\n",
       "  </tbody>\n",
       "</table>\n",
       "</div>"
      ],
      "text/plain": [
       "                   wolof                         francais\n",
       "0       Ab paaka la yore          Il a un couteau sur lui\n",
       "1     Abal ma sa téere !            Prête-moi ton livre !\n",
       "2  Peñe, kenn du ko able  Un peigne, personne ne le prête"
      ]
     },
     "execution_count": 22,
     "metadata": {},
     "output_type": "execute_result"
    }
   ],
   "source": [
    "example_wolof_francais_df['wolof'] = example_wolof_francais_df['example']\n",
    "example_wolof_francais_df['francais'] = example_wolof_francais_df['exampl_Trad']\n",
    "example_wolof_francais_df = example_wolof_francais_df.drop(columns=[\"example\", \"exampl_Trad\"])\n",
    "example_wolof_francais_df.head(3)"
   ]
  },
  {
   "cell_type": "code",
   "execution_count": 23,
   "metadata": {},
   "outputs": [],
   "source": [
    "example_wolof_francais_df.to_csv(r\"DATA\\BRUT\\DATASET\\WOLOF_FRENCH\\example_wolof_french_dico_clean.csv\")"
   ]
  },
  {
   "cell_type": "markdown",
   "metadata": {},
   "source": [
    "# Gather all the data"
   ]
  },
  {
   "cell_type": "code",
   "execution_count": 24,
   "metadata": {},
   "outputs": [
    {
     "data": {
      "text/plain": [
       "0         Ab paaka la yore\n",
       "1       Abal ma sa téere !\n",
       "2    Peñe, kenn du ko able\n",
       "dtype: object"
      ]
     },
     "execution_count": 24,
     "metadata": {},
     "output_type": "execute_result"
    }
   ],
   "source": [
    "data_text_wolof = pd.DataFrame\n",
    "data_text_wolof = pd.concat([example_wolof_francais_df['wolof'], waxal_txt['transcription'], alffa_txt['transcript'], french_wolof_translation_df['wolof'], wolof_corpus_df['text'], wol_df['text']])\n",
    "data_text_wolof.head(3)"
   ]
  },
  {
   "cell_type": "code",
   "execution_count": 25,
   "metadata": {},
   "outputs": [],
   "source": [
    "data_cleaned_path = r\"DATA\\CLEANED\\WOLOF_NGRAM\\\\\"\n",
    "def store_sentences(df, file_name='data.txt'):\n",
    "    with open(data_cleaned_path + file_name, 'w') as f:\n",
    "        for row in df:\n",
    "            # Remove newline characters within a row\n",
    "            for char in ['\\n', '\\\"', '!', ',', ';', '[', ']', '(', ')']:\n",
    "                row = str(row).replace(char, '')\n",
    "            # Split sentences at '.', '!', and '?'\n",
    "            sentences = re.split('[.?]', row)\n",
    "            for sentence in sentences:\n",
    "                if sentence != '' and len(sentence) > 1:\n",
    "                    f.write(sentence.strip() + '\\n')"
   ]
  },
  {
   "cell_type": "code",
   "execution_count": 26,
   "metadata": {},
   "outputs": [],
   "source": [
    "store_sentences(data_text_wolof)"
   ]
  }
 ],
 "metadata": {
  "kernelspec": {
   "display_name": "base",
   "language": "python",
   "name": "python3"
  },
  "language_info": {
   "codemirror_mode": {
    "name": "ipython",
    "version": 3
   },
   "file_extension": ".py",
   "mimetype": "text/x-python",
   "name": "python",
   "nbconvert_exporter": "python",
   "pygments_lexer": "ipython3",
   "version": "3.11.5"
  }
 },
 "nbformat": 4,
 "nbformat_minor": 2
}
