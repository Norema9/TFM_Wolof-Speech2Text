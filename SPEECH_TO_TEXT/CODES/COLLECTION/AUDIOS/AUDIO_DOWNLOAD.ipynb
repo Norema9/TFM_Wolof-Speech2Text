{
 "cells": [
  {
   "cell_type": "markdown",
   "metadata": {},
   "source": [
    "# Setup"
   ]
  },
  {
   "cell_type": "code",
   "execution_count": 35,
   "metadata": {},
   "outputs": [
    {
     "name": "stdout",
     "output_type": "stream",
     "text": [
      "Requirement already satisfied: pandas in c:\\users\\maron\\anaconda3\\lib\\site-packages (2.0.3)\n",
      "Requirement already satisfied: python-dateutil>=2.8.2 in c:\\users\\maron\\anaconda3\\lib\\site-packages (from pandas) (2.8.2)\n",
      "Requirement already satisfied: pytz>=2020.1 in c:\\users\\maron\\anaconda3\\lib\\site-packages (from pandas) (2023.3.post1)\n",
      "Requirement already satisfied: tzdata>=2022.1 in c:\\users\\maron\\anaconda3\\lib\\site-packages (from pandas) (2023.3)\n",
      "Requirement already satisfied: numpy>=1.21.0 in c:\\users\\maron\\anaconda3\\lib\\site-packages (from pandas) (1.24.3)\n",
      "Requirement already satisfied: six>=1.5 in c:\\users\\maron\\anaconda3\\lib\\site-packages (from python-dateutil>=2.8.2->pandas) (1.16.0)\n"
     ]
    },
    {
     "name": "stderr",
     "output_type": "stream",
     "text": [
      "WARNING: Retrying (Retry(total=4, connect=None, read=None, redirect=None, status=None)) after connection broken by 'NewConnectionError('<pip._vendor.urllib3.connection.HTTPSConnection object at 0x000001848BE2D410>: Failed to establish a new connection: [WinError 10051] A socket operation was attempted to an unreachable network')': /simple/pandas/\n",
      "WARNING: Retrying (Retry(total=3, connect=None, read=None, redirect=None, status=None)) after connection broken by 'NewConnectionError('<pip._vendor.urllib3.connection.HTTPSConnection object at 0x000001848BE36BD0>: Failed to establish a new connection: [Errno 11001] getaddrinfo failed')': /simple/pandas/\n",
      "WARNING: Retrying (Retry(total=2, connect=None, read=None, redirect=None, status=None)) after connection broken by 'NewConnectionError('<pip._vendor.urllib3.connection.HTTPSConnection object at 0x000001848BE3A710>: Failed to establish a new connection: [Errno 11001] getaddrinfo failed')': /simple/pandas/\n",
      "WARNING: Retrying (Retry(total=1, connect=None, read=None, redirect=None, status=None)) after connection broken by 'NewConnectionError('<pip._vendor.urllib3.connection.HTTPSConnection object at 0x000001848BE01910>: Failed to establish a new connection: [Errno 11001] getaddrinfo failed')': /simple/pandas/\n",
      "WARNING: Retrying (Retry(total=0, connect=None, read=None, redirect=None, status=None)) after connection broken by 'NewConnectionError('<pip._vendor.urllib3.connection.HTTPSConnection object at 0x000001848BE4C350>: Failed to establish a new connection: [Errno 11001] getaddrinfo failed')': /simple/pandas/\n"
     ]
    }
   ],
   "source": [
    "# !pip uninstall pafy\n",
    "# !pip install pytube\n",
    "# !pip install google-api-python-client\n",
    "# !pip install --upgrade pandas"
   ]
  },
  {
   "cell_type": "code",
   "execution_count": 9,
   "metadata": {},
   "outputs": [],
   "source": [
    "import pytube\n",
    "import os\n",
    "import pandas as pd"
   ]
  },
  {
   "cell_type": "code",
   "execution_count": 10,
   "metadata": {},
   "outputs": [],
   "source": [
    "os.chdir(r\"F:\\WOLOF\\SPEECH_TO_TEXT\\DATA\\BRUT\\WOLOF_AUDIO\")"
   ]
  },
  {
   "cell_type": "code",
   "execution_count": null,
   "metadata": {},
   "outputs": [],
   "source": [
    "\n",
    "# # Set up the YouTube Data API\n",
    "# api_key = 'YOUR_API_KEY'\n",
    "# youtube = build('youtube', 'v3', developerKey=api_key)\n",
    "\n",
    "# # Get the videos from the channel\n",
    "# request = youtube.search().list(\n",
    "#     part='snippet',\n",
    "#     channelId='CHANNEL_ID',\n",
    "#     maxResults=100,  # Adjust as needed\n",
    "#     type='video'\n",
    "# )\n",
    "# response = request.execute()\n",
    "\n",
    "# # Filter videos by title and get the video URLs\n",
    "# word = 'YOUR_WORD'\n",
    "# video_urls = []\n",
    "# for item in response['items']:\n",
    "#     if word in item['snippet']['title']:\n",
    "#         video_id = item['id']['videoId']\n",
    "#         video_url = f'https://www.youtube.com/watch?v={video_id}'\n",
    "#         video_urls.append(video_url)\n",
    "\n",
    "# # Now you can use pytube to download the videos\n",
    "# for url in video_urls:\n",
    "#     YouTube(url).streams.first().download()\n"
   ]
  },
  {
   "cell_type": "code",
   "execution_count": 11,
   "metadata": {},
   "outputs": [],
   "source": [
    "def download_audio(url):\n",
    "    video = pytube.YouTube(url)\n",
    "    audio = video.streams.get_audio_only()\n",
    "    audio.download(\"audio\")"
   ]
  },
  {
   "cell_type": "code",
   "execution_count": 26,
   "metadata": {},
   "outputs": [
    {
     "data": {
      "text/html": [
       "<div>\n",
       "<style scoped>\n",
       "    .dataframe tbody tr th:only-of-type {\n",
       "        vertical-align: middle;\n",
       "    }\n",
       "\n",
       "    .dataframe tbody tr th {\n",
       "        vertical-align: top;\n",
       "    }\n",
       "\n",
       "    .dataframe thead th {\n",
       "        text-align: right;\n",
       "    }\n",
       "</style>\n",
       "<table border=\"1\" class=\"dataframe\">\n",
       "  <thead>\n",
       "    <tr style=\"text-align: right;\">\n",
       "      <th></th>\n",
       "      <th>0</th>\n",
       "      <th>1</th>\n",
       "      <th>2</th>\n",
       "    </tr>\n",
       "  </thead>\n",
       "  <tbody>\n",
       "    <tr>\n",
       "      <th>link</th>\n",
       "      <td>https://www.youtube.com/watch?v=FswH6FGj1j0&amp;pp...</td>\n",
       "      <td>https://www.youtube.com/watch?v=i0eoxiDd2e4</td>\n",
       "      <td>https://www.youtube.com/watch?v=Ct8t1Tl1hNI</td>\n",
       "    </tr>\n",
       "  </tbody>\n",
       "</table>\n",
       "</div>"
      ],
      "text/plain": [
       "                                                      0  \\\n",
       "link  https://www.youtube.com/watch?v=FswH6FGj1j0&pp...   \n",
       "\n",
       "                                                1  \\\n",
       "link  https://www.youtube.com/watch?v=i0eoxiDd2e4   \n",
       "\n",
       "                                                2  \n",
       "link  https://www.youtube.com/watch?v=Ct8t1Tl1hNI  "
      ]
     },
     "execution_count": 26,
     "metadata": {},
     "output_type": "execute_result"
    }
   ],
   "source": [
    "video_url_df = pd.read_csv(r\"F:\\WOLOF\\SPEECH_TO_TEXT\\DATA\\BRUT\\WOLOF_AUDIO\\CSV\\YT_link.csv\")\n",
    "video_url_df.head(3).T"
   ]
  },
  {
   "cell_type": "code",
   "execution_count": 28,
   "metadata": {},
   "outputs": [],
   "source": [
    "def get_actual_link(row):\n",
    "    return row.split('&')[0]\n",
    "video_url_df['link'] = video_url_df['link'].apply(lambda row: get_actual_link(row))\n",
    "video_url_df['link'].to_csv(r'F:\\WOLOF\\SPEECH_TO_TEXT\\DATA\\BRUT\\WOLOF_AUDIO\\CSV\\YT_link.csv', index=False)"
   ]
  },
  {
   "cell_type": "code",
   "execution_count": 29,
   "metadata": {},
   "outputs": [],
   "source": [
    "for url in video_url_df['link'].values:\n",
    "    alread_download_url = pd.read_csv(r'F:\\WOLOF\\SPEECH_TO_TEXT\\DATA\\BRUT\\WOLOF_AUDIO\\CSV\\alread_download_url.csv')\n",
    "    if url not in alread_download_url['link'].values:\n",
    "        download_audio(url)\n",
    "        new_row = {'link': [url]}\n",
    "        alread_download_url = pd.concat([alread_download_url, pd.DataFrame(new_row)])\n",
    "        alread_download_url['link'].to_csv(r\"F:\\WOLOF\\SPEECH_TO_TEXT\\DATA\\BRUT\\WOLOF_AUDIO\\CSV\\alread_download_url.csv\", index=False)"
   ]
  }
 ],
 "metadata": {
  "kernelspec": {
   "display_name": "base",
   "language": "python",
   "name": "python3"
  },
  "language_info": {
   "codemirror_mode": {
    "name": "ipython",
    "version": 3
   },
   "file_extension": ".py",
   "mimetype": "text/x-python",
   "name": "python",
   "nbconvert_exporter": "python",
   "pygments_lexer": "ipython3",
   "version": "3.11.5"
  }
 },
 "nbformat": 4,
 "nbformat_minor": 2
}
