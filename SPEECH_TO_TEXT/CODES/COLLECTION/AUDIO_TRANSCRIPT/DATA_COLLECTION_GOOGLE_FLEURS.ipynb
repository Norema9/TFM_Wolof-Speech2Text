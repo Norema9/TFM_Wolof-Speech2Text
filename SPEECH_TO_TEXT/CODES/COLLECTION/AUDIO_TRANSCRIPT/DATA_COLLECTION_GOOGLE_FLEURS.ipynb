{
 "cells": [
  {
   "cell_type": "markdown",
   "metadata": {},
   "source": [
    "# SETUP"
   ]
  },
  {
   "cell_type": "code",
   "execution_count": 1,
   "metadata": {
    "colab": {
     "base_uri": "https://localhost:8080/"
    },
    "executionInfo": {
     "elapsed": 23325,
     "status": "ok",
     "timestamp": 1704108495861,
     "user": {
      "displayName": "Mamadou Marone",
      "userId": "05267491098406901582"
     },
     "user_tz": -60
    },
    "id": "aXRim0rtYof9",
    "outputId": "fc8f0801-c95b-4bc5-b6db-f91c9700f1f0"
   },
   "outputs": [],
   "source": [
    "%%capture\n",
    "!pip install fastapi kaleido python-multipart uvicorn\n",
    "!pip install --upgrade datasets\n",
    "!pip install pandas pydub\n",
    "!pip install librosa scipy soundfile"
   ]
  },
  {
   "cell_type": "code",
   "execution_count": 2,
   "metadata": {
    "id": "jX5vjygmYogB"
   },
   "outputs": [],
   "source": [
    "from datasets import load_dataset\n",
    "import numpy as np\n",
    "import pandas as pd\n",
    "from pydub import AudioSegment\n",
    "import wave\n",
    "import os\n",
    "import io"
   ]
  },
  {
   "cell_type": "code",
   "execution_count": 3,
   "metadata": {},
   "outputs": [],
   "source": [
    "path = r\"C:\\\\Users\\\\maron\\\\OneDrive\\\\02-Documents\\\\03.PROJETS\\\\00.INFORMATIQUE\\\\02.AI\\\\WOLOF\"\n",
    "os.chdir(path)"
   ]
  },
  {
   "cell_type": "markdown",
   "metadata": {
    "id": "7oDVQ1UdYogC"
   },
   "source": [
    "# Functions"
   ]
  },
  {
   "cell_type": "code",
   "execution_count": 17,
   "metadata": {
    "id": "6lhauqg4GD2E"
   },
   "outputs": [],
   "source": [
    "## the goal is to convert the speech array to WAV file in bulk\n",
    "audio_file_path = r'SPEECH_TO_TEXT\\DATA\\CLEANED\\WOLOF_AUDIO_TRANS\\google_fleurs\\audio\\\\'\n",
    "def ByteWAV2WAV(audio_dict, df_name):\n",
    "    try:\n",
    "        # Extract 'bytes' from the dictionary\n",
    "        audio_bytes = audio_dict.get('audio')['bytes']\n",
    "\n",
    "        # Save the bytes as a WAV file\n",
    "        filename = f\"{df_name}_{audio_dict.get('id')}_WOL.wav\"\n",
    "        with open(os.path.join(audio_file_path, filename), 'wb') as f:\n",
    "            f.write(audio_bytes)\n",
    "\n",
    "        # Calculate the duration of the audio\n",
    "        audio = AudioSegment.from_file(os.path.join(audio_file_path, filename))\n",
    "        audio_duration = len(audio) / 1000.0  # Convert from milliseconds to seconds\n",
    "\n",
    "        # Return the generated file path, audio duration, and filename\n",
    "        return audio_duration, filename\n",
    "    except Exception as e:\n",
    "        print(f\"Error processing id {audio_dict.get('id')}: {e}\")\n",
    "        return None"
   ]
  },
  {
   "cell_type": "code",
   "execution_count": 5,
   "metadata": {
    "id": "9s-KESsDYogD"
   },
   "outputs": [],
   "source": [
    "def create_id(df, id_max):\n",
    "    df['id'] = range(id_max + 1, id_max + len(df) + 1)\n",
    "    return df"
   ]
  },
  {
   "cell_type": "markdown",
   "metadata": {
    "id": "0eu0Ueb4YogE"
   },
   "source": [
    "# Data loading"
   ]
  },
  {
   "cell_type": "code",
   "execution_count": 7,
   "metadata": {
    "id": "qRTkZLfiYogE"
   },
   "outputs": [
    {
     "name": "stderr",
     "output_type": "stream",
     "text": [
      "c:\\Users\\maron\\anaconda3\\Lib\\site-packages\\datasets\\load.py:1454: FutureWarning: The repository for google/fleurs contains custom code which must be executed to correctly load the dataset. You can inspect the repository content at https://hf.co/datasets/google/fleurs\n",
      "You can avoid this message in future by passing the argument `trust_remote_code=True`.\n",
      "Passing `trust_remote_code=True` will be mandatory to load this dataset from the next major release of `datasets`.\n",
      "  warnings.warn(\n"
     ]
    },
    {
     "data": {
      "application/vnd.jupyter.widget-view+json": {
       "model_id": "d42f6e214fb543f3b001a9867ece399a",
       "version_major": 2,
       "version_minor": 0
      },
      "text/plain": [
       "Downloading data:   0%|          | 0.00/1.42G [00:00<?, ?B/s]"
      ]
     },
     "metadata": {},
     "output_type": "display_data"
    },
    {
     "data": {
      "application/vnd.jupyter.widget-view+json": {
       "model_id": "1e390906c378422aa41f9081e9898f28",
       "version_major": 2,
       "version_minor": 0
      },
      "text/plain": [
       "Downloading data:   0%|          | 0.00/126M [00:00<?, ?B/s]"
      ]
     },
     "metadata": {},
     "output_type": "display_data"
    },
    {
     "data": {
      "application/vnd.jupyter.widget-view+json": {
       "model_id": "cd63ad0977d34c8c8786d08f0934bbe5",
       "version_major": 2,
       "version_minor": 0
      },
      "text/plain": [
       "Downloading data:   0%|          | 0.00/286M [00:00<?, ?B/s]"
      ]
     },
     "metadata": {},
     "output_type": "display_data"
    },
    {
     "data": {
      "application/vnd.jupyter.widget-view+json": {
       "model_id": "76fe995a094a41209c582e67f354e6a1",
       "version_major": 2,
       "version_minor": 0
      },
      "text/plain": [
       "Downloading data:   0%|          | 0.00/1.19M [00:00<?, ?B/s]"
      ]
     },
     "metadata": {},
     "output_type": "display_data"
    },
    {
     "data": {
      "application/vnd.jupyter.widget-view+json": {
       "model_id": "ed9a677664124acb85edae9c4b5f6b98",
       "version_major": 2,
       "version_minor": 0
      },
      "text/plain": [
       "Downloading data:   0%|          | 0.00/87.6k [00:00<?, ?B/s]"
      ]
     },
     "metadata": {},
     "output_type": "display_data"
    },
    {
     "data": {
      "application/vnd.jupyter.widget-view+json": {
       "model_id": "4bcb6d3e5ba940d98eee6e636070a4ee",
       "version_major": 2,
       "version_minor": 0
      },
      "text/plain": [
       "Downloading data:   0%|          | 0.00/201k [00:00<?, ?B/s]"
      ]
     },
     "metadata": {},
     "output_type": "display_data"
    },
    {
     "data": {
      "application/vnd.jupyter.widget-view+json": {
       "model_id": "61b623ea40614c8f8bf7841de0b8708f",
       "version_major": 2,
       "version_minor": 0
      },
      "text/plain": [
       "Generating train split: 0 examples [00:00, ? examples/s]"
      ]
     },
     "metadata": {},
     "output_type": "display_data"
    },
    {
     "data": {
      "application/vnd.jupyter.widget-view+json": {
       "model_id": "3d00a01498ce48388965e294037c3db7",
       "version_major": 2,
       "version_minor": 0
      },
      "text/plain": [
       "Generating validation split: 0 examples [00:00, ? examples/s]"
      ]
     },
     "metadata": {},
     "output_type": "display_data"
    },
    {
     "data": {
      "application/vnd.jupyter.widget-view+json": {
       "model_id": "0d1e7636ae3f4f2984c8a1bd39c7c9dc",
       "version_major": 2,
       "version_minor": 0
      },
      "text/plain": [
       "Generating test split: 0 examples [00:00, ? examples/s]"
      ]
     },
     "metadata": {},
     "output_type": "display_data"
    }
   ],
   "source": [
    "dataset_google_fleurs = load_dataset(\"google/fleurs\", 'wo_sn')"
   ]
  },
  {
   "cell_type": "code",
   "execution_count": 8,
   "metadata": {
    "colab": {
     "base_uri": "https://localhost:8080/"
    },
    "executionInfo": {
     "elapsed": 25,
     "status": "ok",
     "timestamp": 1704108512827,
     "user": {
      "displayName": "Mamadou Marone",
      "userId": "05267491098406901582"
     },
     "user_tz": -60
    },
    "id": "y65GboF0YogE",
    "outputId": "4938f82e-e761-4fd7-9d84-85528f163e97"
   },
   "outputs": [
    {
     "name": "stdout",
     "output_type": "stream",
     "text": [
      "the keys of the downloaded data are : dict_keys(['train', 'validation', 'test'])\n"
     ]
    }
   ],
   "source": [
    "print(f'the keys of the downloaded data are : {dataset_google_fleurs.keys()}')"
   ]
  },
  {
   "cell_type": "code",
   "execution_count": 10,
   "metadata": {
    "id": "CUbWwzhEYogF"
   },
   "outputs": [],
   "source": [
    "dataset_google_fleurs_train = dataset_google_fleurs['train'].to_pandas()\n",
    "dataset_google_fleurs_validation = dataset_google_fleurs['validation'].to_pandas()\n",
    "dataset_google_fleurs_test = dataset_google_fleurs['test'].to_pandas()"
   ]
  },
  {
   "cell_type": "markdown",
   "metadata": {
    "id": "KWtwFqEzYogF"
   },
   "source": [
    "# Visualization"
   ]
  },
  {
   "cell_type": "code",
   "execution_count": 11,
   "metadata": {
    "colab": {
     "base_uri": "https://localhost:8080/"
    },
    "executionInfo": {
     "elapsed": 37,
     "status": "ok",
     "timestamp": 1704108518877,
     "user": {
      "displayName": "Mamadou Marone",
      "userId": "05267491098406901582"
     },
     "user_tz": -60
    },
    "id": "XZgaRBcJYogG",
    "outputId": "da074bc5-9023-4067-bb30-aabcbcaa93aa"
   },
   "outputs": [
    {
     "data": {
      "text/html": [
       "<div>\n",
       "<style scoped>\n",
       "    .dataframe tbody tr th:only-of-type {\n",
       "        vertical-align: middle;\n",
       "    }\n",
       "\n",
       "    .dataframe tbody tr th {\n",
       "        vertical-align: top;\n",
       "    }\n",
       "\n",
       "    .dataframe thead th {\n",
       "        text-align: right;\n",
       "    }\n",
       "</style>\n",
       "<table border=\"1\" class=\"dataframe\">\n",
       "  <thead>\n",
       "    <tr style=\"text-align: right;\">\n",
       "      <th></th>\n",
       "      <th>id</th>\n",
       "      <th>num_samples</th>\n",
       "      <th>path</th>\n",
       "      <th>audio</th>\n",
       "      <th>transcription</th>\n",
       "      <th>raw_transcription</th>\n",
       "      <th>gender</th>\n",
       "      <th>lang_id</th>\n",
       "      <th>language</th>\n",
       "      <th>lang_group_id</th>\n",
       "    </tr>\n",
       "  </thead>\n",
       "  <tbody>\n",
       "    <tr>\n",
       "      <th>0</th>\n",
       "      <td>1450</td>\n",
       "      <td>300480</td>\n",
       "      <td>C:\\Users\\maron\\.cache\\huggingface\\datasets\\dow...</td>\n",
       "      <td>{'bytes': b'RIFF2W\\x12\\x00WAVEfmt \\x12\\x00\\x00...</td>\n",
       "      <td>danoo gis ne jànt bi dafay niroog anam ci doxa...</td>\n",
       "      <td>Danoo gis ne Jànt bi dafay niroog anam ci doxa...</td>\n",
       "      <td>1</td>\n",
       "      <td>97</td>\n",
       "      <td>Wolof</td>\n",
       "      <td>3</td>\n",
       "    </tr>\n",
       "    <tr>\n",
       "      <th>1</th>\n",
       "      <td>315</td>\n",
       "      <td>276480</td>\n",
       "      <td>C:\\Users\\maron\\.cache\\huggingface\\datasets\\dow...</td>\n",
       "      <td>{'bytes': b'RIFF2\\xe0\\x10\\x00WAVEfmt \\x12\\x00\\...</td>\n",
       "      <td>ci ay mbindam day jëfandikoo ay kàddu yinga xa...</td>\n",
       "      <td>Ci ay mbindam, day jëfandikoo ay kàddu yinga x...</td>\n",
       "      <td>0</td>\n",
       "      <td>97</td>\n",
       "      <td>Wolof</td>\n",
       "      <td>3</td>\n",
       "    </tr>\n",
       "    <tr>\n",
       "      <th>2</th>\n",
       "      <td>1023</td>\n",
       "      <td>172800</td>\n",
       "      <td>C:\\Users\\maron\\.cache\\huggingface\\datasets\\dow...</td>\n",
       "      <td>{'bytes': b'RIFF2\\x8c\\n\\x00WAVEfmt \\x12\\x00\\x0...</td>\n",
       "      <td>gunóor yi mën nañu yàq ñam yi waral ay yaram y...</td>\n",
       "      <td>Gunóor yi mën nañu yàq ñam yi, waral ay yaram ...</td>\n",
       "      <td>1</td>\n",
       "      <td>97</td>\n",
       "      <td>Wolof</td>\n",
       "      <td>3</td>\n",
       "    </tr>\n",
       "  </tbody>\n",
       "</table>\n",
       "</div>"
      ],
      "text/plain": [
       "     id  num_samples                                               path  \\\n",
       "0  1450       300480  C:\\Users\\maron\\.cache\\huggingface\\datasets\\dow...   \n",
       "1   315       276480  C:\\Users\\maron\\.cache\\huggingface\\datasets\\dow...   \n",
       "2  1023       172800  C:\\Users\\maron\\.cache\\huggingface\\datasets\\dow...   \n",
       "\n",
       "                                               audio  \\\n",
       "0  {'bytes': b'RIFF2W\\x12\\x00WAVEfmt \\x12\\x00\\x00...   \n",
       "1  {'bytes': b'RIFF2\\xe0\\x10\\x00WAVEfmt \\x12\\x00\\...   \n",
       "2  {'bytes': b'RIFF2\\x8c\\n\\x00WAVEfmt \\x12\\x00\\x0...   \n",
       "\n",
       "                                       transcription  \\\n",
       "0  danoo gis ne jànt bi dafay niroog anam ci doxa...   \n",
       "1  ci ay mbindam day jëfandikoo ay kàddu yinga xa...   \n",
       "2  gunóor yi mën nañu yàq ñam yi waral ay yaram y...   \n",
       "\n",
       "                                   raw_transcription  gender  lang_id  \\\n",
       "0  Danoo gis ne Jànt bi dafay niroog anam ci doxa...       1       97   \n",
       "1  Ci ay mbindam, day jëfandikoo ay kàddu yinga x...       0       97   \n",
       "2  Gunóor yi mën nañu yàq ñam yi, waral ay yaram ...       1       97   \n",
       "\n",
       "  language  lang_group_id  \n",
       "0    Wolof              3  \n",
       "1    Wolof              3  \n",
       "2    Wolof              3  "
      ]
     },
     "execution_count": 11,
     "metadata": {},
     "output_type": "execute_result"
    }
   ],
   "source": [
    "dataset_google_fleurs_train.head(3)"
   ]
  },
  {
   "cell_type": "code",
   "execution_count": 12,
   "metadata": {
    "colab": {
     "base_uri": "https://localhost:8080/"
    },
    "executionInfo": {
     "elapsed": 35,
     "status": "ok",
     "timestamp": 1704108518878,
     "user": {
      "displayName": "Mamadou Marone",
      "userId": "05267491098406901582"
     },
     "user_tz": -60
    },
    "id": "CxoZ4ErgYogG",
    "outputId": "eee7f755-e0df-4f62-90a5-0cdadfd377b1"
   },
   "outputs": [
    {
     "data": {
      "text/html": [
       "<div>\n",
       "<style scoped>\n",
       "    .dataframe tbody tr th:only-of-type {\n",
       "        vertical-align: middle;\n",
       "    }\n",
       "\n",
       "    .dataframe tbody tr th {\n",
       "        vertical-align: top;\n",
       "    }\n",
       "\n",
       "    .dataframe thead th {\n",
       "        text-align: right;\n",
       "    }\n",
       "</style>\n",
       "<table border=\"1\" class=\"dataframe\">\n",
       "  <thead>\n",
       "    <tr style=\"text-align: right;\">\n",
       "      <th></th>\n",
       "      <th>id</th>\n",
       "      <th>num_samples</th>\n",
       "      <th>path</th>\n",
       "      <th>audio</th>\n",
       "      <th>transcription</th>\n",
       "      <th>raw_transcription</th>\n",
       "      <th>gender</th>\n",
       "      <th>lang_id</th>\n",
       "      <th>language</th>\n",
       "      <th>lang_group_id</th>\n",
       "    </tr>\n",
       "  </thead>\n",
       "  <tbody>\n",
       "    <tr>\n",
       "      <th>0</th>\n",
       "      <td>1784</td>\n",
       "      <td>383040</td>\n",
       "      <td>C:\\Users\\maron\\.cache\\huggingface\\datasets\\dow...</td>\n",
       "      <td>{'bytes': b'RIFF2a\\x17\\x00WAVEfmt \\x12\\x00\\x00...</td>\n",
       "      <td>groenlaand bariwul won way-dëkk ca tariix scan...</td>\n",
       "      <td>Groenlaand bariwul won way-dëkk. Ca tariix sca...</td>\n",
       "      <td>0</td>\n",
       "      <td>97</td>\n",
       "      <td>Wolof</td>\n",
       "      <td>3</td>\n",
       "    </tr>\n",
       "    <tr>\n",
       "      <th>1</th>\n",
       "      <td>1768</td>\n",
       "      <td>276480</td>\n",
       "      <td>C:\\Users\\maron\\.cache\\huggingface\\datasets\\dow...</td>\n",
       "      <td>{'bytes': b'RIFF2\\xe0\\x10\\x00WAVEfmt \\x12\\x00\\...</td>\n",
       "      <td>yenn pàcc yu bari ci batimaa bii dañu leen tab...</td>\n",
       "      <td>Yenn pàcc yu bari ci batimaa bii dañu leen tab...</td>\n",
       "      <td>0</td>\n",
       "      <td>97</td>\n",
       "      <td>Wolof</td>\n",
       "      <td>3</td>\n",
       "    </tr>\n",
       "    <tr>\n",
       "      <th>2</th>\n",
       "      <td>2008</td>\n",
       "      <td>326400</td>\n",
       "      <td>C:\\Users\\maron\\.cache\\huggingface\\datasets\\dow...</td>\n",
       "      <td>{'bytes': b'RIFF2\\xec\\x13\\x00WAVEfmt \\x12\\x00\\...</td>\n",
       "      <td>yeneen tomb yu nekk ci porogaraam bi ci bali b...</td>\n",
       "      <td>Yeneen tomb yu nekk ci porogaraam bi ci Bali b...</td>\n",
       "      <td>0</td>\n",
       "      <td>97</td>\n",
       "      <td>Wolof</td>\n",
       "      <td>3</td>\n",
       "    </tr>\n",
       "  </tbody>\n",
       "</table>\n",
       "</div>"
      ],
      "text/plain": [
       "     id  num_samples                                               path  \\\n",
       "0  1784       383040  C:\\Users\\maron\\.cache\\huggingface\\datasets\\dow...   \n",
       "1  1768       276480  C:\\Users\\maron\\.cache\\huggingface\\datasets\\dow...   \n",
       "2  2008       326400  C:\\Users\\maron\\.cache\\huggingface\\datasets\\dow...   \n",
       "\n",
       "                                               audio  \\\n",
       "0  {'bytes': b'RIFF2a\\x17\\x00WAVEfmt \\x12\\x00\\x00...   \n",
       "1  {'bytes': b'RIFF2\\xe0\\x10\\x00WAVEfmt \\x12\\x00\\...   \n",
       "2  {'bytes': b'RIFF2\\xec\\x13\\x00WAVEfmt \\x12\\x00\\...   \n",
       "\n",
       "                                       transcription  \\\n",
       "0  groenlaand bariwul won way-dëkk ca tariix scan...   \n",
       "1  yenn pàcc yu bari ci batimaa bii dañu leen tab...   \n",
       "2  yeneen tomb yu nekk ci porogaraam bi ci bali b...   \n",
       "\n",
       "                                   raw_transcription  gender  lang_id  \\\n",
       "0  Groenlaand bariwul won way-dëkk. Ca tariix sca...       0       97   \n",
       "1  Yenn pàcc yu bari ci batimaa bii dañu leen tab...       0       97   \n",
       "2  Yeneen tomb yu nekk ci porogaraam bi ci Bali b...       0       97   \n",
       "\n",
       "  language  lang_group_id  \n",
       "0    Wolof              3  \n",
       "1    Wolof              3  \n",
       "2    Wolof              3  "
      ]
     },
     "execution_count": 12,
     "metadata": {},
     "output_type": "execute_result"
    }
   ],
   "source": [
    "dataset_google_fleurs_test.head(3)"
   ]
  },
  {
   "cell_type": "code",
   "execution_count": 13,
   "metadata": {},
   "outputs": [
    {
     "data": {
      "text/html": [
       "<div>\n",
       "<style scoped>\n",
       "    .dataframe tbody tr th:only-of-type {\n",
       "        vertical-align: middle;\n",
       "    }\n",
       "\n",
       "    .dataframe tbody tr th {\n",
       "        vertical-align: top;\n",
       "    }\n",
       "\n",
       "    .dataframe thead th {\n",
       "        text-align: right;\n",
       "    }\n",
       "</style>\n",
       "<table border=\"1\" class=\"dataframe\">\n",
       "  <thead>\n",
       "    <tr style=\"text-align: right;\">\n",
       "      <th></th>\n",
       "      <th>id</th>\n",
       "      <th>num_samples</th>\n",
       "      <th>path</th>\n",
       "      <th>audio</th>\n",
       "      <th>transcription</th>\n",
       "      <th>raw_transcription</th>\n",
       "      <th>gender</th>\n",
       "      <th>lang_id</th>\n",
       "      <th>language</th>\n",
       "      <th>lang_group_id</th>\n",
       "    </tr>\n",
       "  </thead>\n",
       "  <tbody>\n",
       "    <tr>\n",
       "      <th>0</th>\n",
       "      <td>1559</td>\n",
       "      <td>152640</td>\n",
       "      <td>C:\\Users\\maron\\.cache\\huggingface\\datasets\\dow...</td>\n",
       "      <td>{'bytes': b'RIFF2Q\\t\\x00WAVEfmt \\x12\\x00\\x00\\x...</td>\n",
       "      <td>làkku italiyen warul nekk lu jafe noonu ndax b...</td>\n",
       "      <td>Làkku italiyen warul nekk lu jafe noonu ndax b...</td>\n",
       "      <td>1</td>\n",
       "      <td>97</td>\n",
       "      <td>Wolof</td>\n",
       "      <td>3</td>\n",
       "    </tr>\n",
       "    <tr>\n",
       "      <th>1</th>\n",
       "      <td>1652</td>\n",
       "      <td>128640</td>\n",
       "      <td>C:\\Users\\maron\\.cache\\huggingface\\datasets\\dow...</td>\n",
       "      <td>{'bytes': b'RIFF2\\xda\\x07\\x00WAVEfmt \\x12\\x00\\...</td>\n",
       "      <td>diine ji gëna mag ci moldavie chrétien orthodo...</td>\n",
       "      <td>Diine ji gëna mag ci Moldavie chrétien orthodo...</td>\n",
       "      <td>0</td>\n",
       "      <td>97</td>\n",
       "      <td>Wolof</td>\n",
       "      <td>3</td>\n",
       "    </tr>\n",
       "    <tr>\n",
       "      <th>2</th>\n",
       "      <td>1586</td>\n",
       "      <td>417600</td>\n",
       "      <td>C:\\Users\\maron\\.cache\\huggingface\\datasets\\dow...</td>\n",
       "      <td>{'bytes': b'RIFF2}\\x19\\x00WAVEfmt \\x12\\x00\\x00...</td>\n",
       "      <td>slalom moo jiitu ci moom mu amee ci yeggali wu...</td>\n",
       "      <td>Slalom moo jiitu ci moom, mu amee ci Yeggali w...</td>\n",
       "      <td>0</td>\n",
       "      <td>97</td>\n",
       "      <td>Wolof</td>\n",
       "      <td>3</td>\n",
       "    </tr>\n",
       "  </tbody>\n",
       "</table>\n",
       "</div>"
      ],
      "text/plain": [
       "     id  num_samples                                               path  \\\n",
       "0  1559       152640  C:\\Users\\maron\\.cache\\huggingface\\datasets\\dow...   \n",
       "1  1652       128640  C:\\Users\\maron\\.cache\\huggingface\\datasets\\dow...   \n",
       "2  1586       417600  C:\\Users\\maron\\.cache\\huggingface\\datasets\\dow...   \n",
       "\n",
       "                                               audio  \\\n",
       "0  {'bytes': b'RIFF2Q\\t\\x00WAVEfmt \\x12\\x00\\x00\\x...   \n",
       "1  {'bytes': b'RIFF2\\xda\\x07\\x00WAVEfmt \\x12\\x00\\...   \n",
       "2  {'bytes': b'RIFF2}\\x19\\x00WAVEfmt \\x12\\x00\\x00...   \n",
       "\n",
       "                                       transcription  \\\n",
       "0  làkku italiyen warul nekk lu jafe noonu ndax b...   \n",
       "1  diine ji gëna mag ci moldavie chrétien orthodo...   \n",
       "2  slalom moo jiitu ci moom mu amee ci yeggali wu...   \n",
       "\n",
       "                                   raw_transcription  gender  lang_id  \\\n",
       "0  Làkku italiyen warul nekk lu jafe noonu ndax b...       1       97   \n",
       "1  Diine ji gëna mag ci Moldavie chrétien orthodo...       0       97   \n",
       "2  Slalom moo jiitu ci moom, mu amee ci Yeggali w...       0       97   \n",
       "\n",
       "  language  lang_group_id  \n",
       "0    Wolof              3  \n",
       "1    Wolof              3  \n",
       "2    Wolof              3  "
      ]
     },
     "execution_count": 13,
     "metadata": {},
     "output_type": "execute_result"
    }
   ],
   "source": [
    "dataset_google_fleurs_validation.head(3)"
   ]
  },
  {
   "cell_type": "markdown",
   "metadata": {
    "id": "vMfC97TLYogG"
   },
   "source": [
    "# Grouping all the data"
   ]
  },
  {
   "cell_type": "code",
   "execution_count": 14,
   "metadata": {
    "colab": {
     "base_uri": "https://localhost:8080/",
     "height": 143
    },
    "executionInfo": {
     "elapsed": 349,
     "status": "ok",
     "timestamp": 1704113576432,
     "user": {
      "displayName": "Mamadou Marone",
      "userId": "05267491098406901582"
     },
     "user_tz": -60
    },
    "id": "ehI0Ru4XYogH",
    "outputId": "7d6e9e4b-1e78-46b4-dbc9-5e93db3d71ed"
   },
   "outputs": [
    {
     "data": {
      "text/html": [
       "<div>\n",
       "<style scoped>\n",
       "    .dataframe tbody tr th:only-of-type {\n",
       "        vertical-align: middle;\n",
       "    }\n",
       "\n",
       "    .dataframe tbody tr th {\n",
       "        vertical-align: top;\n",
       "    }\n",
       "\n",
       "    .dataframe thead th {\n",
       "        text-align: right;\n",
       "    }\n",
       "</style>\n",
       "<table border=\"1\" class=\"dataframe\">\n",
       "  <thead>\n",
       "    <tr style=\"text-align: right;\">\n",
       "      <th></th>\n",
       "      <th>id</th>\n",
       "      <th>num_samples</th>\n",
       "      <th>path</th>\n",
       "      <th>audio</th>\n",
       "      <th>transcription</th>\n",
       "      <th>raw_transcription</th>\n",
       "      <th>gender</th>\n",
       "      <th>lang_id</th>\n",
       "      <th>language</th>\n",
       "      <th>lang_group_id</th>\n",
       "    </tr>\n",
       "  </thead>\n",
       "  <tbody>\n",
       "    <tr>\n",
       "      <th>0</th>\n",
       "      <td>1</td>\n",
       "      <td>300480</td>\n",
       "      <td>C:\\Users\\maron\\.cache\\huggingface\\datasets\\dow...</td>\n",
       "      <td>{'bytes': b'RIFF2W\\x12\\x00WAVEfmt \\x12\\x00\\x00...</td>\n",
       "      <td>danoo gis ne jànt bi dafay niroog anam ci doxa...</td>\n",
       "      <td>Danoo gis ne Jànt bi dafay niroog anam ci doxa...</td>\n",
       "      <td>1</td>\n",
       "      <td>97</td>\n",
       "      <td>Wolof</td>\n",
       "      <td>3</td>\n",
       "    </tr>\n",
       "    <tr>\n",
       "      <th>1</th>\n",
       "      <td>2</td>\n",
       "      <td>276480</td>\n",
       "      <td>C:\\Users\\maron\\.cache\\huggingface\\datasets\\dow...</td>\n",
       "      <td>{'bytes': b'RIFF2\\xe0\\x10\\x00WAVEfmt \\x12\\x00\\...</td>\n",
       "      <td>ci ay mbindam day jëfandikoo ay kàddu yinga xa...</td>\n",
       "      <td>Ci ay mbindam, day jëfandikoo ay kàddu yinga x...</td>\n",
       "      <td>0</td>\n",
       "      <td>97</td>\n",
       "      <td>Wolof</td>\n",
       "      <td>3</td>\n",
       "    </tr>\n",
       "    <tr>\n",
       "      <th>2</th>\n",
       "      <td>3</td>\n",
       "      <td>172800</td>\n",
       "      <td>C:\\Users\\maron\\.cache\\huggingface\\datasets\\dow...</td>\n",
       "      <td>{'bytes': b'RIFF2\\x8c\\n\\x00WAVEfmt \\x12\\x00\\x0...</td>\n",
       "      <td>gunóor yi mën nañu yàq ñam yi waral ay yaram y...</td>\n",
       "      <td>Gunóor yi mën nañu yàq ñam yi, waral ay yaram ...</td>\n",
       "      <td>1</td>\n",
       "      <td>97</td>\n",
       "      <td>Wolof</td>\n",
       "      <td>3</td>\n",
       "    </tr>\n",
       "  </tbody>\n",
       "</table>\n",
       "</div>"
      ],
      "text/plain": [
       "   id  num_samples                                               path  \\\n",
       "0   1       300480  C:\\Users\\maron\\.cache\\huggingface\\datasets\\dow...   \n",
       "1   2       276480  C:\\Users\\maron\\.cache\\huggingface\\datasets\\dow...   \n",
       "2   3       172800  C:\\Users\\maron\\.cache\\huggingface\\datasets\\dow...   \n",
       "\n",
       "                                               audio  \\\n",
       "0  {'bytes': b'RIFF2W\\x12\\x00WAVEfmt \\x12\\x00\\x00...   \n",
       "1  {'bytes': b'RIFF2\\xe0\\x10\\x00WAVEfmt \\x12\\x00\\...   \n",
       "2  {'bytes': b'RIFF2\\x8c\\n\\x00WAVEfmt \\x12\\x00\\x0...   \n",
       "\n",
       "                                       transcription  \\\n",
       "0  danoo gis ne jànt bi dafay niroog anam ci doxa...   \n",
       "1  ci ay mbindam day jëfandikoo ay kàddu yinga xa...   \n",
       "2  gunóor yi mën nañu yàq ñam yi waral ay yaram y...   \n",
       "\n",
       "                                   raw_transcription  gender  lang_id  \\\n",
       "0  Danoo gis ne Jànt bi dafay niroog anam ci doxa...       1       97   \n",
       "1  Ci ay mbindam, day jëfandikoo ay kàddu yinga x...       0       97   \n",
       "2  Gunóor yi mën nañu yàq ñam yi, waral ay yaram ...       1       97   \n",
       "\n",
       "  language  lang_group_id  \n",
       "0    Wolof              3  \n",
       "1    Wolof              3  \n",
       "2    Wolof              3  "
      ]
     },
     "execution_count": 14,
     "metadata": {},
     "output_type": "execute_result"
    }
   ],
   "source": [
    "# Assuming dataset_waxal_df_train, dataset_waxal_df_validation, dataset_waxal_df_test, dataset_waxal_2_df_test are your DataFrames\n",
    "dataframes = [dataset_google_fleurs_train, dataset_google_fleurs_validation, dataset_google_fleurs_test]\n",
    "\n",
    "dataset_google_fleurs = pd.concat(dataframes, axis=0, ignore_index=True)\n",
    "dataset_google_fleurs = create_id(dataset_google_fleurs, 0)\n",
    "dataset_google_fleurs.head(3)"
   ]
  },
  {
   "cell_type": "markdown",
   "metadata": {
    "id": "36Ak-XVgYogH"
   },
   "source": [
    "#### saving the original data"
   ]
  },
  {
   "cell_type": "code",
   "execution_count": 16,
   "metadata": {
    "id": "ReGFyIFPYogH"
   },
   "outputs": [],
   "source": [
    "dataset_google_fleurs.to_csv(\"SPEECH_TO_TEXT\\DATA\\BRUT\\WOLOF_AUDIO_TRANS\\google_fleurs\\google_fleurs_brut.csv\")"
   ]
  },
  {
   "cell_type": "markdown",
   "metadata": {
    "id": "8jmQfVuTllaZ"
   },
   "source": [
    "### Bytes to WAV conversion"
   ]
  },
  {
   "cell_type": "code",
   "execution_count": 18,
   "metadata": {
    "colab": {
     "base_uri": "https://localhost:8080/",
     "height": 248
    },
    "executionInfo": {
     "elapsed": 1166285,
     "status": "ok",
     "timestamp": 1704112020633,
     "user": {
      "displayName": "Mamadou Marone",
      "userId": "05267491098406901582"
     },
     "user_tz": -60
    },
    "id": "lqcFohOvmX2I",
    "outputId": "0c89044d-61a4-4292-8023-4385ea965971"
   },
   "outputs": [],
   "source": [
    "# create a new dataframe to store the clean data from perrynelson\n",
    "dataset_google_fleurs_clean = pd.DataFrame()\n",
    "dataset_google_fleurs_clean = dataset_google_fleurs[[\"id\", \"transcription\"]]"
   ]
  },
  {
   "cell_type": "code",
   "execution_count": 19,
   "metadata": {},
   "outputs": [
    {
     "name": "stderr",
     "output_type": "stream",
     "text": [
      "C:\\Users\\maron\\AppData\\Local\\Temp\\ipykernel_17304\\762169554.py:1: SettingWithCopyWarning: \n",
      "A value is trying to be set on a copy of a slice from a DataFrame.\n",
      "Try using .loc[row_indexer,col_indexer] = value instead\n",
      "\n",
      "See the caveats in the documentation: https://pandas.pydata.org/pandas-docs/stable/user_guide/indexing.html#returning-a-view-versus-a-copy\n",
      "  dataset_google_fleurs_clean['result'] = dataset_google_fleurs.apply(lambda row: ByteWAV2WAV(row, \"google_fleurs\"), axis = 1)\n"
     ]
    }
   ],
   "source": [
    "dataset_google_fleurs_clean['result'] = dataset_google_fleurs.apply(lambda row: ByteWAV2WAV(row, \"google_fleurs\"), axis = 1)"
   ]
  },
  {
   "cell_type": "code",
   "execution_count": 20,
   "metadata": {},
   "outputs": [
    {
     "name": "stderr",
     "output_type": "stream",
     "text": [
      "C:\\Users\\maron\\AppData\\Local\\Temp\\ipykernel_17304\\4110528467.py:2: SettingWithCopyWarning: \n",
      "A value is trying to be set on a copy of a slice from a DataFrame.\n",
      "Try using .loc[row_indexer,col_indexer] = value instead\n",
      "\n",
      "See the caveats in the documentation: https://pandas.pydata.org/pandas-docs/stable/user_guide/indexing.html#returning-a-view-versus-a-copy\n",
      "  dataset_google_fleurs_clean[['length', 'filename']] = pd.DataFrame(dataset_google_fleurs_clean['result'].tolist(), index=dataset_google_fleurs_clean.index)\n",
      "C:\\Users\\maron\\AppData\\Local\\Temp\\ipykernel_17304\\4110528467.py:2: SettingWithCopyWarning: \n",
      "A value is trying to be set on a copy of a slice from a DataFrame.\n",
      "Try using .loc[row_indexer,col_indexer] = value instead\n",
      "\n",
      "See the caveats in the documentation: https://pandas.pydata.org/pandas-docs/stable/user_guide/indexing.html#returning-a-view-versus-a-copy\n",
      "  dataset_google_fleurs_clean[['length', 'filename']] = pd.DataFrame(dataset_google_fleurs_clean['result'].tolist(), index=dataset_google_fleurs_clean.index)\n"
     ]
    },
    {
     "data": {
      "text/html": [
       "<div>\n",
       "<style scoped>\n",
       "    .dataframe tbody tr th:only-of-type {\n",
       "        vertical-align: middle;\n",
       "    }\n",
       "\n",
       "    .dataframe tbody tr th {\n",
       "        vertical-align: top;\n",
       "    }\n",
       "\n",
       "    .dataframe thead th {\n",
       "        text-align: right;\n",
       "    }\n",
       "</style>\n",
       "<table border=\"1\" class=\"dataframe\">\n",
       "  <thead>\n",
       "    <tr style=\"text-align: right;\">\n",
       "      <th></th>\n",
       "      <th>id</th>\n",
       "      <th>transcription</th>\n",
       "      <th>length</th>\n",
       "      <th>filename</th>\n",
       "    </tr>\n",
       "  </thead>\n",
       "  <tbody>\n",
       "    <tr>\n",
       "      <th>0</th>\n",
       "      <td>1</td>\n",
       "      <td>danoo gis ne jànt bi dafay niroog anam ci doxa...</td>\n",
       "      <td>18.78</td>\n",
       "      <td>google_fleurs_1_WOL.wav</td>\n",
       "    </tr>\n",
       "    <tr>\n",
       "      <th>1</th>\n",
       "      <td>2</td>\n",
       "      <td>ci ay mbindam day jëfandikoo ay kàddu yinga xa...</td>\n",
       "      <td>17.28</td>\n",
       "      <td>google_fleurs_2_WOL.wav</td>\n",
       "    </tr>\n",
       "    <tr>\n",
       "      <th>2</th>\n",
       "      <td>3</td>\n",
       "      <td>gunóor yi mën nañu yàq ñam yi waral ay yaram y...</td>\n",
       "      <td>10.80</td>\n",
       "      <td>google_fleurs_3_WOL.wav</td>\n",
       "    </tr>\n",
       "  </tbody>\n",
       "</table>\n",
       "</div>"
      ],
      "text/plain": [
       "   id                                      transcription  length  \\\n",
       "0   1  danoo gis ne jànt bi dafay niroog anam ci doxa...   18.78   \n",
       "1   2  ci ay mbindam day jëfandikoo ay kàddu yinga xa...   17.28   \n",
       "2   3  gunóor yi mën nañu yàq ñam yi waral ay yaram y...   10.80   \n",
       "\n",
       "                  filename  \n",
       "0  google_fleurs_1_WOL.wav  \n",
       "1  google_fleurs_2_WOL.wav  \n",
       "2  google_fleurs_3_WOL.wav  "
      ]
     },
     "execution_count": 20,
     "metadata": {},
     "output_type": "execute_result"
    }
   ],
   "source": [
    "# Create separate columns for filename and length\n",
    "dataset_google_fleurs_clean[['length', 'filename']] = pd.DataFrame(dataset_google_fleurs_clean['result'].tolist(), index=dataset_google_fleurs_clean.index)\n",
    "# Drop the 'result' column if you no longer need it\n",
    "dataset_google_fleurs_clean = dataset_google_fleurs_clean.drop(columns=['result'])\n",
    "\n",
    "dataset_google_fleurs_clean.head(3)"
   ]
  },
  {
   "cell_type": "code",
   "execution_count": 23,
   "metadata": {},
   "outputs": [
    {
     "name": "stdout",
     "output_type": "stream",
     "text": [
      "Amount of data for Alffa : 40456.97999999993\n"
     ]
    },
    {
     "ename": "",
     "evalue": "",
     "output_type": "error",
     "traceback": [
      "\u001b[1;31mThe Kernel crashed while executing code in the current cell or a previous cell. \n",
      "\u001b[1;31mPlease review the code in the cell(s) to identify a possible cause of the failure. \n",
      "\u001b[1;31mClick <a href='https://aka.ms/vscodeJupyterKernelCrash'>here</a> for more info. \n",
      "\u001b[1;31mView Jupyter <a href='command:jupyter.viewOutput'>log</a> for further details."
     ]
    }
   ],
   "source": [
    "print(\"Amount of data for Alffa :\", sum(dataset_google_fleurs_clean['length']))"
   ]
  },
  {
   "cell_type": "code",
   "execution_count": 22,
   "metadata": {
    "id": "OTo2dLFC_oNw"
   },
   "outputs": [],
   "source": [
    "dataset_google_fleurs_clean.to_csv(\"SPEECH_TO_TEXT\\DATA\\CLEANED\\WOLOF_AUDIO_TRANS\\google_fleurs\\google_fleurs_clean.csv\")"
   ]
  }
 ],
 "metadata": {
  "colab": {
   "provenance": []
  },
  "kernelspec": {
   "display_name": "Python 3 (ipykernel)",
   "language": "python",
   "name": "python3"
  },
  "language_info": {
   "codemirror_mode": {
    "name": "ipython",
    "version": 3
   },
   "file_extension": ".py",
   "mimetype": "text/x-python",
   "name": "python",
   "nbconvert_exporter": "python",
   "pygments_lexer": "ipython3",
   "version": "3.11.5"
  },
  "widgets": {
   "application/vnd.jupyter.widget-state+json": {
    "08152e8566b041039aeddbd62c7ec7a0": {
     "model_module": "@jupyter-widgets/base",
     "model_module_version": "1.2.0",
     "model_name": "LayoutModel",
     "state": {
      "_model_module": "@jupyter-widgets/base",
      "_model_module_version": "1.2.0",
      "_model_name": "LayoutModel",
      "_view_count": null,
      "_view_module": "@jupyter-widgets/base",
      "_view_module_version": "1.2.0",
      "_view_name": "LayoutView",
      "align_content": null,
      "align_items": null,
      "align_self": null,
      "border": null,
      "bottom": null,
      "display": null,
      "flex": null,
      "flex_flow": null,
      "grid_area": null,
      "grid_auto_columns": null,
      "grid_auto_flow": null,
      "grid_auto_rows": null,
      "grid_column": null,
      "grid_gap": null,
      "grid_row": null,
      "grid_template_areas": null,
      "grid_template_columns": null,
      "grid_template_rows": null,
      "height": null,
      "justify_content": null,
      "justify_items": null,
      "left": null,
      "margin": null,
      "max_height": null,
      "max_width": null,
      "min_height": null,
      "min_width": null,
      "object_fit": null,
      "object_position": null,
      "order": null,
      "overflow": null,
      "overflow_x": null,
      "overflow_y": null,
      "padding": null,
      "right": null,
      "top": null,
      "visibility": null,
      "width": null
     }
    },
    "094e80862ffb4cc6a9a2300fd4fa0da4": {
     "model_module": "@jupyter-widgets/base",
     "model_module_version": "1.2.0",
     "model_name": "LayoutModel",
     "state": {
      "_model_module": "@jupyter-widgets/base",
      "_model_module_version": "1.2.0",
      "_model_name": "LayoutModel",
      "_view_count": null,
      "_view_module": "@jupyter-widgets/base",
      "_view_module_version": "1.2.0",
      "_view_name": "LayoutView",
      "align_content": null,
      "align_items": null,
      "align_self": null,
      "border": null,
      "bottom": null,
      "display": null,
      "flex": null,
      "flex_flow": null,
      "grid_area": null,
      "grid_auto_columns": null,
      "grid_auto_flow": null,
      "grid_auto_rows": null,
      "grid_column": null,
      "grid_gap": null,
      "grid_row": null,
      "grid_template_areas": null,
      "grid_template_columns": null,
      "grid_template_rows": null,
      "height": null,
      "justify_content": null,
      "justify_items": null,
      "left": null,
      "margin": null,
      "max_height": null,
      "max_width": null,
      "min_height": null,
      "min_width": null,
      "object_fit": null,
      "object_position": null,
      "order": null,
      "overflow": null,
      "overflow_x": null,
      "overflow_y": null,
      "padding": null,
      "right": null,
      "top": null,
      "visibility": null,
      "width": null
     }
    },
    "0dfd6ced24e1405aa80b6f653ef2deda": {
     "model_module": "@jupyter-widgets/controls",
     "model_module_version": "1.5.0",
     "model_name": "ProgressStyleModel",
     "state": {
      "_model_module": "@jupyter-widgets/controls",
      "_model_module_version": "1.5.0",
      "_model_name": "ProgressStyleModel",
      "_view_count": null,
      "_view_module": "@jupyter-widgets/base",
      "_view_module_version": "1.2.0",
      "_view_name": "StyleView",
      "bar_color": null,
      "description_width": ""
     }
    },
    "1629e0808319421584866c2e7f51f018": {
     "model_module": "@jupyter-widgets/controls",
     "model_module_version": "1.5.0",
     "model_name": "DescriptionStyleModel",
     "state": {
      "_model_module": "@jupyter-widgets/controls",
      "_model_module_version": "1.5.0",
      "_model_name": "DescriptionStyleModel",
      "_view_count": null,
      "_view_module": "@jupyter-widgets/base",
      "_view_module_version": "1.2.0",
      "_view_name": "StyleView",
      "description_width": ""
     }
    },
    "21672904ff57471a85926ae94f4d5ff5": {
     "model_module": "@jupyter-widgets/controls",
     "model_module_version": "1.5.0",
     "model_name": "FloatProgressModel",
     "state": {
      "_dom_classes": [],
      "_model_module": "@jupyter-widgets/controls",
      "_model_module_version": "1.5.0",
      "_model_name": "FloatProgressModel",
      "_view_count": null,
      "_view_module": "@jupyter-widgets/controls",
      "_view_module_version": "1.5.0",
      "_view_name": "ProgressView",
      "bar_style": "success",
      "description": "",
      "description_tooltip": null,
      "layout": "IPY_MODEL_6b9ab4908e214b8f810bfbba6e3c8e69",
      "max": 708598,
      "min": 0,
      "orientation": "horizontal",
      "style": "IPY_MODEL_0dfd6ced24e1405aa80b6f653ef2deda",
      "value": 708598
     }
    },
    "2e0ecc52fa764993bcf5bbb64aff3eea": {
     "model_module": "@jupyter-widgets/controls",
     "model_module_version": "1.5.0",
     "model_name": "HTMLModel",
     "state": {
      "_dom_classes": [],
      "_model_module": "@jupyter-widgets/controls",
      "_model_module_version": "1.5.0",
      "_model_name": "HTMLModel",
      "_view_count": null,
      "_view_module": "@jupyter-widgets/controls",
      "_view_module_version": "1.5.0",
      "_view_name": "HTMLView",
      "description": "",
      "description_tooltip": null,
      "layout": "IPY_MODEL_9d064c572faf4054bd66645306c46e94",
      "placeholder": "​",
      "style": "IPY_MODEL_9807f136b156412fba291fc0a0e071c2",
      "value": " 656/656 [00:00&lt;00:00, 25.9kB/s]"
     }
    },
    "2eb89e470231486bb719673583cec0e7": {
     "model_module": "@jupyter-widgets/base",
     "model_module_version": "1.2.0",
     "model_name": "LayoutModel",
     "state": {
      "_model_module": "@jupyter-widgets/base",
      "_model_module_version": "1.2.0",
      "_model_name": "LayoutModel",
      "_view_count": null,
      "_view_module": "@jupyter-widgets/base",
      "_view_module_version": "1.2.0",
      "_view_name": "LayoutView",
      "align_content": null,
      "align_items": null,
      "align_self": null,
      "border": null,
      "bottom": null,
      "display": null,
      "flex": null,
      "flex_flow": null,
      "grid_area": null,
      "grid_auto_columns": null,
      "grid_auto_flow": null,
      "grid_auto_rows": null,
      "grid_column": null,
      "grid_gap": null,
      "grid_row": null,
      "grid_template_areas": null,
      "grid_template_columns": null,
      "grid_template_rows": null,
      "height": null,
      "justify_content": null,
      "justify_items": null,
      "left": null,
      "margin": null,
      "max_height": null,
      "max_width": null,
      "min_height": null,
      "min_width": null,
      "object_fit": null,
      "object_position": null,
      "order": null,
      "overflow": null,
      "overflow_x": null,
      "overflow_y": null,
      "padding": null,
      "right": null,
      "top": null,
      "visibility": null,
      "width": null
     }
    },
    "346d0c0d86e242ad98f51e978f90ac06": {
     "model_module": "@jupyter-widgets/base",
     "model_module_version": "1.2.0",
     "model_name": "LayoutModel",
     "state": {
      "_model_module": "@jupyter-widgets/base",
      "_model_module_version": "1.2.0",
      "_model_name": "LayoutModel",
      "_view_count": null,
      "_view_module": "@jupyter-widgets/base",
      "_view_module_version": "1.2.0",
      "_view_name": "LayoutView",
      "align_content": null,
      "align_items": null,
      "align_self": null,
      "border": null,
      "bottom": null,
      "display": null,
      "flex": null,
      "flex_flow": null,
      "grid_area": null,
      "grid_auto_columns": null,
      "grid_auto_flow": null,
      "grid_auto_rows": null,
      "grid_column": null,
      "grid_gap": null,
      "grid_row": null,
      "grid_template_areas": null,
      "grid_template_columns": null,
      "grid_template_rows": null,
      "height": null,
      "justify_content": null,
      "justify_items": null,
      "left": null,
      "margin": null,
      "max_height": null,
      "max_width": null,
      "min_height": null,
      "min_width": null,
      "object_fit": null,
      "object_position": null,
      "order": null,
      "overflow": null,
      "overflow_x": null,
      "overflow_y": null,
      "padding": null,
      "right": null,
      "top": null,
      "visibility": null,
      "width": null
     }
    },
    "358ff1eb32dd4e14b4d284c84057381e": {
     "model_module": "@jupyter-widgets/controls",
     "model_module_version": "1.5.0",
     "model_name": "DescriptionStyleModel",
     "state": {
      "_model_module": "@jupyter-widgets/controls",
      "_model_module_version": "1.5.0",
      "_model_name": "DescriptionStyleModel",
      "_view_count": null,
      "_view_module": "@jupyter-widgets/base",
      "_view_module_version": "1.2.0",
      "_view_name": "StyleView",
      "description_width": ""
     }
    },
    "4601cae8e3d64c72a8d72776f5d341de": {
     "model_module": "@jupyter-widgets/controls",
     "model_module_version": "1.5.0",
     "model_name": "HTMLModel",
     "state": {
      "_dom_classes": [],
      "_model_module": "@jupyter-widgets/controls",
      "_model_module_version": "1.5.0",
      "_model_name": "HTMLModel",
      "_view_count": null,
      "_view_module": "@jupyter-widgets/controls",
      "_view_module_version": "1.5.0",
      "_view_name": "HTMLView",
      "description": "",
      "description_tooltip": null,
      "layout": "IPY_MODEL_346d0c0d86e242ad98f51e978f90ac06",
      "placeholder": "​",
      "style": "IPY_MODEL_1629e0808319421584866c2e7f51f018",
      "value": "Downloading metadata: 100%"
     }
    },
    "5827322ad92944128cd4676b3dd4f2e6": {
     "model_module": "@jupyter-widgets/controls",
     "model_module_version": "1.5.0",
     "model_name": "ProgressStyleModel",
     "state": {
      "_model_module": "@jupyter-widgets/controls",
      "_model_module_version": "1.5.0",
      "_model_name": "ProgressStyleModel",
      "_view_count": null,
      "_view_module": "@jupyter-widgets/base",
      "_view_module_version": "1.2.0",
      "_view_name": "StyleView",
      "bar_color": null,
      "description_width": ""
     }
    },
    "60e07e2849d14b549e30226f1c7df88f": {
     "model_module": "@jupyter-widgets/controls",
     "model_module_version": "1.5.0",
     "model_name": "ProgressStyleModel",
     "state": {
      "_model_module": "@jupyter-widgets/controls",
      "_model_module_version": "1.5.0",
      "_model_name": "ProgressStyleModel",
      "_view_count": null,
      "_view_module": "@jupyter-widgets/base",
      "_view_module_version": "1.2.0",
      "_view_name": "StyleView",
      "bar_color": null,
      "description_width": ""
     }
    },
    "6b9ab4908e214b8f810bfbba6e3c8e69": {
     "model_module": "@jupyter-widgets/base",
     "model_module_version": "1.2.0",
     "model_name": "LayoutModel",
     "state": {
      "_model_module": "@jupyter-widgets/base",
      "_model_module_version": "1.2.0",
      "_model_name": "LayoutModel",
      "_view_count": null,
      "_view_module": "@jupyter-widgets/base",
      "_view_module_version": "1.2.0",
      "_view_name": "LayoutView",
      "align_content": null,
      "align_items": null,
      "align_self": null,
      "border": null,
      "bottom": null,
      "display": null,
      "flex": null,
      "flex_flow": null,
      "grid_area": null,
      "grid_auto_columns": null,
      "grid_auto_flow": null,
      "grid_auto_rows": null,
      "grid_column": null,
      "grid_gap": null,
      "grid_row": null,
      "grid_template_areas": null,
      "grid_template_columns": null,
      "grid_template_rows": null,
      "height": null,
      "justify_content": null,
      "justify_items": null,
      "left": null,
      "margin": null,
      "max_height": null,
      "max_width": null,
      "min_height": null,
      "min_width": null,
      "object_fit": null,
      "object_position": null,
      "order": null,
      "overflow": null,
      "overflow_x": null,
      "overflow_y": null,
      "padding": null,
      "right": null,
      "top": null,
      "visibility": null,
      "width": null
     }
    },
    "6e5c0489f84243cbaf731226b899ef8b": {
     "model_module": "@jupyter-widgets/controls",
     "model_module_version": "1.5.0",
     "model_name": "DescriptionStyleModel",
     "state": {
      "_model_module": "@jupyter-widgets/controls",
      "_model_module_version": "1.5.0",
      "_model_name": "DescriptionStyleModel",
      "_view_count": null,
      "_view_module": "@jupyter-widgets/base",
      "_view_module_version": "1.2.0",
      "_view_name": "StyleView",
      "description_width": ""
     }
    },
    "78f2cf9bb8264a70a16c781fc996fdbd": {
     "model_module": "@jupyter-widgets/controls",
     "model_module_version": "1.5.0",
     "model_name": "HTMLModel",
     "state": {
      "_dom_classes": [],
      "_model_module": "@jupyter-widgets/controls",
      "_model_module_version": "1.5.0",
      "_model_name": "HTMLModel",
      "_view_count": null,
      "_view_module": "@jupyter-widgets/controls",
      "_view_module_version": "1.5.0",
      "_view_name": "HTMLView",
      "description": "",
      "description_tooltip": null,
      "layout": "IPY_MODEL_9171d8991eb9487983a9df21d215b213",
      "placeholder": "​",
      "style": "IPY_MODEL_6e5c0489f84243cbaf731226b899ef8b",
      "value": "Generating train split: 100%"
     }
    },
    "84dcaa89866e44239a4d0bbc46f1c6d3": {
     "model_module": "@jupyter-widgets/base",
     "model_module_version": "1.2.0",
     "model_name": "LayoutModel",
     "state": {
      "_model_module": "@jupyter-widgets/base",
      "_model_module_version": "1.2.0",
      "_model_name": "LayoutModel",
      "_view_count": null,
      "_view_module": "@jupyter-widgets/base",
      "_view_module_version": "1.2.0",
      "_view_name": "LayoutView",
      "align_content": null,
      "align_items": null,
      "align_self": null,
      "border": null,
      "bottom": null,
      "display": null,
      "flex": null,
      "flex_flow": null,
      "grid_area": null,
      "grid_auto_columns": null,
      "grid_auto_flow": null,
      "grid_auto_rows": null,
      "grid_column": null,
      "grid_gap": null,
      "grid_row": null,
      "grid_template_areas": null,
      "grid_template_columns": null,
      "grid_template_rows": null,
      "height": null,
      "justify_content": null,
      "justify_items": null,
      "left": null,
      "margin": null,
      "max_height": null,
      "max_width": null,
      "min_height": null,
      "min_width": null,
      "object_fit": null,
      "object_position": null,
      "order": null,
      "overflow": null,
      "overflow_x": null,
      "overflow_y": null,
      "padding": null,
      "right": null,
      "top": null,
      "visibility": null,
      "width": null
     }
    },
    "8cfc56af946447dda997378373d96f5f": {
     "model_module": "@jupyter-widgets/controls",
     "model_module_version": "1.5.0",
     "model_name": "HTMLModel",
     "state": {
      "_dom_classes": [],
      "_model_module": "@jupyter-widgets/controls",
      "_model_module_version": "1.5.0",
      "_model_name": "HTMLModel",
      "_view_count": null,
      "_view_module": "@jupyter-widgets/controls",
      "_view_module_version": "1.5.0",
      "_view_name": "HTMLView",
      "description": "",
      "description_tooltip": null,
      "layout": "IPY_MODEL_08152e8566b041039aeddbd62c7ec7a0",
      "placeholder": "​",
      "style": "IPY_MODEL_cadd15e9afdd42a890346b2f1951b962",
      "value": " 5346/5346 [00:00&lt;00:00, 54787.45 examples/s]"
     }
    },
    "9171d8991eb9487983a9df21d215b213": {
     "model_module": "@jupyter-widgets/base",
     "model_module_version": "1.2.0",
     "model_name": "LayoutModel",
     "state": {
      "_model_module": "@jupyter-widgets/base",
      "_model_module_version": "1.2.0",
      "_model_name": "LayoutModel",
      "_view_count": null,
      "_view_module": "@jupyter-widgets/base",
      "_view_module_version": "1.2.0",
      "_view_name": "LayoutView",
      "align_content": null,
      "align_items": null,
      "align_self": null,
      "border": null,
      "bottom": null,
      "display": null,
      "flex": null,
      "flex_flow": null,
      "grid_area": null,
      "grid_auto_columns": null,
      "grid_auto_flow": null,
      "grid_auto_rows": null,
      "grid_column": null,
      "grid_gap": null,
      "grid_row": null,
      "grid_template_areas": null,
      "grid_template_columns": null,
      "grid_template_rows": null,
      "height": null,
      "justify_content": null,
      "justify_items": null,
      "left": null,
      "margin": null,
      "max_height": null,
      "max_width": null,
      "min_height": null,
      "min_width": null,
      "object_fit": null,
      "object_position": null,
      "order": null,
      "overflow": null,
      "overflow_x": null,
      "overflow_y": null,
      "padding": null,
      "right": null,
      "top": null,
      "visibility": null,
      "width": null
     }
    },
    "9807f136b156412fba291fc0a0e071c2": {
     "model_module": "@jupyter-widgets/controls",
     "model_module_version": "1.5.0",
     "model_name": "DescriptionStyleModel",
     "state": {
      "_model_module": "@jupyter-widgets/controls",
      "_model_module_version": "1.5.0",
      "_model_name": "DescriptionStyleModel",
      "_view_count": null,
      "_view_module": "@jupyter-widgets/base",
      "_view_module_version": "1.2.0",
      "_view_name": "StyleView",
      "description_width": ""
     }
    },
    "9d064c572faf4054bd66645306c46e94": {
     "model_module": "@jupyter-widgets/base",
     "model_module_version": "1.2.0",
     "model_name": "LayoutModel",
     "state": {
      "_model_module": "@jupyter-widgets/base",
      "_model_module_version": "1.2.0",
      "_model_name": "LayoutModel",
      "_view_count": null,
      "_view_module": "@jupyter-widgets/base",
      "_view_module_version": "1.2.0",
      "_view_name": "LayoutView",
      "align_content": null,
      "align_items": null,
      "align_self": null,
      "border": null,
      "bottom": null,
      "display": null,
      "flex": null,
      "flex_flow": null,
      "grid_area": null,
      "grid_auto_columns": null,
      "grid_auto_flow": null,
      "grid_auto_rows": null,
      "grid_column": null,
      "grid_gap": null,
      "grid_row": null,
      "grid_template_areas": null,
      "grid_template_columns": null,
      "grid_template_rows": null,
      "height": null,
      "justify_content": null,
      "justify_items": null,
      "left": null,
      "margin": null,
      "max_height": null,
      "max_width": null,
      "min_height": null,
      "min_width": null,
      "object_fit": null,
      "object_position": null,
      "order": null,
      "overflow": null,
      "overflow_x": null,
      "overflow_y": null,
      "padding": null,
      "right": null,
      "top": null,
      "visibility": null,
      "width": null
     }
    },
    "9e8f735a5d984130b81c65d8981794c8": {
     "model_module": "@jupyter-widgets/base",
     "model_module_version": "1.2.0",
     "model_name": "LayoutModel",
     "state": {
      "_model_module": "@jupyter-widgets/base",
      "_model_module_version": "1.2.0",
      "_model_name": "LayoutModel",
      "_view_count": null,
      "_view_module": "@jupyter-widgets/base",
      "_view_module_version": "1.2.0",
      "_view_name": "LayoutView",
      "align_content": null,
      "align_items": null,
      "align_self": null,
      "border": null,
      "bottom": null,
      "display": null,
      "flex": null,
      "flex_flow": null,
      "grid_area": null,
      "grid_auto_columns": null,
      "grid_auto_flow": null,
      "grid_auto_rows": null,
      "grid_column": null,
      "grid_gap": null,
      "grid_row": null,
      "grid_template_areas": null,
      "grid_template_columns": null,
      "grid_template_rows": null,
      "height": null,
      "justify_content": null,
      "justify_items": null,
      "left": null,
      "margin": null,
      "max_height": null,
      "max_width": null,
      "min_height": null,
      "min_width": null,
      "object_fit": null,
      "object_position": null,
      "order": null,
      "overflow": null,
      "overflow_x": null,
      "overflow_y": null,
      "padding": null,
      "right": null,
      "top": null,
      "visibility": null,
      "width": null
     }
    },
    "a2de44d10463476dad90b9e596f7591a": {
     "model_module": "@jupyter-widgets/base",
     "model_module_version": "1.2.0",
     "model_name": "LayoutModel",
     "state": {
      "_model_module": "@jupyter-widgets/base",
      "_model_module_version": "1.2.0",
      "_model_name": "LayoutModel",
      "_view_count": null,
      "_view_module": "@jupyter-widgets/base",
      "_view_module_version": "1.2.0",
      "_view_name": "LayoutView",
      "align_content": null,
      "align_items": null,
      "align_self": null,
      "border": null,
      "bottom": null,
      "display": null,
      "flex": null,
      "flex_flow": null,
      "grid_area": null,
      "grid_auto_columns": null,
      "grid_auto_flow": null,
      "grid_auto_rows": null,
      "grid_column": null,
      "grid_gap": null,
      "grid_row": null,
      "grid_template_areas": null,
      "grid_template_columns": null,
      "grid_template_rows": null,
      "height": null,
      "justify_content": null,
      "justify_items": null,
      "left": null,
      "margin": null,
      "max_height": null,
      "max_width": null,
      "min_height": null,
      "min_width": null,
      "object_fit": null,
      "object_position": null,
      "order": null,
      "overflow": null,
      "overflow_x": null,
      "overflow_y": null,
      "padding": null,
      "right": null,
      "top": null,
      "visibility": null,
      "width": null
     }
    },
    "af950977f181439ba6efb9ecd62f333d": {
     "model_module": "@jupyter-widgets/controls",
     "model_module_version": "1.5.0",
     "model_name": "HBoxModel",
     "state": {
      "_dom_classes": [],
      "_model_module": "@jupyter-widgets/controls",
      "_model_module_version": "1.5.0",
      "_model_name": "HBoxModel",
      "_view_count": null,
      "_view_module": "@jupyter-widgets/controls",
      "_view_module_version": "1.5.0",
      "_view_name": "HBoxView",
      "box_style": "",
      "children": [
       "IPY_MODEL_78f2cf9bb8264a70a16c781fc996fdbd",
       "IPY_MODEL_e57d99b08f8c438dae45608d8fdfeacc",
       "IPY_MODEL_8cfc56af946447dda997378373d96f5f"
      ],
      "layout": "IPY_MODEL_2eb89e470231486bb719673583cec0e7"
     }
    },
    "b51bfc42836a4708852ff949ff12e6af": {
     "model_module": "@jupyter-widgets/controls",
     "model_module_version": "1.5.0",
     "model_name": "DescriptionStyleModel",
     "state": {
      "_model_module": "@jupyter-widgets/controls",
      "_model_module_version": "1.5.0",
      "_model_name": "DescriptionStyleModel",
      "_view_count": null,
      "_view_module": "@jupyter-widgets/base",
      "_view_module_version": "1.2.0",
      "_view_name": "StyleView",
      "description_width": ""
     }
    },
    "ba7de7713f59438aa772f72cecc98ebc": {
     "model_module": "@jupyter-widgets/controls",
     "model_module_version": "1.5.0",
     "model_name": "HBoxModel",
     "state": {
      "_dom_classes": [],
      "_model_module": "@jupyter-widgets/controls",
      "_model_module_version": "1.5.0",
      "_model_name": "HBoxModel",
      "_view_count": null,
      "_view_module": "@jupyter-widgets/controls",
      "_view_module_version": "1.5.0",
      "_view_name": "HBoxView",
      "box_style": "",
      "children": [
       "IPY_MODEL_4601cae8e3d64c72a8d72776f5d341de",
       "IPY_MODEL_f2c61f3e3dc145db87cd51a545c8e51e",
       "IPY_MODEL_2e0ecc52fa764993bcf5bbb64aff3eea"
      ],
      "layout": "IPY_MODEL_9e8f735a5d984130b81c65d8981794c8"
     }
    },
    "cadd15e9afdd42a890346b2f1951b962": {
     "model_module": "@jupyter-widgets/controls",
     "model_module_version": "1.5.0",
     "model_name": "DescriptionStyleModel",
     "state": {
      "_model_module": "@jupyter-widgets/controls",
      "_model_module_version": "1.5.0",
      "_model_name": "DescriptionStyleModel",
      "_view_count": null,
      "_view_module": "@jupyter-widgets/base",
      "_view_module_version": "1.2.0",
      "_view_name": "StyleView",
      "description_width": ""
     }
    },
    "e4f80523b09e4bdeb0578f27375fadec": {
     "model_module": "@jupyter-widgets/base",
     "model_module_version": "1.2.0",
     "model_name": "LayoutModel",
     "state": {
      "_model_module": "@jupyter-widgets/base",
      "_model_module_version": "1.2.0",
      "_model_name": "LayoutModel",
      "_view_count": null,
      "_view_module": "@jupyter-widgets/base",
      "_view_module_version": "1.2.0",
      "_view_name": "LayoutView",
      "align_content": null,
      "align_items": null,
      "align_self": null,
      "border": null,
      "bottom": null,
      "display": null,
      "flex": null,
      "flex_flow": null,
      "grid_area": null,
      "grid_auto_columns": null,
      "grid_auto_flow": null,
      "grid_auto_rows": null,
      "grid_column": null,
      "grid_gap": null,
      "grid_row": null,
      "grid_template_areas": null,
      "grid_template_columns": null,
      "grid_template_rows": null,
      "height": null,
      "justify_content": null,
      "justify_items": null,
      "left": null,
      "margin": null,
      "max_height": null,
      "max_width": null,
      "min_height": null,
      "min_width": null,
      "object_fit": null,
      "object_position": null,
      "order": null,
      "overflow": null,
      "overflow_x": null,
      "overflow_y": null,
      "padding": null,
      "right": null,
      "top": null,
      "visibility": null,
      "width": null
     }
    },
    "e57d99b08f8c438dae45608d8fdfeacc": {
     "model_module": "@jupyter-widgets/controls",
     "model_module_version": "1.5.0",
     "model_name": "FloatProgressModel",
     "state": {
      "_dom_classes": [],
      "_model_module": "@jupyter-widgets/controls",
      "_model_module_version": "1.5.0",
      "_model_name": "FloatProgressModel",
      "_view_count": null,
      "_view_module": "@jupyter-widgets/controls",
      "_view_module_version": "1.5.0",
      "_view_name": "ProgressView",
      "bar_style": "success",
      "description": "",
      "description_tooltip": null,
      "layout": "IPY_MODEL_f0b1b846eaee4ce2a7f2724158021ad3",
      "max": 5346,
      "min": 0,
      "orientation": "horizontal",
      "style": "IPY_MODEL_60e07e2849d14b549e30226f1c7df88f",
      "value": 5346
     }
    },
    "ea258252bd4746ada14c4cef7b9a6c0b": {
     "model_module": "@jupyter-widgets/controls",
     "model_module_version": "1.5.0",
     "model_name": "HTMLModel",
     "state": {
      "_dom_classes": [],
      "_model_module": "@jupyter-widgets/controls",
      "_model_module_version": "1.5.0",
      "_model_name": "HTMLModel",
      "_view_count": null,
      "_view_module": "@jupyter-widgets/controls",
      "_view_module_version": "1.5.0",
      "_view_name": "HTMLView",
      "description": "",
      "description_tooltip": null,
      "layout": "IPY_MODEL_e4f80523b09e4bdeb0578f27375fadec",
      "placeholder": "​",
      "style": "IPY_MODEL_b51bfc42836a4708852ff949ff12e6af",
      "value": "Downloading data: 100%"
     }
    },
    "f0b1b846eaee4ce2a7f2724158021ad3": {
     "model_module": "@jupyter-widgets/base",
     "model_module_version": "1.2.0",
     "model_name": "LayoutModel",
     "state": {
      "_model_module": "@jupyter-widgets/base",
      "_model_module_version": "1.2.0",
      "_model_name": "LayoutModel",
      "_view_count": null,
      "_view_module": "@jupyter-widgets/base",
      "_view_module_version": "1.2.0",
      "_view_name": "LayoutView",
      "align_content": null,
      "align_items": null,
      "align_self": null,
      "border": null,
      "bottom": null,
      "display": null,
      "flex": null,
      "flex_flow": null,
      "grid_area": null,
      "grid_auto_columns": null,
      "grid_auto_flow": null,
      "grid_auto_rows": null,
      "grid_column": null,
      "grid_gap": null,
      "grid_row": null,
      "grid_template_areas": null,
      "grid_template_columns": null,
      "grid_template_rows": null,
      "height": null,
      "justify_content": null,
      "justify_items": null,
      "left": null,
      "margin": null,
      "max_height": null,
      "max_width": null,
      "min_height": null,
      "min_width": null,
      "object_fit": null,
      "object_position": null,
      "order": null,
      "overflow": null,
      "overflow_x": null,
      "overflow_y": null,
      "padding": null,
      "right": null,
      "top": null,
      "visibility": null,
      "width": null
     }
    },
    "f2c61f3e3dc145db87cd51a545c8e51e": {
     "model_module": "@jupyter-widgets/controls",
     "model_module_version": "1.5.0",
     "model_name": "FloatProgressModel",
     "state": {
      "_dom_classes": [],
      "_model_module": "@jupyter-widgets/controls",
      "_model_module_version": "1.5.0",
      "_model_name": "FloatProgressModel",
      "_view_count": null,
      "_view_module": "@jupyter-widgets/controls",
      "_view_module_version": "1.5.0",
      "_view_name": "ProgressView",
      "bar_style": "success",
      "description": "",
      "description_tooltip": null,
      "layout": "IPY_MODEL_094e80862ffb4cc6a9a2300fd4fa0da4",
      "max": 656,
      "min": 0,
      "orientation": "horizontal",
      "style": "IPY_MODEL_5827322ad92944128cd4676b3dd4f2e6",
      "value": 656
     }
    },
    "f6ad73af059d44d3bd706565539739e5": {
     "model_module": "@jupyter-widgets/controls",
     "model_module_version": "1.5.0",
     "model_name": "HBoxModel",
     "state": {
      "_dom_classes": [],
      "_model_module": "@jupyter-widgets/controls",
      "_model_module_version": "1.5.0",
      "_model_name": "HBoxModel",
      "_view_count": null,
      "_view_module": "@jupyter-widgets/controls",
      "_view_module_version": "1.5.0",
      "_view_name": "HBoxView",
      "box_style": "",
      "children": [
       "IPY_MODEL_ea258252bd4746ada14c4cef7b9a6c0b",
       "IPY_MODEL_21672904ff57471a85926ae94f4d5ff5",
       "IPY_MODEL_f9a3b26c038b4f3d949f8bd1a40f0500"
      ],
      "layout": "IPY_MODEL_a2de44d10463476dad90b9e596f7591a"
     }
    },
    "f9a3b26c038b4f3d949f8bd1a40f0500": {
     "model_module": "@jupyter-widgets/controls",
     "model_module_version": "1.5.0",
     "model_name": "HTMLModel",
     "state": {
      "_dom_classes": [],
      "_model_module": "@jupyter-widgets/controls",
      "_model_module_version": "1.5.0",
      "_model_name": "HTMLModel",
      "_view_count": null,
      "_view_module": "@jupyter-widgets/controls",
      "_view_module_version": "1.5.0",
      "_view_name": "HTMLView",
      "description": "",
      "description_tooltip": null,
      "layout": "IPY_MODEL_84dcaa89866e44239a4d0bbc46f1c6d3",
      "placeholder": "​",
      "style": "IPY_MODEL_358ff1eb32dd4e14b4d284c84057381e",
      "value": " 709k/709k [00:01&lt;00:00, 669kB/s]"
     }
    }
   }
  }
 },
 "nbformat": 4,
 "nbformat_minor": 1
}
