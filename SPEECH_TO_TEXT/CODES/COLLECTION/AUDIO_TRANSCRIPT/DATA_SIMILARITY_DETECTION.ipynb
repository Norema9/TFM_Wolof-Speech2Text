{
 "cells": [
  {
   "cell_type": "markdown",
   "metadata": {},
   "source": [
    "# Setup"
   ]
  },
  {
   "cell_type": "code",
   "execution_count": 1,
   "metadata": {},
   "outputs": [],
   "source": [
    "import numpy as np\n",
    "import pandas as pd\n",
    "import os"
   ]
  },
  {
   "cell_type": "code",
   "execution_count": 2,
   "metadata": {},
   "outputs": [],
   "source": [
    "path = r\"C:\\Users\\maron\\OneDrive\\02-Documents\\03.PROJETS\\00.INFORMATIQUE\\02.AI\\WOLOF\"\n",
    "os.chdir(path)"
   ]
  },
  {
   "cell_type": "markdown",
   "metadata": {},
   "source": [
    "# Functions"
   ]
  },
  {
   "cell_type": "code",
   "execution_count": 44,
   "metadata": {},
   "outputs": [],
   "source": [
    "def compare_two_dataframes(df1, df2, d1, d2):\n",
    "    # This function compares two dataframes\n",
    "    set1 = set(df1['transcription'])\n",
    "    set2 = set(df2['transcription'])\n",
    "\n",
    "    shared_sentences = set1.intersection(set2)\n",
    "    unique_to_set1 = set1.difference(set2)\n",
    "    unique_to_set2 = set2.difference(set1)\n",
    "    is_set1_in_set2 = set1.issubset(set2)\n",
    "    is_set2_in_set1 = set2.issubset(set1)\n",
    "\n",
    "    result = {\n",
    "        'df1': d1,\n",
    "        'df2': d2,\n",
    "        'shared_sentences': len(shared_sentences),\n",
    "        f'unique to {d1}': len(unique_to_set1),\n",
    "        f'unique to {d2}': len(unique_to_set2),\n",
    "        f'is {d1} in {d2}': is_set1_in_set2,\n",
    "        f'is {d2} in {d1}': is_set2_in_set1\n",
    "    }\n",
    "\n",
    "    return result"
   ]
  },
  {
   "cell_type": "code",
   "execution_count": 45,
   "metadata": {},
   "outputs": [],
   "source": [
    "def dataset_name(dfs, i):\n",
    "    if i == 0:\n",
    "        return 'zenodo'\n",
    "    elif i == 1:\n",
    "        return 'wol_alf'\n",
    "    elif i == 2:\n",
    "        return 'waxal_git'\n",
    "    elif i == 3:\n",
    "        return 'waxal'\n",
    "    elif i == 4:\n",
    "        return 'serge'\n",
    "    elif i == 5:\n",
    "        return 'google_fleurs'\n",
    "    elif i == 6:\n",
    "        return 'alffa_git'\n",
    "    elif i == 7:\n",
    "        return 'alffa'\n"
   ]
  },
  {
   "cell_type": "code",
   "execution_count": 46,
   "metadata": {},
   "outputs": [],
   "source": [
    "def compare_dataframes(dfs):\n",
    "    # This function takes a list of dataframes and compares each pair of dataframes\n",
    "    results = []\n",
    "    for i in range(len(dfs)):\n",
    "        for j in range(i+1, len(dfs)):\n",
    "            result = compare_two_dataframes(dfs[i], dfs[j], dataset_name(dfs, i), dataset_name(dfs, j))\n",
    "            results.append(result)\n",
    "    return results"
   ]
  },
  {
   "cell_type": "markdown",
   "metadata": {},
   "source": [
    "# Loading datasets with sentences"
   ]
  },
  {
   "cell_type": "code",
   "execution_count": 20,
   "metadata": {},
   "outputs": [],
   "source": [
    "alffa = pd.read_csv(r\"SPEECH_TO_TEXT\\DATA\\CLEANED\\WOLOF_AUDIO_TRANS\\alffa\\alffa_clean_df.csv\")\n",
    "alffa_git = pd.read_csv(r\"SPEECH_TO_TEXT\\DATA\\CLEANED\\WOLOF_AUDIO_TRANS\\alffa_git\\alffa_git_clean.csv\")\n",
    "google_fleurs = pd.read_csv(r\"SPEECH_TO_TEXT\\DATA\\CLEANED\\WOLOF_AUDIO_TRANS\\google_fleurs\\google_fleurs_clean.csv\")\n",
    "serge = pd.read_csv(r\"SPEECH_TO_TEXT\\DATA\\CLEANED\\WOLOF_AUDIO_TRANS\\serge\\serge_clean_df.csv\")\n",
    "waxal = pd.read_csv(r\"SPEECH_TO_TEXT\\DATA\\CLEANED\\WOLOF_AUDIO_TRANS\\waxal\\waxal__clean_df.csv\")\n",
    "waxal_git = pd.read_csv(r\"SPEECH_TO_TEXT\\DATA\\CLEANED\\WOLOF_AUDIO_TRANS\\waxal_git\\waxal_git_clean_df.csv\")\n",
    "wol_alf = pd.read_csv(r\"SPEECH_TO_TEXT\\DATA\\CLEANED\\WOLOF_AUDIO_TRANS\\wol_alf\\wol_alf_clean.csv\")\n",
    "zenodo = pd.read_csv(r\"SPEECH_TO_TEXT\\DATA\\CLEANED\\WOLOF_AUDIO_TRANS\\zenodo\\zenodo_cleaned.csv\")"
   ]
  },
  {
   "cell_type": "markdown",
   "metadata": {},
   "source": [
    "# Detecting doublon of dataset"
   ]
  },
  {
   "cell_type": "code",
   "execution_count": 40,
   "metadata": {},
   "outputs": [],
   "source": [
    "dfs = [zenodo, wol_alf, waxal_git, waxal, serge, google_fleurs, alffa_git, alffa]"
   ]
  },
  {
   "cell_type": "code",
   "execution_count": 47,
   "metadata": {},
   "outputs": [],
   "source": [
    "result = compare_dataframes(dfs)"
   ]
  },
  {
   "cell_type": "code",
   "execution_count": 48,
   "metadata": {},
   "outputs": [
    {
     "name": "stdout",
     "output_type": "stream",
     "text": [
      "[{'df1': 'zenodo', 'df2': 'wol_alf', 'shared_sentences': 0, 'unique to zenodo': 33919, 'unique to wol_alf': 992, 'is zenodo in wol_alf': False, 'is wol_alf in zenodo': False}, {'df1': 'zenodo', 'df2': 'waxal_git', 'shared_sentences': 0, 'unique to zenodo': 33919, 'unique to waxal_git': 999, 'is zenodo in waxal_git': False, 'is waxal_git in zenodo': False}, {'df1': 'zenodo', 'df2': 'waxal', 'shared_sentences': 0, 'unique to zenodo': 33919, 'unique to waxal': 2376, 'is zenodo in waxal': False, 'is waxal in zenodo': False}, {'df1': 'zenodo', 'df2': 'serge', 'shared_sentences': 0, 'unique to zenodo': 33919, 'unique to serge': 4989, 'is zenodo in serge': False, 'is serge in zenodo': False}, {'df1': 'zenodo', 'df2': 'google_fleurs', 'shared_sentences': 0, 'unique to zenodo': 33919, 'unique to google_fleurs': 1656, 'is zenodo in google_fleurs': False, 'is google_fleurs in zenodo': False}, {'df1': 'zenodo', 'df2': 'alffa_git', 'shared_sentences': 0, 'unique to zenodo': 33919, 'unique to alffa_git': 5044, 'is zenodo in alffa_git': False, 'is alffa_git in zenodo': False}, {'df1': 'zenodo', 'df2': 'alffa', 'shared_sentences': 0, 'unique to zenodo': 33919, 'unique to alffa': 5021, 'is zenodo in alffa': False, 'is alffa in zenodo': False}, {'df1': 'wol_alf', 'df2': 'waxal_git', 'shared_sentences': 0, 'unique to wol_alf': 992, 'unique to waxal_git': 999, 'is wol_alf in waxal_git': False, 'is waxal_git in wol_alf': False}, {'df1': 'wol_alf', 'df2': 'waxal', 'shared_sentences': 0, 'unique to wol_alf': 992, 'unique to waxal': 2376, 'is wol_alf in waxal': False, 'is waxal in wol_alf': False}, {'df1': 'wol_alf', 'df2': 'serge', 'shared_sentences': 992, 'unique to wol_alf': 0, 'unique to serge': 3997, 'is wol_alf in serge': True, 'is serge in wol_alf': False}, {'df1': 'wol_alf', 'df2': 'google_fleurs', 'shared_sentences': 0, 'unique to wol_alf': 992, 'unique to google_fleurs': 1656, 'is wol_alf in google_fleurs': False, 'is google_fleurs in wol_alf': False}, {'df1': 'wol_alf', 'df2': 'alffa_git', 'shared_sentences': 992, 'unique to wol_alf': 0, 'unique to alffa_git': 4052, 'is wol_alf in alffa_git': True, 'is alffa_git in wol_alf': False}, {'df1': 'wol_alf', 'df2': 'alffa', 'shared_sentences': 0, 'unique to wol_alf': 992, 'unique to alffa': 5021, 'is wol_alf in alffa': False, 'is alffa in wol_alf': False}, {'df1': 'waxal_git', 'df2': 'waxal', 'shared_sentences': 982, 'unique to waxal_git': 17, 'unique to waxal': 1394, 'is waxal_git in waxal': False, 'is waxal in waxal_git': False}, {'df1': 'waxal_git', 'df2': 'serge', 'shared_sentences': 0, 'unique to waxal_git': 999, 'unique to serge': 4989, 'is waxal_git in serge': False, 'is serge in waxal_git': False}, {'df1': 'waxal_git', 'df2': 'google_fleurs', 'shared_sentences': 0, 'unique to waxal_git': 999, 'unique to google_fleurs': 1656, 'is waxal_git in google_fleurs': False, 'is google_fleurs in waxal_git': False}, {'df1': 'waxal_git', 'df2': 'alffa_git', 'shared_sentences': 0, 'unique to waxal_git': 999, 'unique to alffa_git': 5044, 'is waxal_git in alffa_git': False, 'is alffa_git in waxal_git': False}, {'df1': 'waxal_git', 'df2': 'alffa', 'shared_sentences': 0, 'unique to waxal_git': 999, 'unique to alffa': 5021, 'is waxal_git in alffa': False, 'is alffa in waxal_git': False}, {'df1': 'waxal', 'df2': 'serge', 'shared_sentences': 0, 'unique to waxal': 2376, 'unique to serge': 4989, 'is waxal in serge': False, 'is serge in waxal': False}, {'df1': 'waxal', 'df2': 'google_fleurs', 'shared_sentences': 0, 'unique to waxal': 2376, 'unique to google_fleurs': 1656, 'is waxal in google_fleurs': False, 'is google_fleurs in waxal': False}, {'df1': 'waxal', 'df2': 'alffa_git', 'shared_sentences': 0, 'unique to waxal': 2376, 'unique to alffa_git': 5044, 'is waxal in alffa_git': False, 'is alffa_git in waxal': False}, {'df1': 'waxal', 'df2': 'alffa', 'shared_sentences': 0, 'unique to waxal': 2376, 'unique to alffa': 5021, 'is waxal in alffa': False, 'is alffa in waxal': False}, {'df1': 'serge', 'df2': 'google_fleurs', 'shared_sentences': 0, 'unique to serge': 4989, 'unique to google_fleurs': 1656, 'is serge in google_fleurs': False, 'is google_fleurs in serge': False}, {'df1': 'serge', 'df2': 'alffa_git', 'shared_sentences': 4988, 'unique to serge': 1, 'unique to alffa_git': 56, 'is serge in alffa_git': False, 'is alffa_git in serge': False}, {'df1': 'serge', 'df2': 'alffa', 'shared_sentences': 0, 'unique to serge': 4989, 'unique to alffa': 5021, 'is serge in alffa': False, 'is alffa in serge': False}, {'df1': 'google_fleurs', 'df2': 'alffa_git', 'shared_sentences': 0, 'unique to google_fleurs': 1656, 'unique to alffa_git': 5044, 'is google_fleurs in alffa_git': False, 'is alffa_git in google_fleurs': False}, {'df1': 'google_fleurs', 'df2': 'alffa', 'shared_sentences': 0, 'unique to google_fleurs': 1656, 'unique to alffa': 5021, 'is google_fleurs in alffa': False, 'is alffa in google_fleurs': False}, {'df1': 'alffa_git', 'df2': 'alffa', 'shared_sentences': 0, 'unique to alffa_git': 5044, 'unique to alffa': 5021, 'is alffa_git in alffa': False, 'is alffa in alffa_git': False}]\n"
     ]
    }
   ],
   "source": [
    "print(result)"
   ]
  },
  {
   "cell_type": "code",
   "execution_count": 51,
   "metadata": {},
   "outputs": [
    {
     "name": "stdout",
     "output_type": "stream",
     "text": [
      "Result 1:\n",
      "+---+--------+---------+------------------+------------------+-------------------+----------------------+----------------------+\n",
      "|   |  df1   |   df2   | shared_sentences | unique to zenodo | unique to wol_alf | is zenodo in wol_alf | is wol_alf in zenodo |\n",
      "+---+--------+---------+------------------+------------------+-------------------+----------------------+----------------------+\n",
      "| 0 | zenodo | wol_alf |        0         |      33919       |        992        |        False         |        False         |\n",
      "+---+--------+---------+------------------+------------------+-------------------+----------------------+----------------------+\n",
      "Result 2:\n",
      "+---+--------+-----------+------------------+------------------+---------------------+------------------------+------------------------+\n",
      "|   |  df1   |    df2    | shared_sentences | unique to zenodo | unique to waxal_git | is zenodo in waxal_git | is waxal_git in zenodo |\n",
      "+---+--------+-----------+------------------+------------------+---------------------+------------------------+------------------------+\n",
      "| 0 | zenodo | waxal_git |        0         |      33919       |         999         |         False          |         False          |\n",
      "+---+--------+-----------+------------------+------------------+---------------------+------------------------+------------------------+\n",
      "Result 3:\n",
      "+---+--------+-------+------------------+------------------+-----------------+--------------------+--------------------+\n",
      "|   |  df1   |  df2  | shared_sentences | unique to zenodo | unique to waxal | is zenodo in waxal | is waxal in zenodo |\n",
      "+---+--------+-------+------------------+------------------+-----------------+--------------------+--------------------+\n",
      "| 0 | zenodo | waxal |        0         |      33919       |      2376       |       False        |       False        |\n",
      "+---+--------+-------+------------------+------------------+-----------------+--------------------+--------------------+\n",
      "Result 4:\n",
      "+---+--------+-------+------------------+------------------+-----------------+--------------------+--------------------+\n",
      "|   |  df1   |  df2  | shared_sentences | unique to zenodo | unique to serge | is zenodo in serge | is serge in zenodo |\n",
      "+---+--------+-------+------------------+------------------+-----------------+--------------------+--------------------+\n",
      "| 0 | zenodo | serge |        0         |      33919       |      4989       |       False        |       False        |\n",
      "+---+--------+-------+------------------+------------------+-----------------+--------------------+--------------------+\n",
      "Result 5:\n",
      "+---+--------+---------------+------------------+------------------+-------------------------+----------------------------+----------------------------+\n",
      "|   |  df1   |      df2      | shared_sentences | unique to zenodo | unique to google_fleurs | is zenodo in google_fleurs | is google_fleurs in zenodo |\n",
      "+---+--------+---------------+------------------+------------------+-------------------------+----------------------------+----------------------------+\n",
      "| 0 | zenodo | google_fleurs |        0         |      33919       |          1656           |           False            |           False            |\n",
      "+---+--------+---------------+------------------+------------------+-------------------------+----------------------------+----------------------------+\n",
      "Result 6:\n",
      "+---+--------+-----------+------------------+------------------+---------------------+------------------------+------------------------+\n",
      "|   |  df1   |    df2    | shared_sentences | unique to zenodo | unique to alffa_git | is zenodo in alffa_git | is alffa_git in zenodo |\n",
      "+---+--------+-----------+------------------+------------------+---------------------+------------------------+------------------------+\n",
      "| 0 | zenodo | alffa_git |        0         |      33919       |        5044         |         False          |         False          |\n",
      "+---+--------+-----------+------------------+------------------+---------------------+------------------------+------------------------+\n",
      "Result 7:\n",
      "+---+--------+-------+------------------+------------------+-----------------+--------------------+--------------------+\n",
      "|   |  df1   |  df2  | shared_sentences | unique to zenodo | unique to alffa | is zenodo in alffa | is alffa in zenodo |\n",
      "+---+--------+-------+------------------+------------------+-----------------+--------------------+--------------------+\n",
      "| 0 | zenodo | alffa |        0         |      33919       |      5021       |       False        |       False        |\n",
      "+---+--------+-------+------------------+------------------+-----------------+--------------------+--------------------+\n",
      "Result 8:\n",
      "+---+---------+-----------+------------------+-------------------+---------------------+-------------------------+-------------------------+\n",
      "|   |   df1   |    df2    | shared_sentences | unique to wol_alf | unique to waxal_git | is wol_alf in waxal_git | is waxal_git in wol_alf |\n",
      "+---+---------+-----------+------------------+-------------------+---------------------+-------------------------+-------------------------+\n",
      "| 0 | wol_alf | waxal_git |        0         |        992        |         999         |          False          |          False          |\n",
      "+---+---------+-----------+------------------+-------------------+---------------------+-------------------------+-------------------------+\n",
      "Result 9:\n",
      "+---+---------+-------+------------------+-------------------+-----------------+---------------------+---------------------+\n",
      "|   |   df1   |  df2  | shared_sentences | unique to wol_alf | unique to waxal | is wol_alf in waxal | is waxal in wol_alf |\n",
      "+---+---------+-------+------------------+-------------------+-----------------+---------------------+---------------------+\n",
      "| 0 | wol_alf | waxal |        0         |        992        |      2376       |        False        |        False        |\n",
      "+---+---------+-------+------------------+-------------------+-----------------+---------------------+---------------------+\n",
      "Result 10:\n",
      "+---+---------+-------+------------------+-------------------+-----------------+---------------------+---------------------+\n",
      "|   |   df1   |  df2  | shared_sentences | unique to wol_alf | unique to serge | is wol_alf in serge | is serge in wol_alf |\n",
      "+---+---------+-------+------------------+-------------------+-----------------+---------------------+---------------------+\n",
      "| 0 | wol_alf | serge |       992        |         0         |      3997       |        True         |        False        |\n",
      "+---+---------+-------+------------------+-------------------+-----------------+---------------------+---------------------+\n",
      "Result 11:\n",
      "+---+---------+---------------+------------------+-------------------+-------------------------+-----------------------------+-----------------------------+\n",
      "|   |   df1   |      df2      | shared_sentences | unique to wol_alf | unique to google_fleurs | is wol_alf in google_fleurs | is google_fleurs in wol_alf |\n",
      "+---+---------+---------------+------------------+-------------------+-------------------------+-----------------------------+-----------------------------+\n",
      "| 0 | wol_alf | google_fleurs |        0         |        992        |          1656           |            False            |            False            |\n",
      "+---+---------+---------------+------------------+-------------------+-------------------------+-----------------------------+-----------------------------+\n",
      "Result 12:\n",
      "+---+---------+-----------+------------------+-------------------+---------------------+-------------------------+-------------------------+\n",
      "|   |   df1   |    df2    | shared_sentences | unique to wol_alf | unique to alffa_git | is wol_alf in alffa_git | is alffa_git in wol_alf |\n",
      "+---+---------+-----------+------------------+-------------------+---------------------+-------------------------+-------------------------+\n",
      "| 0 | wol_alf | alffa_git |       992        |         0         |        4052         |          True           |          False          |\n",
      "+---+---------+-----------+------------------+-------------------+---------------------+-------------------------+-------------------------+\n",
      "Result 13:\n",
      "+---+---------+-------+------------------+-------------------+-----------------+---------------------+---------------------+\n",
      "|   |   df1   |  df2  | shared_sentences | unique to wol_alf | unique to alffa | is wol_alf in alffa | is alffa in wol_alf |\n",
      "+---+---------+-------+------------------+-------------------+-----------------+---------------------+---------------------+\n",
      "| 0 | wol_alf | alffa |        0         |        992        |      5021       |        False        |        False        |\n",
      "+---+---------+-------+------------------+-------------------+-----------------+---------------------+---------------------+\n",
      "Result 14:\n",
      "+---+-----------+-------+------------------+---------------------+-----------------+-----------------------+-----------------------+\n",
      "|   |    df1    |  df2  | shared_sentences | unique to waxal_git | unique to waxal | is waxal_git in waxal | is waxal in waxal_git |\n",
      "+---+-----------+-------+------------------+---------------------+-----------------+-----------------------+-----------------------+\n",
      "| 0 | waxal_git | waxal |       982        |         17          |      1394       |         False         |         False         |\n",
      "+---+-----------+-------+------------------+---------------------+-----------------+-----------------------+-----------------------+\n",
      "Result 15:\n",
      "+---+-----------+-------+------------------+---------------------+-----------------+-----------------------+-----------------------+\n",
      "|   |    df1    |  df2  | shared_sentences | unique to waxal_git | unique to serge | is waxal_git in serge | is serge in waxal_git |\n",
      "+---+-----------+-------+------------------+---------------------+-----------------+-----------------------+-----------------------+\n",
      "| 0 | waxal_git | serge |        0         |         999         |      4989       |         False         |         False         |\n",
      "+---+-----------+-------+------------------+---------------------+-----------------+-----------------------+-----------------------+\n",
      "Result 16:\n",
      "+---+-----------+---------------+------------------+---------------------+-------------------------+-------------------------------+-------------------------------+\n",
      "|   |    df1    |      df2      | shared_sentences | unique to waxal_git | unique to google_fleurs | is waxal_git in google_fleurs | is google_fleurs in waxal_git |\n",
      "+---+-----------+---------------+------------------+---------------------+-------------------------+-------------------------------+-------------------------------+\n",
      "| 0 | waxal_git | google_fleurs |        0         |         999         |          1656           |             False             |             False             |\n",
      "+---+-----------+---------------+------------------+---------------------+-------------------------+-------------------------------+-------------------------------+\n",
      "Result 17:\n",
      "+---+-----------+-----------+------------------+---------------------+---------------------+---------------------------+---------------------------+\n",
      "|   |    df1    |    df2    | shared_sentences | unique to waxal_git | unique to alffa_git | is waxal_git in alffa_git | is alffa_git in waxal_git |\n",
      "+---+-----------+-----------+------------------+---------------------+---------------------+---------------------------+---------------------------+\n",
      "| 0 | waxal_git | alffa_git |        0         |         999         |        5044         |           False           |           False           |\n",
      "+---+-----------+-----------+------------------+---------------------+---------------------+---------------------------+---------------------------+\n",
      "Result 18:\n",
      "+---+-----------+-------+------------------+---------------------+-----------------+-----------------------+-----------------------+\n",
      "|   |    df1    |  df2  | shared_sentences | unique to waxal_git | unique to alffa | is waxal_git in alffa | is alffa in waxal_git |\n",
      "+---+-----------+-------+------------------+---------------------+-----------------+-----------------------+-----------------------+\n",
      "| 0 | waxal_git | alffa |        0         |         999         |      5021       |         False         |         False         |\n",
      "+---+-----------+-------+------------------+---------------------+-----------------+-----------------------+-----------------------+\n",
      "Result 19:\n",
      "+---+-------+-------+------------------+-----------------+-----------------+-------------------+-------------------+\n",
      "|   |  df1  |  df2  | shared_sentences | unique to waxal | unique to serge | is waxal in serge | is serge in waxal |\n",
      "+---+-------+-------+------------------+-----------------+-----------------+-------------------+-------------------+\n",
      "| 0 | waxal | serge |        0         |      2376       |      4989       |       False       |       False       |\n",
      "+---+-------+-------+------------------+-----------------+-----------------+-------------------+-------------------+\n",
      "Result 20:\n",
      "+---+-------+---------------+------------------+-----------------+-------------------------+---------------------------+---------------------------+\n",
      "|   |  df1  |      df2      | shared_sentences | unique to waxal | unique to google_fleurs | is waxal in google_fleurs | is google_fleurs in waxal |\n",
      "+---+-------+---------------+------------------+-----------------+-------------------------+---------------------------+---------------------------+\n",
      "| 0 | waxal | google_fleurs |        0         |      2376       |          1656           |           False           |           False           |\n",
      "+---+-------+---------------+------------------+-----------------+-------------------------+---------------------------+---------------------------+\n",
      "Result 21:\n",
      "+---+-------+-----------+------------------+-----------------+---------------------+-----------------------+-----------------------+\n",
      "|   |  df1  |    df2    | shared_sentences | unique to waxal | unique to alffa_git | is waxal in alffa_git | is alffa_git in waxal |\n",
      "+---+-------+-----------+------------------+-----------------+---------------------+-----------------------+-----------------------+\n",
      "| 0 | waxal | alffa_git |        0         |      2376       |        5044         |         False         |         False         |\n",
      "+---+-------+-----------+------------------+-----------------+---------------------+-----------------------+-----------------------+\n",
      "Result 22:\n",
      "+---+-------+-------+------------------+-----------------+-----------------+-------------------+-------------------+\n",
      "|   |  df1  |  df2  | shared_sentences | unique to waxal | unique to alffa | is waxal in alffa | is alffa in waxal |\n",
      "+---+-------+-------+------------------+-----------------+-----------------+-------------------+-------------------+\n",
      "| 0 | waxal | alffa |        0         |      2376       |      5021       |       False       |       False       |\n",
      "+---+-------+-------+------------------+-----------------+-----------------+-------------------+-------------------+\n",
      "Result 23:\n",
      "+---+-------+---------------+------------------+-----------------+-------------------------+---------------------------+---------------------------+\n",
      "|   |  df1  |      df2      | shared_sentences | unique to serge | unique to google_fleurs | is serge in google_fleurs | is google_fleurs in serge |\n",
      "+---+-------+---------------+------------------+-----------------+-------------------------+---------------------------+---------------------------+\n",
      "| 0 | serge | google_fleurs |        0         |      4989       |          1656           |           False           |           False           |\n",
      "+---+-------+---------------+------------------+-----------------+-------------------------+---------------------------+---------------------------+\n",
      "Result 24:\n",
      "+---+-------+-----------+------------------+-----------------+---------------------+-----------------------+-----------------------+\n",
      "|   |  df1  |    df2    | shared_sentences | unique to serge | unique to alffa_git | is serge in alffa_git | is alffa_git in serge |\n",
      "+---+-------+-----------+------------------+-----------------+---------------------+-----------------------+-----------------------+\n",
      "| 0 | serge | alffa_git |       4988       |        1        |         56          |         False         |         False         |\n",
      "+---+-------+-----------+------------------+-----------------+---------------------+-----------------------+-----------------------+\n",
      "Result 25:\n",
      "+---+-------+-------+------------------+-----------------+-----------------+-------------------+-------------------+\n",
      "|   |  df1  |  df2  | shared_sentences | unique to serge | unique to alffa | is serge in alffa | is alffa in serge |\n",
      "+---+-------+-------+------------------+-----------------+-----------------+-------------------+-------------------+\n",
      "| 0 | serge | alffa |        0         |      4989       |      5021       |       False       |       False       |\n",
      "+---+-------+-------+------------------+-----------------+-----------------+-------------------+-------------------+\n",
      "Result 26:\n",
      "+---+---------------+-----------+------------------+-------------------------+---------------------+-------------------------------+-------------------------------+\n",
      "|   |      df1      |    df2    | shared_sentences | unique to google_fleurs | unique to alffa_git | is google_fleurs in alffa_git | is alffa_git in google_fleurs |\n",
      "+---+---------------+-----------+------------------+-------------------------+---------------------+-------------------------------+-------------------------------+\n",
      "| 0 | google_fleurs | alffa_git |        0         |          1656           |        5044         |             False             |             False             |\n",
      "+---+---------------+-----------+------------------+-------------------------+---------------------+-------------------------------+-------------------------------+\n",
      "Result 27:\n",
      "+---+---------------+-------+------------------+-------------------------+-----------------+---------------------------+---------------------------+\n",
      "|   |      df1      |  df2  | shared_sentences | unique to google_fleurs | unique to alffa | is google_fleurs in alffa | is alffa in google_fleurs |\n",
      "+---+---------------+-------+------------------+-------------------------+-----------------+---------------------------+---------------------------+\n",
      "| 0 | google_fleurs | alffa |        0         |          1656           |      5021       |           False           |           False           |\n",
      "+---+---------------+-------+------------------+-------------------------+-----------------+---------------------------+---------------------------+\n",
      "Result 28:\n",
      "+---+-----------+-------+------------------+---------------------+-----------------+-----------------------+-----------------------+\n",
      "|   |    df1    |  df2  | shared_sentences | unique to alffa_git | unique to alffa | is alffa_git in alffa | is alffa in alffa_git |\n",
      "+---+-----------+-------+------------------+---------------------+-----------------+-----------------------+-----------------------+\n",
      "| 0 | alffa_git | alffa |        0         |        5044         |      5021       |         False         |         False         |\n",
      "+---+-----------+-------+------------------+---------------------+-----------------+-----------------------+-----------------------+\n"
     ]
    }
   ],
   "source": [
    "from tabulate import tabulate\n",
    "\n",
    "# Loop over each dictionary in the result list\n",
    "for i, res in enumerate(result):\n",
    "    # Convert the dictionary to a DataFrame\n",
    "    df = pd.DataFrame([res])\n",
    "    \n",
    "    # Convert the DataFrame to a table using tabulate\n",
    "    table = tabulate(df, headers='keys', tablefmt='pretty')\n",
    "    \n",
    "    # Print the table\n",
    "    print(f\"Result {i+1}:\")\n",
    "    print(table)"
   ]
  }
 ],
 "metadata": {
  "kernelspec": {
   "display_name": "base",
   "language": "python",
   "name": "python3"
  },
  "language_info": {
   "codemirror_mode": {
    "name": "ipython",
    "version": 3
   },
   "file_extension": ".py",
   "mimetype": "text/x-python",
   "name": "python",
   "nbconvert_exporter": "python",
   "pygments_lexer": "ipython3",
   "version": "3.11.5"
  }
 },
 "nbformat": 4,
 "nbformat_minor": 2
}
