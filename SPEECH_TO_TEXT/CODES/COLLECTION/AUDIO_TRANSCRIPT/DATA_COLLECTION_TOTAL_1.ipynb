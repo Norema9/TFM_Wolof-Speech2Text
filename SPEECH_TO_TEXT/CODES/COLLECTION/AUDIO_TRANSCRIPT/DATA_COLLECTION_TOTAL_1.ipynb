{
 "cells": [
  {
   "attachments": {},
   "cell_type": "markdown",
   "metadata": {},
   "source": [
    "# SETUP"
   ]
  },
  {
   "cell_type": "code",
   "execution_count": 1,
   "metadata": {
    "colab": {
     "base_uri": "https://localhost:8080/"
    },
    "executionInfo": {
     "elapsed": 23325,
     "status": "ok",
     "timestamp": 1704108495861,
     "user": {
      "displayName": "Mamadou Marone",
      "userId": "05267491098406901582"
     },
     "user_tz": -60
    },
    "id": "aXRim0rtYof9",
    "outputId": "fc8f0801-c95b-4bc5-b6db-f91c9700f1f0"
   },
   "outputs": [],
   "source": [
    "# %%capture\n",
    "# !pip install fastapi kaleido python-multipart uvicorn\n",
    "# !pip install --upgrade datasets\n",
    "# !pip install pandas pydub\n",
    "# !pip install librosa scipy soundfile"
   ]
  },
  {
   "cell_type": "code",
   "execution_count": 2,
   "metadata": {
    "id": "jX5vjygmYogB"
   },
   "outputs": [],
   "source": [
    "# from datasets import load_dataset\n",
    "# import numpy as np\n",
    "import pandas as pd\n",
    "# from pydub import AudioSegment\n",
    "# import wave\n",
    "import os\n",
    "# import io\n",
    "import librosa\n",
    "# from scipy.signal import resample as scipy_resample"
   ]
  },
  {
   "cell_type": "code",
   "execution_count": 3,
   "metadata": {},
   "outputs": [],
   "source": [
    "path = r\"D:\\MARONE\\WOLOF\"\n",
    "os.chdir(path)"
   ]
  },
  {
   "attachments": {},
   "cell_type": "markdown",
   "metadata": {
    "id": "7oDVQ1UdYogC"
   },
   "source": [
    "# Functions"
   ]
  },
  {
   "cell_type": "code",
   "execution_count": 4,
   "metadata": {
    "id": "9s-KESsDYogD"
   },
   "outputs": [],
   "source": [
    "def resample_audio(input_path, path_audio, target_sr=16000):\n",
    "    # Load the audio file\n",
    "    audio, sr = librosa.load(path_audio + input_path, sr=None)\n",
    "\n",
    "    # Resample to 16 kHz\n",
    "    audio_resampled = librosa.resample(audio, orig_sr=sr, target_sr=target_sr)\n",
    "\n",
    "    del audio\n",
    "    del sr\n",
    "\n",
    "    return audio_resampled"
   ]
  },
  {
   "cell_type": "code",
   "execution_count": 5,
   "metadata": {},
   "outputs": [],
   "source": [
    "def rename_path_to_path_complet(row, path, ext):\n",
    "    return path + '\\\\' + row + ext"
   ]
  },
  {
   "attachments": {},
   "cell_type": "markdown",
   "metadata": {
    "id": "0eu0Ueb4YogE"
   },
   "source": [
    "# Data loading"
   ]
  },
  {
   "cell_type": "code",
   "execution_count": 6,
   "metadata": {
    "id": "qRTkZLfiYogE"
   },
   "outputs": [
    {
     "ename": "FileNotFoundError",
     "evalue": "[Errno 2] No such file or directory: 'SPEECH_TO_TEXT\\\\DATA\\\\CLEANED\\\\WOLOF_AUDIO_TRANS\\\\alffa\\\\alffa_clean_df.csv'",
     "output_type": "error",
     "traceback": [
      "\u001b[1;31m---------------------------------------------------------------------------\u001b[0m",
      "\u001b[1;31mFileNotFoundError\u001b[0m                         Traceback (most recent call last)",
      "Cell \u001b[1;32mIn[6], line 1\u001b[0m\n\u001b[1;32m----> 1\u001b[0m alffa_clean \u001b[39m=\u001b[39m pd\u001b[39m.\u001b[39;49mread_csv(\u001b[39mr\u001b[39;49m\u001b[39m\"\u001b[39;49m\u001b[39mSPEECH_TO_TEXT\u001b[39;49m\u001b[39m\\\u001b[39;49m\u001b[39mDATA\u001b[39;49m\u001b[39m\\\u001b[39;49m\u001b[39mCLEANED\u001b[39;49m\u001b[39m\\\u001b[39;49m\u001b[39mWOLOF_AUDIO_TRANS\u001b[39;49m\u001b[39m\\\u001b[39;49m\u001b[39malffa\u001b[39;49m\u001b[39m\\\u001b[39;49m\u001b[39malffa_clean_df.csv\u001b[39;49m\u001b[39m\"\u001b[39;49m)\n\u001b[0;32m      2\u001b[0m alffa_git_clean \u001b[39m=\u001b[39m pd\u001b[39m.\u001b[39mread_csv(\u001b[39mr\u001b[39m\u001b[39m\"\u001b[39m\u001b[39mSPEECH_TO_TEXT\u001b[39m\u001b[39m\\\u001b[39m\u001b[39mDATA\u001b[39m\u001b[39m\\\u001b[39m\u001b[39mCLEANED\u001b[39m\u001b[39m\\\u001b[39m\u001b[39mWOLOF_AUDIO_TRANS\u001b[39m\u001b[39m\\\u001b[39m\u001b[39malffa_git\u001b[39m\u001b[39m\\\u001b[39m\u001b[39malffa_git_clean.csv\u001b[39m\u001b[39m\"\u001b[39m)\n\u001b[0;32m      3\u001b[0m google_fleurs_clean \u001b[39m=\u001b[39m pd\u001b[39m.\u001b[39mread_csv(\u001b[39mr\u001b[39m\u001b[39m\"\u001b[39m\u001b[39mSPEECH_TO_TEXT\u001b[39m\u001b[39m\\\u001b[39m\u001b[39mDATA\u001b[39m\u001b[39m\\\u001b[39m\u001b[39mCLEANED\u001b[39m\u001b[39m\\\u001b[39m\u001b[39mWOLOF_AUDIO_TRANS\u001b[39m\u001b[39m\\\u001b[39m\u001b[39mgoogle_fleurs\u001b[39m\u001b[39m\\\u001b[39m\u001b[39mgoogle_fleurs_clean.csv\u001b[39m\u001b[39m\"\u001b[39m)\n",
      "File \u001b[1;32m~\\AppData\\Local\\Packages\\PythonSoftwareFoundation.Python.3.8_qbz5n2kfra8p0\\LocalCache\\local-packages\\Python38\\site-packages\\pandas\\util\\_decorators.py:311\u001b[0m, in \u001b[0;36mdeprecate_nonkeyword_arguments.<locals>.decorate.<locals>.wrapper\u001b[1;34m(*args, **kwargs)\u001b[0m\n\u001b[0;32m    305\u001b[0m \u001b[39mif\u001b[39;00m \u001b[39mlen\u001b[39m(args) \u001b[39m>\u001b[39m num_allow_args:\n\u001b[0;32m    306\u001b[0m     warnings\u001b[39m.\u001b[39mwarn(\n\u001b[0;32m    307\u001b[0m         msg\u001b[39m.\u001b[39mformat(arguments\u001b[39m=\u001b[39marguments),\n\u001b[0;32m    308\u001b[0m         \u001b[39mFutureWarning\u001b[39;00m,\n\u001b[0;32m    309\u001b[0m         stacklevel\u001b[39m=\u001b[39mstacklevel,\n\u001b[0;32m    310\u001b[0m     )\n\u001b[1;32m--> 311\u001b[0m \u001b[39mreturn\u001b[39;00m func(\u001b[39m*\u001b[39;49margs, \u001b[39m*\u001b[39;49m\u001b[39m*\u001b[39;49mkwargs)\n",
      "File \u001b[1;32m~\\AppData\\Local\\Packages\\PythonSoftwareFoundation.Python.3.8_qbz5n2kfra8p0\\LocalCache\\local-packages\\Python38\\site-packages\\pandas\\io\\parsers\\readers.py:680\u001b[0m, in \u001b[0;36mread_csv\u001b[1;34m(filepath_or_buffer, sep, delimiter, header, names, index_col, usecols, squeeze, prefix, mangle_dupe_cols, dtype, engine, converters, true_values, false_values, skipinitialspace, skiprows, skipfooter, nrows, na_values, keep_default_na, na_filter, verbose, skip_blank_lines, parse_dates, infer_datetime_format, keep_date_col, date_parser, dayfirst, cache_dates, iterator, chunksize, compression, thousands, decimal, lineterminator, quotechar, quoting, doublequote, escapechar, comment, encoding, encoding_errors, dialect, error_bad_lines, warn_bad_lines, on_bad_lines, delim_whitespace, low_memory, memory_map, float_precision, storage_options)\u001b[0m\n\u001b[0;32m    665\u001b[0m kwds_defaults \u001b[39m=\u001b[39m _refine_defaults_read(\n\u001b[0;32m    666\u001b[0m     dialect,\n\u001b[0;32m    667\u001b[0m     delimiter,\n\u001b[1;32m   (...)\u001b[0m\n\u001b[0;32m    676\u001b[0m     defaults\u001b[39m=\u001b[39m{\u001b[39m\"\u001b[39m\u001b[39mdelimiter\u001b[39m\u001b[39m\"\u001b[39m: \u001b[39m\"\u001b[39m\u001b[39m,\u001b[39m\u001b[39m\"\u001b[39m},\n\u001b[0;32m    677\u001b[0m )\n\u001b[0;32m    678\u001b[0m kwds\u001b[39m.\u001b[39mupdate(kwds_defaults)\n\u001b[1;32m--> 680\u001b[0m \u001b[39mreturn\u001b[39;00m _read(filepath_or_buffer, kwds)\n",
      "File \u001b[1;32m~\\AppData\\Local\\Packages\\PythonSoftwareFoundation.Python.3.8_qbz5n2kfra8p0\\LocalCache\\local-packages\\Python38\\site-packages\\pandas\\io\\parsers\\readers.py:575\u001b[0m, in \u001b[0;36m_read\u001b[1;34m(filepath_or_buffer, kwds)\u001b[0m\n\u001b[0;32m    572\u001b[0m _validate_names(kwds\u001b[39m.\u001b[39mget(\u001b[39m\"\u001b[39m\u001b[39mnames\u001b[39m\u001b[39m\"\u001b[39m, \u001b[39mNone\u001b[39;00m))\n\u001b[0;32m    574\u001b[0m \u001b[39m# Create the parser.\u001b[39;00m\n\u001b[1;32m--> 575\u001b[0m parser \u001b[39m=\u001b[39m TextFileReader(filepath_or_buffer, \u001b[39m*\u001b[39;49m\u001b[39m*\u001b[39;49mkwds)\n\u001b[0;32m    577\u001b[0m \u001b[39mif\u001b[39;00m chunksize \u001b[39mor\u001b[39;00m iterator:\n\u001b[0;32m    578\u001b[0m     \u001b[39mreturn\u001b[39;00m parser\n",
      "File \u001b[1;32m~\\AppData\\Local\\Packages\\PythonSoftwareFoundation.Python.3.8_qbz5n2kfra8p0\\LocalCache\\local-packages\\Python38\\site-packages\\pandas\\io\\parsers\\readers.py:933\u001b[0m, in \u001b[0;36mTextFileReader.__init__\u001b[1;34m(self, f, engine, **kwds)\u001b[0m\n\u001b[0;32m    930\u001b[0m     \u001b[39mself\u001b[39m\u001b[39m.\u001b[39moptions[\u001b[39m\"\u001b[39m\u001b[39mhas_index_names\u001b[39m\u001b[39m\"\u001b[39m] \u001b[39m=\u001b[39m kwds[\u001b[39m\"\u001b[39m\u001b[39mhas_index_names\u001b[39m\u001b[39m\"\u001b[39m]\n\u001b[0;32m    932\u001b[0m \u001b[39mself\u001b[39m\u001b[39m.\u001b[39mhandles: IOHandles \u001b[39m|\u001b[39m \u001b[39mNone\u001b[39;00m \u001b[39m=\u001b[39m \u001b[39mNone\u001b[39;00m\n\u001b[1;32m--> 933\u001b[0m \u001b[39mself\u001b[39m\u001b[39m.\u001b[39m_engine \u001b[39m=\u001b[39m \u001b[39mself\u001b[39;49m\u001b[39m.\u001b[39;49m_make_engine(f, \u001b[39mself\u001b[39;49m\u001b[39m.\u001b[39;49mengine)\n",
      "File \u001b[1;32m~\\AppData\\Local\\Packages\\PythonSoftwareFoundation.Python.3.8_qbz5n2kfra8p0\\LocalCache\\local-packages\\Python38\\site-packages\\pandas\\io\\parsers\\readers.py:1217\u001b[0m, in \u001b[0;36mTextFileReader._make_engine\u001b[1;34m(self, f, engine)\u001b[0m\n\u001b[0;32m   1213\u001b[0m     mode \u001b[39m=\u001b[39m \u001b[39m\"\u001b[39m\u001b[39mrb\u001b[39m\u001b[39m\"\u001b[39m\n\u001b[0;32m   1214\u001b[0m \u001b[39m# error: No overload variant of \"get_handle\" matches argument types\u001b[39;00m\n\u001b[0;32m   1215\u001b[0m \u001b[39m# \"Union[str, PathLike[str], ReadCsvBuffer[bytes], ReadCsvBuffer[str]]\"\u001b[39;00m\n\u001b[0;32m   1216\u001b[0m \u001b[39m# , \"str\", \"bool\", \"Any\", \"Any\", \"Any\", \"Any\", \"Any\"\u001b[39;00m\n\u001b[1;32m-> 1217\u001b[0m \u001b[39mself\u001b[39m\u001b[39m.\u001b[39mhandles \u001b[39m=\u001b[39m get_handle(  \u001b[39m# type: ignore[call-overload]\u001b[39;49;00m\n\u001b[0;32m   1218\u001b[0m     f,\n\u001b[0;32m   1219\u001b[0m     mode,\n\u001b[0;32m   1220\u001b[0m     encoding\u001b[39m=\u001b[39;49m\u001b[39mself\u001b[39;49m\u001b[39m.\u001b[39;49moptions\u001b[39m.\u001b[39;49mget(\u001b[39m\"\u001b[39;49m\u001b[39mencoding\u001b[39;49m\u001b[39m\"\u001b[39;49m, \u001b[39mNone\u001b[39;49;00m),\n\u001b[0;32m   1221\u001b[0m     compression\u001b[39m=\u001b[39;49m\u001b[39mself\u001b[39;49m\u001b[39m.\u001b[39;49moptions\u001b[39m.\u001b[39;49mget(\u001b[39m\"\u001b[39;49m\u001b[39mcompression\u001b[39;49m\u001b[39m\"\u001b[39;49m, \u001b[39mNone\u001b[39;49;00m),\n\u001b[0;32m   1222\u001b[0m     memory_map\u001b[39m=\u001b[39;49m\u001b[39mself\u001b[39;49m\u001b[39m.\u001b[39;49moptions\u001b[39m.\u001b[39;49mget(\u001b[39m\"\u001b[39;49m\u001b[39mmemory_map\u001b[39;49m\u001b[39m\"\u001b[39;49m, \u001b[39mFalse\u001b[39;49;00m),\n\u001b[0;32m   1223\u001b[0m     is_text\u001b[39m=\u001b[39;49mis_text,\n\u001b[0;32m   1224\u001b[0m     errors\u001b[39m=\u001b[39;49m\u001b[39mself\u001b[39;49m\u001b[39m.\u001b[39;49moptions\u001b[39m.\u001b[39;49mget(\u001b[39m\"\u001b[39;49m\u001b[39mencoding_errors\u001b[39;49m\u001b[39m\"\u001b[39;49m, \u001b[39m\"\u001b[39;49m\u001b[39mstrict\u001b[39;49m\u001b[39m\"\u001b[39;49m),\n\u001b[0;32m   1225\u001b[0m     storage_options\u001b[39m=\u001b[39;49m\u001b[39mself\u001b[39;49m\u001b[39m.\u001b[39;49moptions\u001b[39m.\u001b[39;49mget(\u001b[39m\"\u001b[39;49m\u001b[39mstorage_options\u001b[39;49m\u001b[39m\"\u001b[39;49m, \u001b[39mNone\u001b[39;49;00m),\n\u001b[0;32m   1226\u001b[0m )\n\u001b[0;32m   1227\u001b[0m \u001b[39massert\u001b[39;00m \u001b[39mself\u001b[39m\u001b[39m.\u001b[39mhandles \u001b[39mis\u001b[39;00m \u001b[39mnot\u001b[39;00m \u001b[39mNone\u001b[39;00m\n\u001b[0;32m   1228\u001b[0m f \u001b[39m=\u001b[39m \u001b[39mself\u001b[39m\u001b[39m.\u001b[39mhandles\u001b[39m.\u001b[39mhandle\n",
      "File \u001b[1;32m~\\AppData\\Local\\Packages\\PythonSoftwareFoundation.Python.3.8_qbz5n2kfra8p0\\LocalCache\\local-packages\\Python38\\site-packages\\pandas\\io\\common.py:789\u001b[0m, in \u001b[0;36mget_handle\u001b[1;34m(path_or_buf, mode, encoding, compression, memory_map, is_text, errors, storage_options)\u001b[0m\n\u001b[0;32m    784\u001b[0m \u001b[39melif\u001b[39;00m \u001b[39misinstance\u001b[39m(handle, \u001b[39mstr\u001b[39m):\n\u001b[0;32m    785\u001b[0m     \u001b[39m# Check whether the filename is to be opened in binary mode.\u001b[39;00m\n\u001b[0;32m    786\u001b[0m     \u001b[39m# Binary mode does not support 'encoding' and 'newline'.\u001b[39;00m\n\u001b[0;32m    787\u001b[0m     \u001b[39mif\u001b[39;00m ioargs\u001b[39m.\u001b[39mencoding \u001b[39mand\u001b[39;00m \u001b[39m\"\u001b[39m\u001b[39mb\u001b[39m\u001b[39m\"\u001b[39m \u001b[39mnot\u001b[39;00m \u001b[39min\u001b[39;00m ioargs\u001b[39m.\u001b[39mmode:\n\u001b[0;32m    788\u001b[0m         \u001b[39m# Encoding\u001b[39;00m\n\u001b[1;32m--> 789\u001b[0m         handle \u001b[39m=\u001b[39m \u001b[39mopen\u001b[39;49m(\n\u001b[0;32m    790\u001b[0m             handle,\n\u001b[0;32m    791\u001b[0m             ioargs\u001b[39m.\u001b[39;49mmode,\n\u001b[0;32m    792\u001b[0m             encoding\u001b[39m=\u001b[39;49mioargs\u001b[39m.\u001b[39;49mencoding,\n\u001b[0;32m    793\u001b[0m             errors\u001b[39m=\u001b[39;49merrors,\n\u001b[0;32m    794\u001b[0m             newline\u001b[39m=\u001b[39;49m\u001b[39m\"\u001b[39;49m\u001b[39m\"\u001b[39;49m,\n\u001b[0;32m    795\u001b[0m         )\n\u001b[0;32m    796\u001b[0m     \u001b[39melse\u001b[39;00m:\n\u001b[0;32m    797\u001b[0m         \u001b[39m# Binary mode\u001b[39;00m\n\u001b[0;32m    798\u001b[0m         handle \u001b[39m=\u001b[39m \u001b[39mopen\u001b[39m(handle, ioargs\u001b[39m.\u001b[39mmode)\n",
      "\u001b[1;31mFileNotFoundError\u001b[0m: [Errno 2] No such file or directory: 'SPEECH_TO_TEXT\\\\DATA\\\\CLEANED\\\\WOLOF_AUDIO_TRANS\\\\alffa\\\\alffa_clean_df.csv'"
     ]
    }
   ],
   "source": [
    "alffa_clean = pd.read_csv(r\"SPEECH_TO_TEXT\\DATA\\CLEANED\\WOLOF_AUDIO_TRANS\\alffa\\alffa_clean_df.csv\")\n",
    "alffa_git_clean = pd.read_csv(r\"SPEECH_TO_TEXT\\DATA\\CLEANED\\WOLOF_AUDIO_TRANS\\alffa_git\\alffa_git_clean.csv\")\n",
    "google_fleurs_clean = pd.read_csv(r\"SPEECH_TO_TEXT\\DATA\\CLEANED\\WOLOF_AUDIO_TRANS\\google_fleurs\\google_fleurs_clean.csv\")\n",
    "waxal_clean = pd.read_csv(r\"SPEECH_TO_TEXT\\DATA\\CLEANED\\WOLOF_AUDIO_TRANS\\waxal\\waxal__clean_df.csv\")\n",
    "waxal_git_clean = pd.read_csv(r\"SPEECH_TO_TEXT\\DATA\\CLEANED\\WOLOF_AUDIO_TRANS\\waxal_git\\waxal_git_clean.csv\")\n",
    "zenodo_clean = pd.read_csv(r\"SPEECH_TO_TEXT\\DATA\\CLEANED\\WOLOF_AUDIO_TRANS\\zenodo\\zenodo_cleaned.csv\")"
   ]
  },
  {
   "cell_type": "code",
   "execution_count": null,
   "metadata": {},
   "outputs": [
    {
     "name": "stdout",
     "output_type": "stream",
     "text": [
      "Amount of data for Alffa : 64965.85499999998\n",
      "Amount of data for Alffa_git : 68285.60262499994\n",
      "Amount of data for google_fleurs : 40456.97999999993\n",
      "Amount of data for Waxal : 71634.85999999978\n",
      "Amount of data for waxal_git : 25643.60250000002\n",
      "Amount of data for zenodo : 163136.7146122475\n",
      "\n",
      "------------------------------------------------------\n",
      "\n",
      "Total:   434123.6147372472\n"
     ]
    }
   ],
   "source": [
    "print(\"Amount of data for Alffa :\", sum(alffa_clean['length']))\n",
    "print(\"Amount of data for Alffa_git :\", sum(alffa_git_clean['length']))\n",
    "print(\"Amount of data for google_fleurs :\", sum(google_fleurs_clean['length']))\n",
    "print(\"Amount of data for Waxal :\", sum(waxal_clean['length']))\n",
    "print(\"Amount of data for waxal_git :\", sum(waxal_git_clean['length']))\n",
    "print(\"Amount of data for zenodo :\", sum(zenodo_clean['length']))\n",
    "print('\\n------------------------------------------------------\\n')\n",
    "print('Total:  ', sum([sum(zenodo_clean['length']), sum(waxal_git_clean['length']), sum(waxal_clean['length']), sum(google_fleurs_clean['length']), sum(alffa_git_clean['length']), sum(alffa_clean['length'])]))"
   ]
  },
  {
   "attachments": {},
   "cell_type": "markdown",
   "metadata": {
    "id": "XIJRdDZOLx6W"
   },
   "source": [
    "# Final cleaned data"
   ]
  },
  {
   "attachments": {},
   "cell_type": "markdown",
   "metadata": {},
   "source": [
    "## Alffa"
   ]
  },
  {
   "cell_type": "code",
   "execution_count": null,
   "metadata": {},
   "outputs": [
    {
     "data": {
      "text/html": [
       "<div>\n",
       "<style scoped>\n",
       "    .dataframe tbody tr th:only-of-type {\n",
       "        vertical-align: middle;\n",
       "    }\n",
       "\n",
       "    .dataframe tbody tr th {\n",
       "        vertical-align: top;\n",
       "    }\n",
       "\n",
       "    .dataframe thead th {\n",
       "        text-align: right;\n",
       "    }\n",
       "</style>\n",
       "<table border=\"1\" class=\"dataframe\">\n",
       "  <thead>\n",
       "    <tr style=\"text-align: right;\">\n",
       "      <th></th>\n",
       "      <th>Unnamed: 0</th>\n",
       "      <th>id</th>\n",
       "      <th>transcription</th>\n",
       "      <th>length</th>\n",
       "      <th>filename</th>\n",
       "    </tr>\n",
       "  </thead>\n",
       "  <tbody>\n",
       "    <tr>\n",
       "      <th>0</th>\n",
       "      <td>0</td>\n",
       "      <td>1</td>\n",
       "      <td>jén fa nga ko jàppe soo ko fa sange mu rëcc</td>\n",
       "      <td>5.968</td>\n",
       "      <td>isma_1_WOL.wav</td>\n",
       "    </tr>\n",
       "    <tr>\n",
       "      <th>1</th>\n",
       "      <td>1</td>\n",
       "      <td>2</td>\n",
       "      <td>ngorsi kat masu maa jaar buroom di tataani</td>\n",
       "      <td>3.946</td>\n",
       "      <td>isma_2_WOL.wav</td>\n",
       "    </tr>\n",
       "    <tr>\n",
       "      <th>2</th>\n",
       "      <td>2</td>\n",
       "      <td>3</td>\n",
       "      <td>dañu ko logal moo tax déggatuloo ko</td>\n",
       "      <td>5.608</td>\n",
       "      <td>isma_3_WOL.wav</td>\n",
       "    </tr>\n",
       "  </tbody>\n",
       "</table>\n",
       "</div>"
      ],
      "text/plain": [
       "   Unnamed: 0  id                                 transcription  length  \\\n",
       "0           0   1   jén fa nga ko jàppe soo ko fa sange mu rëcc   5.968   \n",
       "1           1   2    ngorsi kat masu maa jaar buroom di tataani   3.946   \n",
       "2           2   3           dañu ko logal moo tax déggatuloo ko   5.608   \n",
       "\n",
       "         filename  \n",
       "0  isma_1_WOL.wav  \n",
       "1  isma_2_WOL.wav  \n",
       "2  isma_3_WOL.wav  "
      ]
     },
     "execution_count": 9,
     "metadata": {},
     "output_type": "execute_result"
    }
   ],
   "source": [
    "alffa_clean.head(3)"
   ]
  },
  {
   "cell_type": "code",
   "execution_count": null,
   "metadata": {},
   "outputs": [
    {
     "data": {
      "text/html": [
       "<div>\n",
       "<style scoped>\n",
       "    .dataframe tbody tr th:only-of-type {\n",
       "        vertical-align: middle;\n",
       "    }\n",
       "\n",
       "    .dataframe tbody tr th {\n",
       "        vertical-align: top;\n",
       "    }\n",
       "\n",
       "    .dataframe thead th {\n",
       "        text-align: right;\n",
       "    }\n",
       "</style>\n",
       "<table border=\"1\" class=\"dataframe\">\n",
       "  <thead>\n",
       "    <tr style=\"text-align: right;\">\n",
       "      <th></th>\n",
       "      <th>0</th>\n",
       "    </tr>\n",
       "  </thead>\n",
       "  <tbody>\n",
       "    <tr>\n",
       "      <th>Unnamed: 0</th>\n",
       "      <td>0</td>\n",
       "    </tr>\n",
       "    <tr>\n",
       "      <th>id</th>\n",
       "      <td>1</td>\n",
       "    </tr>\n",
       "    <tr>\n",
       "      <th>transcription</th>\n",
       "      <td>jén fa nga ko jàppe soo ko fa sange mu rëcc</td>\n",
       "    </tr>\n",
       "    <tr>\n",
       "      <th>length</th>\n",
       "      <td>5.968</td>\n",
       "    </tr>\n",
       "    <tr>\n",
       "      <th>filename</th>\n",
       "      <td>isma_1_WOL.wav</td>\n",
       "    </tr>\n",
       "    <tr>\n",
       "      <th>path</th>\n",
       "      <td>DATA\\CLEANED\\WOLOF_AUDIO_TRANS\\alffa\\audio\\ism...</td>\n",
       "    </tr>\n",
       "  </tbody>\n",
       "</table>\n",
       "</div>"
      ],
      "text/plain": [
       "                                                               0\n",
       "Unnamed: 0                                                     0\n",
       "id                                                             1\n",
       "transcription        jén fa nga ko jàppe soo ko fa sange mu rëcc\n",
       "length                                                     5.968\n",
       "filename                                          isma_1_WOL.wav\n",
       "path           DATA\\CLEANED\\WOLOF_AUDIO_TRANS\\alffa\\audio\\ism..."
      ]
     },
     "execution_count": 10,
     "metadata": {},
     "output_type": "execute_result"
    }
   ],
   "source": [
    "alffa_clean['path'] = alffa_clean['filename'].apply(lambda row: rename_path_to_path_complet(row, r\"DATA\\CLEANED\\WOLOF_AUDIO_TRANS\\alffa\\audio\", ext=''))\n",
    "alffa_clean.head(1).T"
   ]
  },
  {
   "cell_type": "code",
   "execution_count": null,
   "metadata": {},
   "outputs": [
    {
     "data": {
      "text/html": [
       "<div>\n",
       "<style scoped>\n",
       "    .dataframe tbody tr th:only-of-type {\n",
       "        vertical-align: middle;\n",
       "    }\n",
       "\n",
       "    .dataframe tbody tr th {\n",
       "        vertical-align: top;\n",
       "    }\n",
       "\n",
       "    .dataframe thead th {\n",
       "        text-align: right;\n",
       "    }\n",
       "</style>\n",
       "<table border=\"1\" class=\"dataframe\">\n",
       "  <thead>\n",
       "    <tr style=\"text-align: right;\">\n",
       "      <th></th>\n",
       "      <th>id</th>\n",
       "      <th>transcription</th>\n",
       "      <th>length</th>\n",
       "      <th>filename</th>\n",
       "      <th>path</th>\n",
       "    </tr>\n",
       "  </thead>\n",
       "  <tbody>\n",
       "    <tr>\n",
       "      <th>0</th>\n",
       "      <td>1</td>\n",
       "      <td>jén fa nga ko jàppe soo ko fa sange mu rëcc</td>\n",
       "      <td>5.968</td>\n",
       "      <td>isma_1_WOL.wav</td>\n",
       "      <td>DATA\\CLEANED\\WOLOF_AUDIO_TRANS\\alffa\\audio\\ism...</td>\n",
       "    </tr>\n",
       "    <tr>\n",
       "      <th>1</th>\n",
       "      <td>2</td>\n",
       "      <td>ngorsi kat masu maa jaar buroom di tataani</td>\n",
       "      <td>3.946</td>\n",
       "      <td>isma_2_WOL.wav</td>\n",
       "      <td>DATA\\CLEANED\\WOLOF_AUDIO_TRANS\\alffa\\audio\\ism...</td>\n",
       "    </tr>\n",
       "    <tr>\n",
       "      <th>2</th>\n",
       "      <td>3</td>\n",
       "      <td>dañu ko logal moo tax déggatuloo ko</td>\n",
       "      <td>5.608</td>\n",
       "      <td>isma_3_WOL.wav</td>\n",
       "      <td>DATA\\CLEANED\\WOLOF_AUDIO_TRANS\\alffa\\audio\\ism...</td>\n",
       "    </tr>\n",
       "  </tbody>\n",
       "</table>\n",
       "</div>"
      ],
      "text/plain": [
       "   id                                 transcription  length        filename  \\\n",
       "0   1   jén fa nga ko jàppe soo ko fa sange mu rëcc   5.968  isma_1_WOL.wav   \n",
       "1   2    ngorsi kat masu maa jaar buroom di tataani   3.946  isma_2_WOL.wav   \n",
       "2   3           dañu ko logal moo tax déggatuloo ko   5.608  isma_3_WOL.wav   \n",
       "\n",
       "                                                path  \n",
       "0  DATA\\CLEANED\\WOLOF_AUDIO_TRANS\\alffa\\audio\\ism...  \n",
       "1  DATA\\CLEANED\\WOLOF_AUDIO_TRANS\\alffa\\audio\\ism...  \n",
       "2  DATA\\CLEANED\\WOLOF_AUDIO_TRANS\\alffa\\audio\\ism...  "
      ]
     },
     "execution_count": 11,
     "metadata": {},
     "output_type": "execute_result"
    }
   ],
   "source": [
    "# alffa_clean['audio'] = alffa_clean['path'].apply(lambda row : resample_audio(row, \"SPEECH_TO_TEXT\\\\\"))\n",
    "alffa_clean = alffa_clean.drop(columns= ['Unnamed: 0'])\n",
    "alffa_clean.head(3)"
   ]
  },
  {
   "cell_type": "code",
   "execution_count": null,
   "metadata": {},
   "outputs": [],
   "source": [
    "alffa_clean.to_csv(r\"SPEECH_TO_TEXT\\DATA\\CLEANED\\WOLOF_AUDIO_TRANS\\zz_total_cleaned\\alffa_cleaned_tot.csv\")"
   ]
  },
  {
   "cell_type": "code",
   "execution_count": null,
   "metadata": {},
   "outputs": [],
   "source": [
    "# import IPython.display as ipd\n",
    "# import random\n",
    "\n",
    "# rand_int = random.randint(0, len(alffa_clean)-1)\n",
    "\n",
    "# ipd.Audio(data = alffa_clean[\"audio\"].iloc[rand_int], autoplay = True, rate = 16000)"
   ]
  },
  {
   "cell_type": "code",
   "execution_count": null,
   "metadata": {},
   "outputs": [],
   "source": [
    "# print(alffa_clean[\"transcription\"].iloc[rand_int])"
   ]
  },
  {
   "attachments": {},
   "cell_type": "markdown",
   "metadata": {},
   "source": [
    "## Alffa from github"
   ]
  },
  {
   "cell_type": "code",
   "execution_count": null,
   "metadata": {},
   "outputs": [
    {
     "data": {
      "text/html": [
       "<div>\n",
       "<style scoped>\n",
       "    .dataframe tbody tr th:only-of-type {\n",
       "        vertical-align: middle;\n",
       "    }\n",
       "\n",
       "    .dataframe tbody tr th {\n",
       "        vertical-align: top;\n",
       "    }\n",
       "\n",
       "    .dataframe thead th {\n",
       "        text-align: right;\n",
       "    }\n",
       "</style>\n",
       "<table border=\"1\" class=\"dataframe\">\n",
       "  <thead>\n",
       "    <tr style=\"text-align: right;\">\n",
       "      <th></th>\n",
       "      <th>Unnamed: 0</th>\n",
       "      <th>filename</th>\n",
       "      <th>transcription</th>\n",
       "      <th>length</th>\n",
       "    </tr>\n",
       "  </thead>\n",
       "  <tbody>\n",
       "    <tr>\n",
       "      <th>0</th>\n",
       "      <td>0</td>\n",
       "      <td>WOL_05_lect_0005</td>\n",
       "      <td>tari boo xam ne dañu lay gàgganti rekk mokkul</td>\n",
       "      <td>5.679</td>\n",
       "    </tr>\n",
       "    <tr>\n",
       "      <th>1</th>\n",
       "      <td>1</td>\n",
       "      <td>WOL_05_lect_0009</td>\n",
       "      <td>dafa am jamano yoo xam ni xasaw dafay ànd ak x...</td>\n",
       "      <td>7.095</td>\n",
       "    </tr>\n",
       "    <tr>\n",
       "      <th>2</th>\n",
       "      <td>2</td>\n",
       "      <td>WOL_05_lect_0016</td>\n",
       "      <td>bu ngeen bëggee laale demleen ca àll ba</td>\n",
       "      <td>4.736</td>\n",
       "    </tr>\n",
       "  </tbody>\n",
       "</table>\n",
       "</div>"
      ],
      "text/plain": [
       "   Unnamed: 0          filename  \\\n",
       "0           0  WOL_05_lect_0005   \n",
       "1           1  WOL_05_lect_0009   \n",
       "2           2  WOL_05_lect_0016   \n",
       "\n",
       "                                       transcription  length  \n",
       "0      tari boo xam ne dañu lay gàgganti rekk mokkul   5.679  \n",
       "1  dafa am jamano yoo xam ni xasaw dafay ànd ak x...   7.095  \n",
       "2            bu ngeen bëggee laale demleen ca àll ba   4.736  "
      ]
     },
     "execution_count": 15,
     "metadata": {},
     "output_type": "execute_result"
    }
   ],
   "source": [
    "alffa_git_clean.head(3)"
   ]
  },
  {
   "cell_type": "code",
   "execution_count": null,
   "metadata": {},
   "outputs": [
    {
     "data": {
      "text/html": [
       "<div>\n",
       "<style scoped>\n",
       "    .dataframe tbody tr th:only-of-type {\n",
       "        vertical-align: middle;\n",
       "    }\n",
       "\n",
       "    .dataframe tbody tr th {\n",
       "        vertical-align: top;\n",
       "    }\n",
       "\n",
       "    .dataframe thead th {\n",
       "        text-align: right;\n",
       "    }\n",
       "</style>\n",
       "<table border=\"1\" class=\"dataframe\">\n",
       "  <thead>\n",
       "    <tr style=\"text-align: right;\">\n",
       "      <th></th>\n",
       "      <th>0</th>\n",
       "    </tr>\n",
       "  </thead>\n",
       "  <tbody>\n",
       "    <tr>\n",
       "      <th>filename</th>\n",
       "      <td>WOL_05_lect_0005</td>\n",
       "    </tr>\n",
       "    <tr>\n",
       "      <th>transcription</th>\n",
       "      <td>tari boo xam ne dañu lay gàgganti rekk mokkul</td>\n",
       "    </tr>\n",
       "    <tr>\n",
       "      <th>length</th>\n",
       "      <td>5.679</td>\n",
       "    </tr>\n",
       "    <tr>\n",
       "      <th>path</th>\n",
       "      <td>DATA\\CLEANED\\WOLOF_AUDIO_TRANS\\alffa_git\\audio...</td>\n",
       "    </tr>\n",
       "  </tbody>\n",
       "</table>\n",
       "</div>"
      ],
      "text/plain": [
       "                                                               0\n",
       "filename                                        WOL_05_lect_0005\n",
       "transcription      tari boo xam ne dañu lay gàgganti rekk mokkul\n",
       "length                                                     5.679\n",
       "path           DATA\\CLEANED\\WOLOF_AUDIO_TRANS\\alffa_git\\audio..."
      ]
     },
     "execution_count": 16,
     "metadata": {},
     "output_type": "execute_result"
    }
   ],
   "source": [
    "alffa_git_clean['path'] = alffa_git_clean['filename'].apply(lambda row: rename_path_to_path_complet(row, r\"DATA\\CLEANED\\WOLOF_AUDIO_TRANS\\alffa_git\\audio\", ext='.wav'))\n",
    "alffa_git_clean = alffa_git_clean.drop(columns= ['Unnamed: 0'])\n",
    "alffa_git_clean.head(1).T"
   ]
  },
  {
   "cell_type": "code",
   "execution_count": null,
   "metadata": {},
   "outputs": [
    {
     "data": {
      "text/html": [
       "<div>\n",
       "<style scoped>\n",
       "    .dataframe tbody tr th:only-of-type {\n",
       "        vertical-align: middle;\n",
       "    }\n",
       "\n",
       "    .dataframe tbody tr th {\n",
       "        vertical-align: top;\n",
       "    }\n",
       "\n",
       "    .dataframe thead th {\n",
       "        text-align: right;\n",
       "    }\n",
       "</style>\n",
       "<table border=\"1\" class=\"dataframe\">\n",
       "  <thead>\n",
       "    <tr style=\"text-align: right;\">\n",
       "      <th></th>\n",
       "      <th>0</th>\n",
       "      <th>1</th>\n",
       "      <th>2</th>\n",
       "    </tr>\n",
       "  </thead>\n",
       "  <tbody>\n",
       "    <tr>\n",
       "      <th>filename</th>\n",
       "      <td>WOL_05_lect_0005</td>\n",
       "      <td>WOL_05_lect_0009</td>\n",
       "      <td>WOL_05_lect_0016</td>\n",
       "    </tr>\n",
       "    <tr>\n",
       "      <th>transcription</th>\n",
       "      <td>tari boo xam ne dañu lay gàgganti rekk mokkul</td>\n",
       "      <td>dafa am jamano yoo xam ni xasaw dafay ànd ak x...</td>\n",
       "      <td>bu ngeen bëggee laale demleen ca àll ba</td>\n",
       "    </tr>\n",
       "    <tr>\n",
       "      <th>length</th>\n",
       "      <td>5.679</td>\n",
       "      <td>7.095</td>\n",
       "      <td>4.736</td>\n",
       "    </tr>\n",
       "    <tr>\n",
       "      <th>path</th>\n",
       "      <td>DATA\\CLEANED\\WOLOF_AUDIO_TRANS\\alffa_git\\audio...</td>\n",
       "      <td>DATA\\CLEANED\\WOLOF_AUDIO_TRANS\\alffa_git\\audio...</td>\n",
       "      <td>DATA\\CLEANED\\WOLOF_AUDIO_TRANS\\alffa_git\\audio...</td>\n",
       "    </tr>\n",
       "  </tbody>\n",
       "</table>\n",
       "</div>"
      ],
      "text/plain": [
       "                                                               0  \\\n",
       "filename                                        WOL_05_lect_0005   \n",
       "transcription      tari boo xam ne dañu lay gàgganti rekk mokkul   \n",
       "length                                                     5.679   \n",
       "path           DATA\\CLEANED\\WOLOF_AUDIO_TRANS\\alffa_git\\audio...   \n",
       "\n",
       "                                                               1  \\\n",
       "filename                                        WOL_05_lect_0009   \n",
       "transcription  dafa am jamano yoo xam ni xasaw dafay ànd ak x...   \n",
       "length                                                     7.095   \n",
       "path           DATA\\CLEANED\\WOLOF_AUDIO_TRANS\\alffa_git\\audio...   \n",
       "\n",
       "                                                               2  \n",
       "filename                                        WOL_05_lect_0016  \n",
       "transcription            bu ngeen bëggee laale demleen ca àll ba  \n",
       "length                                                     4.736  \n",
       "path           DATA\\CLEANED\\WOLOF_AUDIO_TRANS\\alffa_git\\audio...  "
      ]
     },
     "execution_count": 17,
     "metadata": {},
     "output_type": "execute_result"
    }
   ],
   "source": [
    "# alffa_git_clean['audio'] = alffa_git_clean['path'].apply(lambda row : resample_audio(row, \"SPEECH_TO_TEXT\\\\\"))\n",
    "alffa_git_clean.head(3).T"
   ]
  },
  {
   "cell_type": "code",
   "execution_count": null,
   "metadata": {},
   "outputs": [],
   "source": [
    "alffa_git_clean.to_csv(r\"SPEECH_TO_TEXT\\DATA\\CLEANED\\WOLOF_AUDIO_TRANS\\zz_total_cleaned\\alffa_git_clean_tot.csv\")"
   ]
  },
  {
   "cell_type": "code",
   "execution_count": null,
   "metadata": {},
   "outputs": [],
   "source": [
    "# import IPython.display as ipd\n",
    "# import random\n",
    "\n",
    "# rand_int = random.randint(0, len(alffa_git_clean)-1)\n",
    "\n",
    "# ipd.Audio(data = alffa_git_clean[\"audio\"].iloc[rand_int], autoplay = True, rate = 16000)"
   ]
  },
  {
   "cell_type": "code",
   "execution_count": null,
   "metadata": {},
   "outputs": [],
   "source": [
    "# print(alffa_git_clean[\"transcription\"].iloc[rand_int])"
   ]
  },
  {
   "attachments": {},
   "cell_type": "markdown",
   "metadata": {},
   "source": [
    "## google fleurs"
   ]
  },
  {
   "cell_type": "code",
   "execution_count": null,
   "metadata": {},
   "outputs": [
    {
     "data": {
      "text/html": [
       "<div>\n",
       "<style scoped>\n",
       "    .dataframe tbody tr th:only-of-type {\n",
       "        vertical-align: middle;\n",
       "    }\n",
       "\n",
       "    .dataframe tbody tr th {\n",
       "        vertical-align: top;\n",
       "    }\n",
       "\n",
       "    .dataframe thead th {\n",
       "        text-align: right;\n",
       "    }\n",
       "</style>\n",
       "<table border=\"1\" class=\"dataframe\">\n",
       "  <thead>\n",
       "    <tr style=\"text-align: right;\">\n",
       "      <th></th>\n",
       "      <th>Unnamed: 0</th>\n",
       "      <th>id</th>\n",
       "      <th>transcription</th>\n",
       "      <th>length</th>\n",
       "      <th>filename</th>\n",
       "    </tr>\n",
       "  </thead>\n",
       "  <tbody>\n",
       "    <tr>\n",
       "      <th>0</th>\n",
       "      <td>0</td>\n",
       "      <td>1</td>\n",
       "      <td>danoo gis ne jànt bi dafay niroog anam ci doxa...</td>\n",
       "      <td>18.78</td>\n",
       "      <td>google_fleurs_1_WOL.wav</td>\n",
       "    </tr>\n",
       "    <tr>\n",
       "      <th>1</th>\n",
       "      <td>1</td>\n",
       "      <td>2</td>\n",
       "      <td>ci ay mbindam day jëfandikoo ay kàddu yinga xa...</td>\n",
       "      <td>17.28</td>\n",
       "      <td>google_fleurs_2_WOL.wav</td>\n",
       "    </tr>\n",
       "    <tr>\n",
       "      <th>2</th>\n",
       "      <td>2</td>\n",
       "      <td>3</td>\n",
       "      <td>gunóor yi mën nañu yàq ñam yi waral ay yaram y...</td>\n",
       "      <td>10.80</td>\n",
       "      <td>google_fleurs_3_WOL.wav</td>\n",
       "    </tr>\n",
       "  </tbody>\n",
       "</table>\n",
       "</div>"
      ],
      "text/plain": [
       "   Unnamed: 0  id                                      transcription  length  \\\n",
       "0           0   1  danoo gis ne jànt bi dafay niroog anam ci doxa...   18.78   \n",
       "1           1   2  ci ay mbindam day jëfandikoo ay kàddu yinga xa...   17.28   \n",
       "2           2   3  gunóor yi mën nañu yàq ñam yi waral ay yaram y...   10.80   \n",
       "\n",
       "                  filename  \n",
       "0  google_fleurs_1_WOL.wav  \n",
       "1  google_fleurs_2_WOL.wav  \n",
       "2  google_fleurs_3_WOL.wav  "
      ]
     },
     "execution_count": 21,
     "metadata": {},
     "output_type": "execute_result"
    }
   ],
   "source": [
    "google_fleurs_clean.head(3)"
   ]
  },
  {
   "cell_type": "code",
   "execution_count": null,
   "metadata": {},
   "outputs": [
    {
     "data": {
      "text/html": [
       "<div>\n",
       "<style scoped>\n",
       "    .dataframe tbody tr th:only-of-type {\n",
       "        vertical-align: middle;\n",
       "    }\n",
       "\n",
       "    .dataframe tbody tr th {\n",
       "        vertical-align: top;\n",
       "    }\n",
       "\n",
       "    .dataframe thead th {\n",
       "        text-align: right;\n",
       "    }\n",
       "</style>\n",
       "<table border=\"1\" class=\"dataframe\">\n",
       "  <thead>\n",
       "    <tr style=\"text-align: right;\">\n",
       "      <th></th>\n",
       "      <th>0</th>\n",
       "    </tr>\n",
       "  </thead>\n",
       "  <tbody>\n",
       "    <tr>\n",
       "      <th>Unnamed: 0</th>\n",
       "      <td>0</td>\n",
       "    </tr>\n",
       "    <tr>\n",
       "      <th>id</th>\n",
       "      <td>1</td>\n",
       "    </tr>\n",
       "    <tr>\n",
       "      <th>transcription</th>\n",
       "      <td>danoo gis ne jànt bi dafay niroog anam ci doxa...</td>\n",
       "    </tr>\n",
       "    <tr>\n",
       "      <th>length</th>\n",
       "      <td>18.78</td>\n",
       "    </tr>\n",
       "    <tr>\n",
       "      <th>filename</th>\n",
       "      <td>google_fleurs_1_WOL.wav</td>\n",
       "    </tr>\n",
       "    <tr>\n",
       "      <th>path</th>\n",
       "      <td>DATA\\CLEANED\\WOLOF_AUDIO_TRANS\\google_fleurs\\a...</td>\n",
       "    </tr>\n",
       "  </tbody>\n",
       "</table>\n",
       "</div>"
      ],
      "text/plain": [
       "                                                               0\n",
       "Unnamed: 0                                                     0\n",
       "id                                                             1\n",
       "transcription  danoo gis ne jànt bi dafay niroog anam ci doxa...\n",
       "length                                                     18.78\n",
       "filename                                 google_fleurs_1_WOL.wav\n",
       "path           DATA\\CLEANED\\WOLOF_AUDIO_TRANS\\google_fleurs\\a..."
      ]
     },
     "execution_count": 22,
     "metadata": {},
     "output_type": "execute_result"
    }
   ],
   "source": [
    "google_fleurs_clean['path'] = google_fleurs_clean['filename'].apply(lambda row: rename_path_to_path_complet(row, r\"DATA\\CLEANED\\WOLOF_AUDIO_TRANS\\google_fleurs\\audio\", ext=''))\n",
    "google_fleurs_clean.head(1).T"
   ]
  },
  {
   "cell_type": "code",
   "execution_count": null,
   "metadata": {},
   "outputs": [
    {
     "data": {
      "text/html": [
       "<div>\n",
       "<style scoped>\n",
       "    .dataframe tbody tr th:only-of-type {\n",
       "        vertical-align: middle;\n",
       "    }\n",
       "\n",
       "    .dataframe tbody tr th {\n",
       "        vertical-align: top;\n",
       "    }\n",
       "\n",
       "    .dataframe thead th {\n",
       "        text-align: right;\n",
       "    }\n",
       "</style>\n",
       "<table border=\"1\" class=\"dataframe\">\n",
       "  <thead>\n",
       "    <tr style=\"text-align: right;\">\n",
       "      <th></th>\n",
       "      <th>id</th>\n",
       "      <th>transcription</th>\n",
       "      <th>length</th>\n",
       "      <th>filename</th>\n",
       "      <th>path</th>\n",
       "    </tr>\n",
       "  </thead>\n",
       "  <tbody>\n",
       "    <tr>\n",
       "      <th>0</th>\n",
       "      <td>1</td>\n",
       "      <td>danoo gis ne jànt bi dafay niroog anam ci doxa...</td>\n",
       "      <td>18.78</td>\n",
       "      <td>google_fleurs_1_WOL.wav</td>\n",
       "      <td>DATA\\CLEANED\\WOLOF_AUDIO_TRANS\\google_fleurs\\a...</td>\n",
       "    </tr>\n",
       "    <tr>\n",
       "      <th>1</th>\n",
       "      <td>2</td>\n",
       "      <td>ci ay mbindam day jëfandikoo ay kàddu yinga xa...</td>\n",
       "      <td>17.28</td>\n",
       "      <td>google_fleurs_2_WOL.wav</td>\n",
       "      <td>DATA\\CLEANED\\WOLOF_AUDIO_TRANS\\google_fleurs\\a...</td>\n",
       "    </tr>\n",
       "    <tr>\n",
       "      <th>2</th>\n",
       "      <td>3</td>\n",
       "      <td>gunóor yi mën nañu yàq ñam yi waral ay yaram y...</td>\n",
       "      <td>10.80</td>\n",
       "      <td>google_fleurs_3_WOL.wav</td>\n",
       "      <td>DATA\\CLEANED\\WOLOF_AUDIO_TRANS\\google_fleurs\\a...</td>\n",
       "    </tr>\n",
       "  </tbody>\n",
       "</table>\n",
       "</div>"
      ],
      "text/plain": [
       "   id                                      transcription  length  \\\n",
       "0   1  danoo gis ne jànt bi dafay niroog anam ci doxa...   18.78   \n",
       "1   2  ci ay mbindam day jëfandikoo ay kàddu yinga xa...   17.28   \n",
       "2   3  gunóor yi mën nañu yàq ñam yi waral ay yaram y...   10.80   \n",
       "\n",
       "                  filename                                               path  \n",
       "0  google_fleurs_1_WOL.wav  DATA\\CLEANED\\WOLOF_AUDIO_TRANS\\google_fleurs\\a...  \n",
       "1  google_fleurs_2_WOL.wav  DATA\\CLEANED\\WOLOF_AUDIO_TRANS\\google_fleurs\\a...  \n",
       "2  google_fleurs_3_WOL.wav  DATA\\CLEANED\\WOLOF_AUDIO_TRANS\\google_fleurs\\a...  "
      ]
     },
     "execution_count": 23,
     "metadata": {},
     "output_type": "execute_result"
    }
   ],
   "source": [
    "# google_fleurs_clean['audio'] = google_fleurs_clean['path'].apply(lambda row : resample_audio(row, \"SPEECH_TO_TEXT\\\\\"))\n",
    "google_fleurs_clean = google_fleurs_clean.drop(columns= ['Unnamed: 0'])\n",
    "google_fleurs_clean.head(3)"
   ]
  },
  {
   "cell_type": "code",
   "execution_count": null,
   "metadata": {},
   "outputs": [],
   "source": [
    "google_fleurs_clean.to_csv(r\"SPEECH_TO_TEXT\\DATA\\CLEANED\\WOLOF_AUDIO_TRANS\\zz_total_cleaned\\google_fleurs_clean_tot.csv\")"
   ]
  },
  {
   "cell_type": "code",
   "execution_count": null,
   "metadata": {},
   "outputs": [],
   "source": [
    "# import IPython.display as ipd\n",
    "# import random\n",
    "\n",
    "# rand_int = random.randint(0, len(google_fleurs_clean)-1)\n",
    "\n",
    "# ipd.Audio(data = google_fleurs_clean[\"audio\"].iloc[rand_int], autoplay = True, rate = 16000)"
   ]
  },
  {
   "cell_type": "code",
   "execution_count": null,
   "metadata": {},
   "outputs": [],
   "source": [
    "# print(google_fleurs_clean[\"transcription\"].iloc[rand_int])"
   ]
  },
  {
   "attachments": {},
   "cell_type": "markdown",
   "metadata": {},
   "source": [
    "## Waxal"
   ]
  },
  {
   "cell_type": "code",
   "execution_count": null,
   "metadata": {},
   "outputs": [
    {
     "data": {
      "text/html": [
       "<div>\n",
       "<style scoped>\n",
       "    .dataframe tbody tr th:only-of-type {\n",
       "        vertical-align: middle;\n",
       "    }\n",
       "\n",
       "    .dataframe tbody tr th {\n",
       "        vertical-align: top;\n",
       "    }\n",
       "\n",
       "    .dataframe thead th {\n",
       "        text-align: right;\n",
       "    }\n",
       "</style>\n",
       "<table border=\"1\" class=\"dataframe\">\n",
       "  <thead>\n",
       "    <tr style=\"text-align: right;\">\n",
       "      <th></th>\n",
       "      <th>Unnamed: 0</th>\n",
       "      <th>id</th>\n",
       "      <th>transcription</th>\n",
       "      <th>length</th>\n",
       "      <th>filename</th>\n",
       "    </tr>\n",
       "  </thead>\n",
       "  <tbody>\n",
       "    <tr>\n",
       "      <th>0</th>\n",
       "      <td>0</td>\n",
       "      <td>1</td>\n",
       "      <td>Lii de ay nit lañu, ñoo xamante ne dañoo toog,...</td>\n",
       "      <td>33.178</td>\n",
       "      <td>perrynelson_1_WOL.wav</td>\n",
       "    </tr>\n",
       "    <tr>\n",
       "      <th>1</th>\n",
       "      <td>1</td>\n",
       "      <td>2</td>\n",
       "      <td>Lii de ab nataal la boob mel na ne maa ngi ciy...</td>\n",
       "      <td>18.838</td>\n",
       "      <td>perrynelson_2_WOL.wav</td>\n",
       "    </tr>\n",
       "    <tr>\n",
       "      <th>2</th>\n",
       "      <td>2</td>\n",
       "      <td>3</td>\n",
       "      <td>Waaw, lii sunu mbokk yi nekk ci casamance lañ ...</td>\n",
       "      <td>17.714</td>\n",
       "      <td>perrynelson_3_WOL.wav</td>\n",
       "    </tr>\n",
       "  </tbody>\n",
       "</table>\n",
       "</div>"
      ],
      "text/plain": [
       "   Unnamed: 0  id                                      transcription  length  \\\n",
       "0           0   1  Lii de ay nit lañu, ñoo xamante ne dañoo toog,...  33.178   \n",
       "1           1   2  Lii de ab nataal la boob mel na ne maa ngi ciy...  18.838   \n",
       "2           2   3  Waaw, lii sunu mbokk yi nekk ci casamance lañ ...  17.714   \n",
       "\n",
       "                filename  \n",
       "0  perrynelson_1_WOL.wav  \n",
       "1  perrynelson_2_WOL.wav  \n",
       "2  perrynelson_3_WOL.wav  "
      ]
     },
     "execution_count": 27,
     "metadata": {},
     "output_type": "execute_result"
    }
   ],
   "source": [
    "waxal_clean.head(3)"
   ]
  },
  {
   "cell_type": "code",
   "execution_count": null,
   "metadata": {},
   "outputs": [
    {
     "data": {
      "text/html": [
       "<div>\n",
       "<style scoped>\n",
       "    .dataframe tbody tr th:only-of-type {\n",
       "        vertical-align: middle;\n",
       "    }\n",
       "\n",
       "    .dataframe tbody tr th {\n",
       "        vertical-align: top;\n",
       "    }\n",
       "\n",
       "    .dataframe thead th {\n",
       "        text-align: right;\n",
       "    }\n",
       "</style>\n",
       "<table border=\"1\" class=\"dataframe\">\n",
       "  <thead>\n",
       "    <tr style=\"text-align: right;\">\n",
       "      <th></th>\n",
       "      <th>0</th>\n",
       "    </tr>\n",
       "  </thead>\n",
       "  <tbody>\n",
       "    <tr>\n",
       "      <th>Unnamed: 0</th>\n",
       "      <td>0</td>\n",
       "    </tr>\n",
       "    <tr>\n",
       "      <th>id</th>\n",
       "      <td>1</td>\n",
       "    </tr>\n",
       "    <tr>\n",
       "      <th>transcription</th>\n",
       "      <td>Lii de ay nit lañu, ñoo xamante ne dañoo toog,...</td>\n",
       "    </tr>\n",
       "    <tr>\n",
       "      <th>length</th>\n",
       "      <td>33.178</td>\n",
       "    </tr>\n",
       "    <tr>\n",
       "      <th>filename</th>\n",
       "      <td>perrynelson_1_WOL.wav</td>\n",
       "    </tr>\n",
       "    <tr>\n",
       "      <th>path</th>\n",
       "      <td>DATA\\CLEANED\\WOLOF_AUDIO_TRANS\\waxal\\audio\\per...</td>\n",
       "    </tr>\n",
       "  </tbody>\n",
       "</table>\n",
       "</div>"
      ],
      "text/plain": [
       "                                                               0\n",
       "Unnamed: 0                                                     0\n",
       "id                                                             1\n",
       "transcription  Lii de ay nit lañu, ñoo xamante ne dañoo toog,...\n",
       "length                                                    33.178\n",
       "filename                                   perrynelson_1_WOL.wav\n",
       "path           DATA\\CLEANED\\WOLOF_AUDIO_TRANS\\waxal\\audio\\per..."
      ]
     },
     "execution_count": 28,
     "metadata": {},
     "output_type": "execute_result"
    }
   ],
   "source": [
    "waxal_clean['path'] = waxal_clean['filename'].apply(lambda row: rename_path_to_path_complet(row, r\"DATA\\CLEANED\\WOLOF_AUDIO_TRANS\\waxal\\audio\", ext=''))\n",
    "waxal_clean.head(1).T"
   ]
  },
  {
   "cell_type": "code",
   "execution_count": null,
   "metadata": {},
   "outputs": [
    {
     "data": {
      "text/html": [
       "<div>\n",
       "<style scoped>\n",
       "    .dataframe tbody tr th:only-of-type {\n",
       "        vertical-align: middle;\n",
       "    }\n",
       "\n",
       "    .dataframe tbody tr th {\n",
       "        vertical-align: top;\n",
       "    }\n",
       "\n",
       "    .dataframe thead th {\n",
       "        text-align: right;\n",
       "    }\n",
       "</style>\n",
       "<table border=\"1\" class=\"dataframe\">\n",
       "  <thead>\n",
       "    <tr style=\"text-align: right;\">\n",
       "      <th></th>\n",
       "      <th>id</th>\n",
       "      <th>transcription</th>\n",
       "      <th>length</th>\n",
       "      <th>filename</th>\n",
       "      <th>path</th>\n",
       "    </tr>\n",
       "  </thead>\n",
       "  <tbody>\n",
       "    <tr>\n",
       "      <th>0</th>\n",
       "      <td>1</td>\n",
       "      <td>Lii de ay nit lañu, ñoo xamante ne dañoo toog,...</td>\n",
       "      <td>33.178</td>\n",
       "      <td>perrynelson_1_WOL.wav</td>\n",
       "      <td>DATA\\CLEANED\\WOLOF_AUDIO_TRANS\\waxal\\audio\\per...</td>\n",
       "    </tr>\n",
       "    <tr>\n",
       "      <th>1</th>\n",
       "      <td>2</td>\n",
       "      <td>Lii de ab nataal la boob mel na ne maa ngi ciy...</td>\n",
       "      <td>18.838</td>\n",
       "      <td>perrynelson_2_WOL.wav</td>\n",
       "      <td>DATA\\CLEANED\\WOLOF_AUDIO_TRANS\\waxal\\audio\\per...</td>\n",
       "    </tr>\n",
       "    <tr>\n",
       "      <th>2</th>\n",
       "      <td>3</td>\n",
       "      <td>Waaw, lii sunu mbokk yi nekk ci casamance lañ ...</td>\n",
       "      <td>17.714</td>\n",
       "      <td>perrynelson_3_WOL.wav</td>\n",
       "      <td>DATA\\CLEANED\\WOLOF_AUDIO_TRANS\\waxal\\audio\\per...</td>\n",
       "    </tr>\n",
       "  </tbody>\n",
       "</table>\n",
       "</div>"
      ],
      "text/plain": [
       "   id                                      transcription  length  \\\n",
       "0   1  Lii de ay nit lañu, ñoo xamante ne dañoo toog,...  33.178   \n",
       "1   2  Lii de ab nataal la boob mel na ne maa ngi ciy...  18.838   \n",
       "2   3  Waaw, lii sunu mbokk yi nekk ci casamance lañ ...  17.714   \n",
       "\n",
       "                filename                                               path  \n",
       "0  perrynelson_1_WOL.wav  DATA\\CLEANED\\WOLOF_AUDIO_TRANS\\waxal\\audio\\per...  \n",
       "1  perrynelson_2_WOL.wav  DATA\\CLEANED\\WOLOF_AUDIO_TRANS\\waxal\\audio\\per...  \n",
       "2  perrynelson_3_WOL.wav  DATA\\CLEANED\\WOLOF_AUDIO_TRANS\\waxal\\audio\\per...  "
      ]
     },
     "execution_count": 29,
     "metadata": {},
     "output_type": "execute_result"
    }
   ],
   "source": [
    "# waxal_clean['audio'] = waxal_clean['path'].apply(lambda row : resample_audio(row, \"SPEECH_TO_TEXT\\\\\"))\n",
    "waxal_clean = waxal_clean.drop(columns= ['Unnamed: 0'])\n",
    "waxal_clean.head(3)"
   ]
  },
  {
   "cell_type": "code",
   "execution_count": null,
   "metadata": {},
   "outputs": [],
   "source": [
    "waxal_clean.to_csv(r\"SPEECH_TO_TEXT\\DATA\\CLEANED\\WOLOF_AUDIO_TRANS\\zz_total_cleaned\\waxal_clean_tot.csv\")"
   ]
  },
  {
   "cell_type": "code",
   "execution_count": null,
   "metadata": {},
   "outputs": [],
   "source": [
    "# import IPython.display as ipd\n",
    "# import random\n",
    "\n",
    "# rand_int = random.randint(0, len(waxal_clean)-1)\n",
    "\n",
    "# ipd.Audio(data = waxal_clean[\"audio\"].iloc[rand_int], autoplay = True, rate = 16000)"
   ]
  },
  {
   "cell_type": "code",
   "execution_count": null,
   "metadata": {},
   "outputs": [],
   "source": [
    "# print(waxal_clean[\"transcription\"].iloc[rand_int])"
   ]
  },
  {
   "attachments": {},
   "cell_type": "markdown",
   "metadata": {},
   "source": [
    "## waxal git"
   ]
  },
  {
   "cell_type": "code",
   "execution_count": null,
   "metadata": {},
   "outputs": [
    {
     "data": {
      "text/html": [
       "<div>\n",
       "<style scoped>\n",
       "    .dataframe tbody tr th:only-of-type {\n",
       "        vertical-align: middle;\n",
       "    }\n",
       "\n",
       "    .dataframe tbody tr th {\n",
       "        vertical-align: top;\n",
       "    }\n",
       "\n",
       "    .dataframe thead th {\n",
       "        text-align: right;\n",
       "    }\n",
       "</style>\n",
       "<table border=\"1\" class=\"dataframe\">\n",
       "  <thead>\n",
       "    <tr style=\"text-align: right;\">\n",
       "      <th></th>\n",
       "      <th>Unnamed: 0</th>\n",
       "      <th>filename</th>\n",
       "      <th>length</th>\n",
       "      <th>transcription</th>\n",
       "    </tr>\n",
       "  </thead>\n",
       "  <tbody>\n",
       "    <tr>\n",
       "      <th>0</th>\n",
       "      <td>0</td>\n",
       "      <td>wolof\\1\\549.ogg</td>\n",
       "      <td>22.617812</td>\n",
       "      <td>Ñu gis ci nataal bi ay nit ñu bari ñu génn ci ...</td>\n",
       "    </tr>\n",
       "    <tr>\n",
       "      <th>1</th>\n",
       "      <td>1</td>\n",
       "      <td>wolof\\1\\2602.ogg</td>\n",
       "      <td>26.177813</td>\n",
       "      <td>Nataal bi, ñu ngi bind ci kowam \"Casamance\". A...</td>\n",
       "    </tr>\n",
       "    <tr>\n",
       "      <th>2</th>\n",
       "      <td>2</td>\n",
       "      <td>wolof\\1\\3030.ogg</td>\n",
       "      <td>18.773500</td>\n",
       "      <td>Salaawaalekum ! Ñii de, mel nañ ne, ay nit ñu ...</td>\n",
       "    </tr>\n",
       "  </tbody>\n",
       "</table>\n",
       "</div>"
      ],
      "text/plain": [
       "   Unnamed: 0          filename     length  \\\n",
       "0           0   wolof\\1\\549.ogg  22.617812   \n",
       "1           1  wolof\\1\\2602.ogg  26.177813   \n",
       "2           2  wolof\\1\\3030.ogg  18.773500   \n",
       "\n",
       "                                       transcription  \n",
       "0  Ñu gis ci nataal bi ay nit ñu bari ñu génn ci ...  \n",
       "1  Nataal bi, ñu ngi bind ci kowam \"Casamance\". A...  \n",
       "2  Salaawaalekum ! Ñii de, mel nañ ne, ay nit ñu ...  "
      ]
     },
     "execution_count": 33,
     "metadata": {},
     "output_type": "execute_result"
    }
   ],
   "source": [
    "waxal_git_clean.head(3)"
   ]
  },
  {
   "cell_type": "code",
   "execution_count": null,
   "metadata": {},
   "outputs": [
    {
     "data": {
      "text/html": [
       "<div>\n",
       "<style scoped>\n",
       "    .dataframe tbody tr th:only-of-type {\n",
       "        vertical-align: middle;\n",
       "    }\n",
       "\n",
       "    .dataframe tbody tr th {\n",
       "        vertical-align: top;\n",
       "    }\n",
       "\n",
       "    .dataframe thead th {\n",
       "        text-align: right;\n",
       "    }\n",
       "</style>\n",
       "<table border=\"1\" class=\"dataframe\">\n",
       "  <thead>\n",
       "    <tr style=\"text-align: right;\">\n",
       "      <th></th>\n",
       "      <th>0</th>\n",
       "    </tr>\n",
       "  </thead>\n",
       "  <tbody>\n",
       "    <tr>\n",
       "      <th>Unnamed: 0</th>\n",
       "      <td>0</td>\n",
       "    </tr>\n",
       "    <tr>\n",
       "      <th>filename</th>\n",
       "      <td>wolof\\1\\549.ogg</td>\n",
       "    </tr>\n",
       "    <tr>\n",
       "      <th>length</th>\n",
       "      <td>22.617812</td>\n",
       "    </tr>\n",
       "    <tr>\n",
       "      <th>transcription</th>\n",
       "      <td>Ñu gis ci nataal bi ay nit ñu bari ñu génn ci ...</td>\n",
       "    </tr>\n",
       "    <tr>\n",
       "      <th>path</th>\n",
       "      <td>DATA\\CLEANED\\WOLOF_AUDIO_TRANS\\waxal_git\\audio...</td>\n",
       "    </tr>\n",
       "  </tbody>\n",
       "</table>\n",
       "</div>"
      ],
      "text/plain": [
       "                                                               0\n",
       "Unnamed: 0                                                     0\n",
       "filename                                         wolof\\1\\549.ogg\n",
       "length                                                 22.617812\n",
       "transcription  Ñu gis ci nataal bi ay nit ñu bari ñu génn ci ...\n",
       "path           DATA\\CLEANED\\WOLOF_AUDIO_TRANS\\waxal_git\\audio..."
      ]
     },
     "execution_count": 34,
     "metadata": {},
     "output_type": "execute_result"
    }
   ],
   "source": [
    "waxal_git_clean['path'] = waxal_git_clean['filename'].apply(lambda row: rename_path_to_path_complet(row, r\"DATA\\CLEANED\\WOLOF_AUDIO_TRANS\\waxal_git\\audio\", ext=''))\n",
    "waxal_git_clean.head(1).T"
   ]
  },
  {
   "cell_type": "code",
   "execution_count": null,
   "metadata": {},
   "outputs": [
    {
     "data": {
      "text/html": [
       "<div>\n",
       "<style scoped>\n",
       "    .dataframe tbody tr th:only-of-type {\n",
       "        vertical-align: middle;\n",
       "    }\n",
       "\n",
       "    .dataframe tbody tr th {\n",
       "        vertical-align: top;\n",
       "    }\n",
       "\n",
       "    .dataframe thead th {\n",
       "        text-align: right;\n",
       "    }\n",
       "</style>\n",
       "<table border=\"1\" class=\"dataframe\">\n",
       "  <thead>\n",
       "    <tr style=\"text-align: right;\">\n",
       "      <th></th>\n",
       "      <th>filename</th>\n",
       "      <th>length</th>\n",
       "      <th>transcription</th>\n",
       "      <th>path</th>\n",
       "    </tr>\n",
       "  </thead>\n",
       "  <tbody>\n",
       "    <tr>\n",
       "      <th>0</th>\n",
       "      <td>wolof\\1\\549.ogg</td>\n",
       "      <td>22.617812</td>\n",
       "      <td>Ñu gis ci nataal bi ay nit ñu bari ñu génn ci ...</td>\n",
       "      <td>DATA\\CLEANED\\WOLOF_AUDIO_TRANS\\waxal_git\\audio...</td>\n",
       "    </tr>\n",
       "    <tr>\n",
       "      <th>1</th>\n",
       "      <td>wolof\\1\\2602.ogg</td>\n",
       "      <td>26.177813</td>\n",
       "      <td>Nataal bi, ñu ngi bind ci kowam \"Casamance\". A...</td>\n",
       "      <td>DATA\\CLEANED\\WOLOF_AUDIO_TRANS\\waxal_git\\audio...</td>\n",
       "    </tr>\n",
       "    <tr>\n",
       "      <th>2</th>\n",
       "      <td>wolof\\1\\3030.ogg</td>\n",
       "      <td>18.773500</td>\n",
       "      <td>Salaawaalekum ! Ñii de, mel nañ ne, ay nit ñu ...</td>\n",
       "      <td>DATA\\CLEANED\\WOLOF_AUDIO_TRANS\\waxal_git\\audio...</td>\n",
       "    </tr>\n",
       "  </tbody>\n",
       "</table>\n",
       "</div>"
      ],
      "text/plain": [
       "           filename     length  \\\n",
       "0   wolof\\1\\549.ogg  22.617812   \n",
       "1  wolof\\1\\2602.ogg  26.177813   \n",
       "2  wolof\\1\\3030.ogg  18.773500   \n",
       "\n",
       "                                       transcription  \\\n",
       "0  Ñu gis ci nataal bi ay nit ñu bari ñu génn ci ...   \n",
       "1  Nataal bi, ñu ngi bind ci kowam \"Casamance\". A...   \n",
       "2  Salaawaalekum ! Ñii de, mel nañ ne, ay nit ñu ...   \n",
       "\n",
       "                                                path  \n",
       "0  DATA\\CLEANED\\WOLOF_AUDIO_TRANS\\waxal_git\\audio...  \n",
       "1  DATA\\CLEANED\\WOLOF_AUDIO_TRANS\\waxal_git\\audio...  \n",
       "2  DATA\\CLEANED\\WOLOF_AUDIO_TRANS\\waxal_git\\audio...  "
      ]
     },
     "execution_count": 35,
     "metadata": {},
     "output_type": "execute_result"
    }
   ],
   "source": [
    "# waxal_git_clean['audio'] = waxal_git_clean['path'].apply(lambda row : resample_audio(row, \"SPEECH_TO_TEXT\\\\\"))\n",
    "waxal_git_clean = waxal_git_clean.drop(columns= ['Unnamed: 0'])\n",
    "waxal_git_clean.head(3)"
   ]
  },
  {
   "cell_type": "code",
   "execution_count": null,
   "metadata": {},
   "outputs": [],
   "source": [
    "waxal_git_clean.to_csv(r\"SPEECH_TO_TEXT\\DATA\\CLEANED\\WOLOF_AUDIO_TRANS\\zz_total_cleaned\\waxal_git_clean_tot.csv\")"
   ]
  },
  {
   "cell_type": "code",
   "execution_count": null,
   "metadata": {},
   "outputs": [],
   "source": [
    "# import IPython.display as ipd\n",
    "# import random\n",
    "\n",
    "# rand_int = random.randint(0, len(waxal_git_clean)-1)\n",
    "\n",
    "# ipd.Audio(data = waxal_git_clean[\"audio\"].iloc[rand_int], autoplay = True, rate = 16000)"
   ]
  },
  {
   "cell_type": "code",
   "execution_count": null,
   "metadata": {},
   "outputs": [],
   "source": [
    "# print(waxal_git_clean[\"transcription\"].iloc[rand_int])"
   ]
  },
  {
   "attachments": {},
   "cell_type": "markdown",
   "metadata": {},
   "source": [
    "## zenodo"
   ]
  },
  {
   "cell_type": "code",
   "execution_count": null,
   "metadata": {},
   "outputs": [
    {
     "data": {
      "text/html": [
       "<div>\n",
       "<style scoped>\n",
       "    .dataframe tbody tr th:only-of-type {\n",
       "        vertical-align: middle;\n",
       "    }\n",
       "\n",
       "    .dataframe tbody tr th {\n",
       "        vertical-align: top;\n",
       "    }\n",
       "\n",
       "    .dataframe thead th {\n",
       "        text-align: right;\n",
       "    }\n",
       "</style>\n",
       "<table border=\"1\" class=\"dataframe\">\n",
       "  <thead>\n",
       "    <tr style=\"text-align: right;\">\n",
       "      <th></th>\n",
       "      <th>Unnamed: 0</th>\n",
       "      <th>transcription</th>\n",
       "      <th>filename</th>\n",
       "      <th>path</th>\n",
       "      <th>length</th>\n",
       "    </tr>\n",
       "  </thead>\n",
       "  <tbody>\n",
       "    <tr>\n",
       "      <th>0</th>\n",
       "      <td>0</td>\n",
       "      <td>Tey texeg ndaw ñi,ak mag ñi,ak waxambaane yeek...</td>\n",
       "      <td>4af26658-5f2a-401c-aa35-748717079afa/02d98c90f...</td>\n",
       "      <td>DATA\\CLEANED\\WOLOF_AUDIO_TRANS\\zenodo\\audio\\4a...</td>\n",
       "      <td>6.384</td>\n",
       "    </tr>\n",
       "    <tr>\n",
       "      <th>1</th>\n",
       "      <td>1</td>\n",
       "      <td>Tey texeg ndaw ñi,ak mag ñi,ak waxambaane yeek...</td>\n",
       "      <td>fbc2f100-357a-4840-b1df-8b562861e8dd/02d98c90f...</td>\n",
       "      <td>DATA\\CLEANED\\WOLOF_AUDIO_TRANS\\zenodo\\audio\\fb...</td>\n",
       "      <td>5.616</td>\n",
       "    </tr>\n",
       "    <tr>\n",
       "      <th>2</th>\n",
       "      <td>2</td>\n",
       "      <td>Jamonoy cëtëŋ j</td>\n",
       "      <td>4af26658-5f2a-401c-aa35-748717079afa/038677fc2...</td>\n",
       "      <td>DATA\\CLEANED\\WOLOF_AUDIO_TRANS\\zenodo\\audio\\4a...</td>\n",
       "      <td>3.744</td>\n",
       "    </tr>\n",
       "  </tbody>\n",
       "</table>\n",
       "</div>"
      ],
      "text/plain": [
       "   Unnamed: 0                                      transcription  \\\n",
       "0           0  Tey texeg ndaw ñi,ak mag ñi,ak waxambaane yeek...   \n",
       "1           1  Tey texeg ndaw ñi,ak mag ñi,ak waxambaane yeek...   \n",
       "2           2                                    Jamonoy cëtëŋ j   \n",
       "\n",
       "                                            filename  \\\n",
       "0  4af26658-5f2a-401c-aa35-748717079afa/02d98c90f...   \n",
       "1  fbc2f100-357a-4840-b1df-8b562861e8dd/02d98c90f...   \n",
       "2  4af26658-5f2a-401c-aa35-748717079afa/038677fc2...   \n",
       "\n",
       "                                                path  length  \n",
       "0  DATA\\CLEANED\\WOLOF_AUDIO_TRANS\\zenodo\\audio\\4a...   6.384  \n",
       "1  DATA\\CLEANED\\WOLOF_AUDIO_TRANS\\zenodo\\audio\\fb...   5.616  \n",
       "2  DATA\\CLEANED\\WOLOF_AUDIO_TRANS\\zenodo\\audio\\4a...   3.744  "
      ]
     },
     "execution_count": 39,
     "metadata": {},
     "output_type": "execute_result"
    }
   ],
   "source": [
    "zenodo_clean.head(3)"
   ]
  },
  {
   "cell_type": "code",
   "execution_count": null,
   "metadata": {},
   "outputs": [
    {
     "data": {
      "text/html": [
       "<div>\n",
       "<style scoped>\n",
       "    .dataframe tbody tr th:only-of-type {\n",
       "        vertical-align: middle;\n",
       "    }\n",
       "\n",
       "    .dataframe tbody tr th {\n",
       "        vertical-align: top;\n",
       "    }\n",
       "\n",
       "    .dataframe thead th {\n",
       "        text-align: right;\n",
       "    }\n",
       "</style>\n",
       "<table border=\"1\" class=\"dataframe\">\n",
       "  <thead>\n",
       "    <tr style=\"text-align: right;\">\n",
       "      <th></th>\n",
       "      <th>0</th>\n",
       "    </tr>\n",
       "  </thead>\n",
       "  <tbody>\n",
       "    <tr>\n",
       "      <th>Unnamed: 0</th>\n",
       "      <td>0</td>\n",
       "    </tr>\n",
       "    <tr>\n",
       "      <th>transcription</th>\n",
       "      <td>Tey texeg ndaw ñi,ak mag ñi,ak waxambaane yeek...</td>\n",
       "    </tr>\n",
       "    <tr>\n",
       "      <th>filename</th>\n",
       "      <td>4af26658-5f2a-401c-aa35-748717079afa/02d98c90f...</td>\n",
       "    </tr>\n",
       "    <tr>\n",
       "      <th>path</th>\n",
       "      <td>DATA\\CLEANED\\WOLOF_AUDIO_TRANS\\zenodo\\audio\\4a...</td>\n",
       "    </tr>\n",
       "    <tr>\n",
       "      <th>length</th>\n",
       "      <td>6.384</td>\n",
       "    </tr>\n",
       "  </tbody>\n",
       "</table>\n",
       "</div>"
      ],
      "text/plain": [
       "                                                               0\n",
       "Unnamed: 0                                                     0\n",
       "transcription  Tey texeg ndaw ñi,ak mag ñi,ak waxambaane yeek...\n",
       "filename       4af26658-5f2a-401c-aa35-748717079afa/02d98c90f...\n",
       "path           DATA\\CLEANED\\WOLOF_AUDIO_TRANS\\zenodo\\audio\\4a...\n",
       "length                                                     6.384"
      ]
     },
     "execution_count": 40,
     "metadata": {},
     "output_type": "execute_result"
    }
   ],
   "source": [
    "zenodo_clean['path'] = zenodo_clean['filename'].apply(lambda row: rename_path_to_path_complet(row, r\"DATA\\CLEANED\\WOLOF_AUDIO_TRANS\\zenodo\\audio\", ext=''))\n",
    "zenodo_clean.head(1).T"
   ]
  },
  {
   "cell_type": "code",
   "execution_count": null,
   "metadata": {},
   "outputs": [
    {
     "data": {
      "text/html": [
       "<div>\n",
       "<style scoped>\n",
       "    .dataframe tbody tr th:only-of-type {\n",
       "        vertical-align: middle;\n",
       "    }\n",
       "\n",
       "    .dataframe tbody tr th {\n",
       "        vertical-align: top;\n",
       "    }\n",
       "\n",
       "    .dataframe thead th {\n",
       "        text-align: right;\n",
       "    }\n",
       "</style>\n",
       "<table border=\"1\" class=\"dataframe\">\n",
       "  <thead>\n",
       "    <tr style=\"text-align: right;\">\n",
       "      <th></th>\n",
       "      <th>0</th>\n",
       "      <th>1</th>\n",
       "      <th>2</th>\n",
       "    </tr>\n",
       "  </thead>\n",
       "  <tbody>\n",
       "    <tr>\n",
       "      <th>transcription</th>\n",
       "      <td>Tey texeg ndaw ñi,ak mag ñi,ak waxambaane yeek...</td>\n",
       "      <td>Tey texeg ndaw ñi,ak mag ñi,ak waxambaane yeek...</td>\n",
       "      <td>Jamonoy cëtëŋ j</td>\n",
       "    </tr>\n",
       "    <tr>\n",
       "      <th>filename</th>\n",
       "      <td>4af26658-5f2a-401c-aa35-748717079afa/02d98c90f...</td>\n",
       "      <td>fbc2f100-357a-4840-b1df-8b562861e8dd/02d98c90f...</td>\n",
       "      <td>4af26658-5f2a-401c-aa35-748717079afa/038677fc2...</td>\n",
       "    </tr>\n",
       "    <tr>\n",
       "      <th>path</th>\n",
       "      <td>DATA\\CLEANED\\WOLOF_AUDIO_TRANS\\zenodo\\audio\\4a...</td>\n",
       "      <td>DATA\\CLEANED\\WOLOF_AUDIO_TRANS\\zenodo\\audio\\fb...</td>\n",
       "      <td>DATA\\CLEANED\\WOLOF_AUDIO_TRANS\\zenodo\\audio\\4a...</td>\n",
       "    </tr>\n",
       "    <tr>\n",
       "      <th>length</th>\n",
       "      <td>6.384</td>\n",
       "      <td>5.616</td>\n",
       "      <td>3.744</td>\n",
       "    </tr>\n",
       "  </tbody>\n",
       "</table>\n",
       "</div>"
      ],
      "text/plain": [
       "                                                               0  \\\n",
       "transcription  Tey texeg ndaw ñi,ak mag ñi,ak waxambaane yeek...   \n",
       "filename       4af26658-5f2a-401c-aa35-748717079afa/02d98c90f...   \n",
       "path           DATA\\CLEANED\\WOLOF_AUDIO_TRANS\\zenodo\\audio\\4a...   \n",
       "length                                                     6.384   \n",
       "\n",
       "                                                               1  \\\n",
       "transcription  Tey texeg ndaw ñi,ak mag ñi,ak waxambaane yeek...   \n",
       "filename       fbc2f100-357a-4840-b1df-8b562861e8dd/02d98c90f...   \n",
       "path           DATA\\CLEANED\\WOLOF_AUDIO_TRANS\\zenodo\\audio\\fb...   \n",
       "length                                                     5.616   \n",
       "\n",
       "                                                               2  \n",
       "transcription                                    Jamonoy cëtëŋ j  \n",
       "filename       4af26658-5f2a-401c-aa35-748717079afa/038677fc2...  \n",
       "path           DATA\\CLEANED\\WOLOF_AUDIO_TRANS\\zenodo\\audio\\4a...  \n",
       "length                                                     3.744  "
      ]
     },
     "execution_count": 41,
     "metadata": {},
     "output_type": "execute_result"
    }
   ],
   "source": [
    "# zenodo_clean['audio'] = zenodo_clean['path'].apply(lambda row : resample_audio(row, \"SPEECH_TO_TEXT\\\\\"))\n",
    "zenodo_clean = zenodo_clean.drop(columns= ['Unnamed: 0'])\n",
    "zenodo_clean.head(3).T"
   ]
  },
  {
   "cell_type": "code",
   "execution_count": null,
   "metadata": {},
   "outputs": [],
   "source": [
    "zenodo_clean.to_csv(r\"SPEECH_TO_TEXT\\DATA\\CLEANED\\WOLOF_AUDIO_TRANS\\zz_total_cleaned\\zenodo_tot.csv\")"
   ]
  },
  {
   "cell_type": "code",
   "execution_count": null,
   "metadata": {},
   "outputs": [],
   "source": [
    "# import IPython.display as ipd\n",
    "# import random\n",
    "\n",
    "# rand_int = random.randint(0, len(zenodo_clean)-1)\n",
    "\n",
    "# ipd.Audio(data = zenodo_clean[\"audio\"].iloc[rand_int], autoplay = True, rate = 16000)"
   ]
  },
  {
   "cell_type": "code",
   "execution_count": null,
   "metadata": {},
   "outputs": [],
   "source": [
    "# print(zenodo_clean[\"transcription\"].iloc[rand_int])"
   ]
  },
  {
   "cell_type": "code",
   "execution_count": null,
   "metadata": {},
   "outputs": [],
   "source": [
    "# print(len(zenodo_clean))"
   ]
  },
  {
   "attachments": {},
   "cell_type": "markdown",
   "metadata": {},
   "source": [
    "# Splitting data to training and validation dataset"
   ]
  },
  {
   "cell_type": "code",
   "execution_count": null,
   "metadata": {},
   "outputs": [],
   "source": [
    "dataframes = [zenodo_clean, alffa_clean, alffa_git_clean, google_fleurs_clean, waxal_clean, waxal_git_clean]\n",
    "df_clean_tot = pd.concat(dataframes)"
   ]
  },
  {
   "cell_type": "code",
   "execution_count": null,
   "metadata": {},
   "outputs": [],
   "source": [
    "df_clean_tot = df_clean_tot[df_clean_tot[\"length\"] <= 6]"
   ]
  },
  {
   "cell_type": "code",
   "execution_count": null,
   "metadata": {},
   "outputs": [
    {
     "data": {
      "text/html": [
       "<div>\n",
       "<style scoped>\n",
       "    .dataframe tbody tr th:only-of-type {\n",
       "        vertical-align: middle;\n",
       "    }\n",
       "\n",
       "    .dataframe tbody tr th {\n",
       "        vertical-align: top;\n",
       "    }\n",
       "\n",
       "    .dataframe thead th {\n",
       "        text-align: right;\n",
       "    }\n",
       "</style>\n",
       "<table border=\"1\" class=\"dataframe\">\n",
       "  <thead>\n",
       "    <tr style=\"text-align: right;\">\n",
       "      <th></th>\n",
       "      <th>1</th>\n",
       "      <th>2</th>\n",
       "      <th>3</th>\n",
       "    </tr>\n",
       "  </thead>\n",
       "  <tbody>\n",
       "    <tr>\n",
       "      <th>transcription</th>\n",
       "      <td>Tey texeg ndaw ñi,ak mag ñi,ak waxambaane yeek...</td>\n",
       "      <td>Jamonoy cëtëŋ j</td>\n",
       "      <td>Jamonoy cëtëŋ j</td>\n",
       "    </tr>\n",
       "    <tr>\n",
       "      <th>filename</th>\n",
       "      <td>fbc2f100-357a-4840-b1df-8b562861e8dd/02d98c90f...</td>\n",
       "      <td>4af26658-5f2a-401c-aa35-748717079afa/038677fc2...</td>\n",
       "      <td>fbc2f100-357a-4840-b1df-8b562861e8dd/038677fc2...</td>\n",
       "    </tr>\n",
       "    <tr>\n",
       "      <th>path</th>\n",
       "      <td>DATA\\CLEANED\\WOLOF_AUDIO_TRANS\\zenodo\\audio\\fb...</td>\n",
       "      <td>DATA\\CLEANED\\WOLOF_AUDIO_TRANS\\zenodo\\audio\\4a...</td>\n",
       "      <td>DATA\\CLEANED\\WOLOF_AUDIO_TRANS\\zenodo\\audio\\fb...</td>\n",
       "    </tr>\n",
       "  </tbody>\n",
       "</table>\n",
       "</div>"
      ],
      "text/plain": [
       "                                                               1  \\\n",
       "transcription  Tey texeg ndaw ñi,ak mag ñi,ak waxambaane yeek...   \n",
       "filename       fbc2f100-357a-4840-b1df-8b562861e8dd/02d98c90f...   \n",
       "path           DATA\\CLEANED\\WOLOF_AUDIO_TRANS\\zenodo\\audio\\fb...   \n",
       "\n",
       "                                                               2  \\\n",
       "transcription                                    Jamonoy cëtëŋ j   \n",
       "filename       4af26658-5f2a-401c-aa35-748717079afa/038677fc2...   \n",
       "path           DATA\\CLEANED\\WOLOF_AUDIO_TRANS\\zenodo\\audio\\4a...   \n",
       "\n",
       "                                                               3  \n",
       "transcription                                    Jamonoy cëtëŋ j  \n",
       "filename       fbc2f100-357a-4840-b1df-8b562861e8dd/038677fc2...  \n",
       "path           DATA\\CLEANED\\WOLOF_AUDIO_TRANS\\zenodo\\audio\\fb...  "
      ]
     },
     "execution_count": 49,
     "metadata": {},
     "output_type": "execute_result"
    }
   ],
   "source": [
    "df_clean_tot = df_clean_tot.drop(columns= ['id', 'length'])\n",
    "df_clean_tot.head(3).T"
   ]
  },
  {
   "cell_type": "code",
   "execution_count": null,
   "metadata": {},
   "outputs": [],
   "source": [
    "from sklearn.model_selection import train_test_split\n",
    "train_size = 0.85\n",
    "validation_size = 0.15\n",
    "\n",
    "# Randomly split into training and validation+test\n",
    "df_clean_tot_train, df_clean_tot_validation_test = train_test_split(\n",
    "    df_clean_tot, test_size=validation_size, random_state = 0\n",
    ")\n",
    "\n",
    "# Further split validation+test into validation and test\n",
    "df_clean_tot_validation, df_clean_tot_test = train_test_split(\n",
    "    df_clean_tot_validation_test, test_size = 0.005, random_state = 0\n",
    ")"
   ]
  },
  {
   "cell_type": "code",
   "execution_count": null,
   "metadata": {},
   "outputs": [],
   "source": [
    "df_clean_tot_train.to_csv(r\"SPEECH_TO_TEXT\\DATA\\CLEANED\\WOLOF_AUDIO_TRANS\\train_data.csv\", sep = '|')\n",
    "df_clean_tot_validation.to_csv(r\"SPEECH_TO_TEXT\\DATA\\CLEANED\\WOLOF_AUDIO_TRANS\\validation_data.csv\", sep = '|')\n",
    "df_clean_tot_test.to_csv(r\"SPEECH_TO_TEXT\\DATA\\CLEANED\\WOLOF_AUDIO_TRANS\\test_data.csv\", sep = '|')"
   ]
  },
  {
   "cell_type": "code",
   "execution_count": 1,
   "metadata": {},
   "outputs": [],
   "source": [
    "import librosa"
   ]
  },
  {
   "cell_type": "code",
   "execution_count": 2,
   "metadata": {},
   "outputs": [
    {
     "name": "stdout",
     "output_type": "stream",
     "text": [
      "[ 0.0000000e+00 -9.1552734e-05  3.0517578e-04 ...  1.1291504e-03\n",
      "  6.1035156e-04 -2.1972656e-03]\n"
     ]
    }
   ],
   "source": [
    "print(librosa.load(r\"D:\\MARONE\\WOLOF\\SPEECH_TO_TEXT\\DATA\\CLEANED\\WOLOF_AUDIO_TRANS\\alffa\\audio\\isma_2_WOL.wav\", sr = 16000)[0])"
   ]
  }
 ],
 "metadata": {
  "colab": {
   "provenance": []
  },
  "kernelspec": {
   "display_name": "Python 3 (ipykernel)",
   "language": "python",
   "name": "python3"
  },
  "language_info": {
   "codemirror_mode": {
    "name": "ipython",
    "version": 3
   },
   "file_extension": ".py",
   "mimetype": "text/x-python",
   "name": "python",
   "nbconvert_exporter": "python",
   "pygments_lexer": "ipython3",
   "version": "3.8.8"
  },
  "widgets": {
   "application/vnd.jupyter.widget-state+json": {
    "08152e8566b041039aeddbd62c7ec7a0": {
     "model_module": "@jupyter-widgets/base",
     "model_module_version": "1.2.0",
     "model_name": "LayoutModel",
     "state": {
      "_model_module": "@jupyter-widgets/base",
      "_model_module_version": "1.2.0",
      "_model_name": "LayoutModel",
      "_view_count": null,
      "_view_module": "@jupyter-widgets/base",
      "_view_module_version": "1.2.0",
      "_view_name": "LayoutView",
      "align_content": null,
      "align_items": null,
      "align_self": null,
      "border": null,
      "bottom": null,
      "display": null,
      "flex": null,
      "flex_flow": null,
      "grid_area": null,
      "grid_auto_columns": null,
      "grid_auto_flow": null,
      "grid_auto_rows": null,
      "grid_column": null,
      "grid_gap": null,
      "grid_row": null,
      "grid_template_areas": null,
      "grid_template_columns": null,
      "grid_template_rows": null,
      "height": null,
      "justify_content": null,
      "justify_items": null,
      "left": null,
      "margin": null,
      "max_height": null,
      "max_width": null,
      "min_height": null,
      "min_width": null,
      "object_fit": null,
      "object_position": null,
      "order": null,
      "overflow": null,
      "overflow_x": null,
      "overflow_y": null,
      "padding": null,
      "right": null,
      "top": null,
      "visibility": null,
      "width": null
     }
    },
    "094e80862ffb4cc6a9a2300fd4fa0da4": {
     "model_module": "@jupyter-widgets/base",
     "model_module_version": "1.2.0",
     "model_name": "LayoutModel",
     "state": {
      "_model_module": "@jupyter-widgets/base",
      "_model_module_version": "1.2.0",
      "_model_name": "LayoutModel",
      "_view_count": null,
      "_view_module": "@jupyter-widgets/base",
      "_view_module_version": "1.2.0",
      "_view_name": "LayoutView",
      "align_content": null,
      "align_items": null,
      "align_self": null,
      "border": null,
      "bottom": null,
      "display": null,
      "flex": null,
      "flex_flow": null,
      "grid_area": null,
      "grid_auto_columns": null,
      "grid_auto_flow": null,
      "grid_auto_rows": null,
      "grid_column": null,
      "grid_gap": null,
      "grid_row": null,
      "grid_template_areas": null,
      "grid_template_columns": null,
      "grid_template_rows": null,
      "height": null,
      "justify_content": null,
      "justify_items": null,
      "left": null,
      "margin": null,
      "max_height": null,
      "max_width": null,
      "min_height": null,
      "min_width": null,
      "object_fit": null,
      "object_position": null,
      "order": null,
      "overflow": null,
      "overflow_x": null,
      "overflow_y": null,
      "padding": null,
      "right": null,
      "top": null,
      "visibility": null,
      "width": null
     }
    },
    "0dfd6ced24e1405aa80b6f653ef2deda": {
     "model_module": "@jupyter-widgets/controls",
     "model_module_version": "1.5.0",
     "model_name": "ProgressStyleModel",
     "state": {
      "_model_module": "@jupyter-widgets/controls",
      "_model_module_version": "1.5.0",
      "_model_name": "ProgressStyleModel",
      "_view_count": null,
      "_view_module": "@jupyter-widgets/base",
      "_view_module_version": "1.2.0",
      "_view_name": "StyleView",
      "bar_color": null,
      "description_width": ""
     }
    },
    "1629e0808319421584866c2e7f51f018": {
     "model_module": "@jupyter-widgets/controls",
     "model_module_version": "1.5.0",
     "model_name": "DescriptionStyleModel",
     "state": {
      "_model_module": "@jupyter-widgets/controls",
      "_model_module_version": "1.5.0",
      "_model_name": "DescriptionStyleModel",
      "_view_count": null,
      "_view_module": "@jupyter-widgets/base",
      "_view_module_version": "1.2.0",
      "_view_name": "StyleView",
      "description_width": ""
     }
    },
    "21672904ff57471a85926ae94f4d5ff5": {
     "model_module": "@jupyter-widgets/controls",
     "model_module_version": "1.5.0",
     "model_name": "FloatProgressModel",
     "state": {
      "_dom_classes": [],
      "_model_module": "@jupyter-widgets/controls",
      "_model_module_version": "1.5.0",
      "_model_name": "FloatProgressModel",
      "_view_count": null,
      "_view_module": "@jupyter-widgets/controls",
      "_view_module_version": "1.5.0",
      "_view_name": "ProgressView",
      "bar_style": "success",
      "description": "",
      "description_tooltip": null,
      "layout": "IPY_MODEL_6b9ab4908e214b8f810bfbba6e3c8e69",
      "max": 708598,
      "min": 0,
      "orientation": "horizontal",
      "style": "IPY_MODEL_0dfd6ced24e1405aa80b6f653ef2deda",
      "value": 708598
     }
    },
    "2e0ecc52fa764993bcf5bbb64aff3eea": {
     "model_module": "@jupyter-widgets/controls",
     "model_module_version": "1.5.0",
     "model_name": "HTMLModel",
     "state": {
      "_dom_classes": [],
      "_model_module": "@jupyter-widgets/controls",
      "_model_module_version": "1.5.0",
      "_model_name": "HTMLModel",
      "_view_count": null,
      "_view_module": "@jupyter-widgets/controls",
      "_view_module_version": "1.5.0",
      "_view_name": "HTMLView",
      "description": "",
      "description_tooltip": null,
      "layout": "IPY_MODEL_9d064c572faf4054bd66645306c46e94",
      "placeholder": "​",
      "style": "IPY_MODEL_9807f136b156412fba291fc0a0e071c2",
      "value": " 656/656 [00:00&lt;00:00, 25.9kB/s]"
     }
    },
    "2eb89e470231486bb719673583cec0e7": {
     "model_module": "@jupyter-widgets/base",
     "model_module_version": "1.2.0",
     "model_name": "LayoutModel",
     "state": {
      "_model_module": "@jupyter-widgets/base",
      "_model_module_version": "1.2.0",
      "_model_name": "LayoutModel",
      "_view_count": null,
      "_view_module": "@jupyter-widgets/base",
      "_view_module_version": "1.2.0",
      "_view_name": "LayoutView",
      "align_content": null,
      "align_items": null,
      "align_self": null,
      "border": null,
      "bottom": null,
      "display": null,
      "flex": null,
      "flex_flow": null,
      "grid_area": null,
      "grid_auto_columns": null,
      "grid_auto_flow": null,
      "grid_auto_rows": null,
      "grid_column": null,
      "grid_gap": null,
      "grid_row": null,
      "grid_template_areas": null,
      "grid_template_columns": null,
      "grid_template_rows": null,
      "height": null,
      "justify_content": null,
      "justify_items": null,
      "left": null,
      "margin": null,
      "max_height": null,
      "max_width": null,
      "min_height": null,
      "min_width": null,
      "object_fit": null,
      "object_position": null,
      "order": null,
      "overflow": null,
      "overflow_x": null,
      "overflow_y": null,
      "padding": null,
      "right": null,
      "top": null,
      "visibility": null,
      "width": null
     }
    },
    "346d0c0d86e242ad98f51e978f90ac06": {
     "model_module": "@jupyter-widgets/base",
     "model_module_version": "1.2.0",
     "model_name": "LayoutModel",
     "state": {
      "_model_module": "@jupyter-widgets/base",
      "_model_module_version": "1.2.0",
      "_model_name": "LayoutModel",
      "_view_count": null,
      "_view_module": "@jupyter-widgets/base",
      "_view_module_version": "1.2.0",
      "_view_name": "LayoutView",
      "align_content": null,
      "align_items": null,
      "align_self": null,
      "border": null,
      "bottom": null,
      "display": null,
      "flex": null,
      "flex_flow": null,
      "grid_area": null,
      "grid_auto_columns": null,
      "grid_auto_flow": null,
      "grid_auto_rows": null,
      "grid_column": null,
      "grid_gap": null,
      "grid_row": null,
      "grid_template_areas": null,
      "grid_template_columns": null,
      "grid_template_rows": null,
      "height": null,
      "justify_content": null,
      "justify_items": null,
      "left": null,
      "margin": null,
      "max_height": null,
      "max_width": null,
      "min_height": null,
      "min_width": null,
      "object_fit": null,
      "object_position": null,
      "order": null,
      "overflow": null,
      "overflow_x": null,
      "overflow_y": null,
      "padding": null,
      "right": null,
      "top": null,
      "visibility": null,
      "width": null
     }
    },
    "358ff1eb32dd4e14b4d284c84057381e": {
     "model_module": "@jupyter-widgets/controls",
     "model_module_version": "1.5.0",
     "model_name": "DescriptionStyleModel",
     "state": {
      "_model_module": "@jupyter-widgets/controls",
      "_model_module_version": "1.5.0",
      "_model_name": "DescriptionStyleModel",
      "_view_count": null,
      "_view_module": "@jupyter-widgets/base",
      "_view_module_version": "1.2.0",
      "_view_name": "StyleView",
      "description_width": ""
     }
    },
    "4601cae8e3d64c72a8d72776f5d341de": {
     "model_module": "@jupyter-widgets/controls",
     "model_module_version": "1.5.0",
     "model_name": "HTMLModel",
     "state": {
      "_dom_classes": [],
      "_model_module": "@jupyter-widgets/controls",
      "_model_module_version": "1.5.0",
      "_model_name": "HTMLModel",
      "_view_count": null,
      "_view_module": "@jupyter-widgets/controls",
      "_view_module_version": "1.5.0",
      "_view_name": "HTMLView",
      "description": "",
      "description_tooltip": null,
      "layout": "IPY_MODEL_346d0c0d86e242ad98f51e978f90ac06",
      "placeholder": "​",
      "style": "IPY_MODEL_1629e0808319421584866c2e7f51f018",
      "value": "Downloading metadata: 100%"
     }
    },
    "5827322ad92944128cd4676b3dd4f2e6": {
     "model_module": "@jupyter-widgets/controls",
     "model_module_version": "1.5.0",
     "model_name": "ProgressStyleModel",
     "state": {
      "_model_module": "@jupyter-widgets/controls",
      "_model_module_version": "1.5.0",
      "_model_name": "ProgressStyleModel",
      "_view_count": null,
      "_view_module": "@jupyter-widgets/base",
      "_view_module_version": "1.2.0",
      "_view_name": "StyleView",
      "bar_color": null,
      "description_width": ""
     }
    },
    "60e07e2849d14b549e30226f1c7df88f": {
     "model_module": "@jupyter-widgets/controls",
     "model_module_version": "1.5.0",
     "model_name": "ProgressStyleModel",
     "state": {
      "_model_module": "@jupyter-widgets/controls",
      "_model_module_version": "1.5.0",
      "_model_name": "ProgressStyleModel",
      "_view_count": null,
      "_view_module": "@jupyter-widgets/base",
      "_view_module_version": "1.2.0",
      "_view_name": "StyleView",
      "bar_color": null,
      "description_width": ""
     }
    },
    "6b9ab4908e214b8f810bfbba6e3c8e69": {
     "model_module": "@jupyter-widgets/base",
     "model_module_version": "1.2.0",
     "model_name": "LayoutModel",
     "state": {
      "_model_module": "@jupyter-widgets/base",
      "_model_module_version": "1.2.0",
      "_model_name": "LayoutModel",
      "_view_count": null,
      "_view_module": "@jupyter-widgets/base",
      "_view_module_version": "1.2.0",
      "_view_name": "LayoutView",
      "align_content": null,
      "align_items": null,
      "align_self": null,
      "border": null,
      "bottom": null,
      "display": null,
      "flex": null,
      "flex_flow": null,
      "grid_area": null,
      "grid_auto_columns": null,
      "grid_auto_flow": null,
      "grid_auto_rows": null,
      "grid_column": null,
      "grid_gap": null,
      "grid_row": null,
      "grid_template_areas": null,
      "grid_template_columns": null,
      "grid_template_rows": null,
      "height": null,
      "justify_content": null,
      "justify_items": null,
      "left": null,
      "margin": null,
      "max_height": null,
      "max_width": null,
      "min_height": null,
      "min_width": null,
      "object_fit": null,
      "object_position": null,
      "order": null,
      "overflow": null,
      "overflow_x": null,
      "overflow_y": null,
      "padding": null,
      "right": null,
      "top": null,
      "visibility": null,
      "width": null
     }
    },
    "6e5c0489f84243cbaf731226b899ef8b": {
     "model_module": "@jupyter-widgets/controls",
     "model_module_version": "1.5.0",
     "model_name": "DescriptionStyleModel",
     "state": {
      "_model_module": "@jupyter-widgets/controls",
      "_model_module_version": "1.5.0",
      "_model_name": "DescriptionStyleModel",
      "_view_count": null,
      "_view_module": "@jupyter-widgets/base",
      "_view_module_version": "1.2.0",
      "_view_name": "StyleView",
      "description_width": ""
     }
    },
    "78f2cf9bb8264a70a16c781fc996fdbd": {
     "model_module": "@jupyter-widgets/controls",
     "model_module_version": "1.5.0",
     "model_name": "HTMLModel",
     "state": {
      "_dom_classes": [],
      "_model_module": "@jupyter-widgets/controls",
      "_model_module_version": "1.5.0",
      "_model_name": "HTMLModel",
      "_view_count": null,
      "_view_module": "@jupyter-widgets/controls",
      "_view_module_version": "1.5.0",
      "_view_name": "HTMLView",
      "description": "",
      "description_tooltip": null,
      "layout": "IPY_MODEL_9171d8991eb9487983a9df21d215b213",
      "placeholder": "​",
      "style": "IPY_MODEL_6e5c0489f84243cbaf731226b899ef8b",
      "value": "Generating train split: 100%"
     }
    },
    "84dcaa89866e44239a4d0bbc46f1c6d3": {
     "model_module": "@jupyter-widgets/base",
     "model_module_version": "1.2.0",
     "model_name": "LayoutModel",
     "state": {
      "_model_module": "@jupyter-widgets/base",
      "_model_module_version": "1.2.0",
      "_model_name": "LayoutModel",
      "_view_count": null,
      "_view_module": "@jupyter-widgets/base",
      "_view_module_version": "1.2.0",
      "_view_name": "LayoutView",
      "align_content": null,
      "align_items": null,
      "align_self": null,
      "border": null,
      "bottom": null,
      "display": null,
      "flex": null,
      "flex_flow": null,
      "grid_area": null,
      "grid_auto_columns": null,
      "grid_auto_flow": null,
      "grid_auto_rows": null,
      "grid_column": null,
      "grid_gap": null,
      "grid_row": null,
      "grid_template_areas": null,
      "grid_template_columns": null,
      "grid_template_rows": null,
      "height": null,
      "justify_content": null,
      "justify_items": null,
      "left": null,
      "margin": null,
      "max_height": null,
      "max_width": null,
      "min_height": null,
      "min_width": null,
      "object_fit": null,
      "object_position": null,
      "order": null,
      "overflow": null,
      "overflow_x": null,
      "overflow_y": null,
      "padding": null,
      "right": null,
      "top": null,
      "visibility": null,
      "width": null
     }
    },
    "8cfc56af946447dda997378373d96f5f": {
     "model_module": "@jupyter-widgets/controls",
     "model_module_version": "1.5.0",
     "model_name": "HTMLModel",
     "state": {
      "_dom_classes": [],
      "_model_module": "@jupyter-widgets/controls",
      "_model_module_version": "1.5.0",
      "_model_name": "HTMLModel",
      "_view_count": null,
      "_view_module": "@jupyter-widgets/controls",
      "_view_module_version": "1.5.0",
      "_view_name": "HTMLView",
      "description": "",
      "description_tooltip": null,
      "layout": "IPY_MODEL_08152e8566b041039aeddbd62c7ec7a0",
      "placeholder": "​",
      "style": "IPY_MODEL_cadd15e9afdd42a890346b2f1951b962",
      "value": " 5346/5346 [00:00&lt;00:00, 54787.45 examples/s]"
     }
    },
    "9171d8991eb9487983a9df21d215b213": {
     "model_module": "@jupyter-widgets/base",
     "model_module_version": "1.2.0",
     "model_name": "LayoutModel",
     "state": {
      "_model_module": "@jupyter-widgets/base",
      "_model_module_version": "1.2.0",
      "_model_name": "LayoutModel",
      "_view_count": null,
      "_view_module": "@jupyter-widgets/base",
      "_view_module_version": "1.2.0",
      "_view_name": "LayoutView",
      "align_content": null,
      "align_items": null,
      "align_self": null,
      "border": null,
      "bottom": null,
      "display": null,
      "flex": null,
      "flex_flow": null,
      "grid_area": null,
      "grid_auto_columns": null,
      "grid_auto_flow": null,
      "grid_auto_rows": null,
      "grid_column": null,
      "grid_gap": null,
      "grid_row": null,
      "grid_template_areas": null,
      "grid_template_columns": null,
      "grid_template_rows": null,
      "height": null,
      "justify_content": null,
      "justify_items": null,
      "left": null,
      "margin": null,
      "max_height": null,
      "max_width": null,
      "min_height": null,
      "min_width": null,
      "object_fit": null,
      "object_position": null,
      "order": null,
      "overflow": null,
      "overflow_x": null,
      "overflow_y": null,
      "padding": null,
      "right": null,
      "top": null,
      "visibility": null,
      "width": null
     }
    },
    "9807f136b156412fba291fc0a0e071c2": {
     "model_module": "@jupyter-widgets/controls",
     "model_module_version": "1.5.0",
     "model_name": "DescriptionStyleModel",
     "state": {
      "_model_module": "@jupyter-widgets/controls",
      "_model_module_version": "1.5.0",
      "_model_name": "DescriptionStyleModel",
      "_view_count": null,
      "_view_module": "@jupyter-widgets/base",
      "_view_module_version": "1.2.0",
      "_view_name": "StyleView",
      "description_width": ""
     }
    },
    "9d064c572faf4054bd66645306c46e94": {
     "model_module": "@jupyter-widgets/base",
     "model_module_version": "1.2.0",
     "model_name": "LayoutModel",
     "state": {
      "_model_module": "@jupyter-widgets/base",
      "_model_module_version": "1.2.0",
      "_model_name": "LayoutModel",
      "_view_count": null,
      "_view_module": "@jupyter-widgets/base",
      "_view_module_version": "1.2.0",
      "_view_name": "LayoutView",
      "align_content": null,
      "align_items": null,
      "align_self": null,
      "border": null,
      "bottom": null,
      "display": null,
      "flex": null,
      "flex_flow": null,
      "grid_area": null,
      "grid_auto_columns": null,
      "grid_auto_flow": null,
      "grid_auto_rows": null,
      "grid_column": null,
      "grid_gap": null,
      "grid_row": null,
      "grid_template_areas": null,
      "grid_template_columns": null,
      "grid_template_rows": null,
      "height": null,
      "justify_content": null,
      "justify_items": null,
      "left": null,
      "margin": null,
      "max_height": null,
      "max_width": null,
      "min_height": null,
      "min_width": null,
      "object_fit": null,
      "object_position": null,
      "order": null,
      "overflow": null,
      "overflow_x": null,
      "overflow_y": null,
      "padding": null,
      "right": null,
      "top": null,
      "visibility": null,
      "width": null
     }
    },
    "9e8f735a5d984130b81c65d8981794c8": {
     "model_module": "@jupyter-widgets/base",
     "model_module_version": "1.2.0",
     "model_name": "LayoutModel",
     "state": {
      "_model_module": "@jupyter-widgets/base",
      "_model_module_version": "1.2.0",
      "_model_name": "LayoutModel",
      "_view_count": null,
      "_view_module": "@jupyter-widgets/base",
      "_view_module_version": "1.2.0",
      "_view_name": "LayoutView",
      "align_content": null,
      "align_items": null,
      "align_self": null,
      "border": null,
      "bottom": null,
      "display": null,
      "flex": null,
      "flex_flow": null,
      "grid_area": null,
      "grid_auto_columns": null,
      "grid_auto_flow": null,
      "grid_auto_rows": null,
      "grid_column": null,
      "grid_gap": null,
      "grid_row": null,
      "grid_template_areas": null,
      "grid_template_columns": null,
      "grid_template_rows": null,
      "height": null,
      "justify_content": null,
      "justify_items": null,
      "left": null,
      "margin": null,
      "max_height": null,
      "max_width": null,
      "min_height": null,
      "min_width": null,
      "object_fit": null,
      "object_position": null,
      "order": null,
      "overflow": null,
      "overflow_x": null,
      "overflow_y": null,
      "padding": null,
      "right": null,
      "top": null,
      "visibility": null,
      "width": null
     }
    },
    "a2de44d10463476dad90b9e596f7591a": {
     "model_module": "@jupyter-widgets/base",
     "model_module_version": "1.2.0",
     "model_name": "LayoutModel",
     "state": {
      "_model_module": "@jupyter-widgets/base",
      "_model_module_version": "1.2.0",
      "_model_name": "LayoutModel",
      "_view_count": null,
      "_view_module": "@jupyter-widgets/base",
      "_view_module_version": "1.2.0",
      "_view_name": "LayoutView",
      "align_content": null,
      "align_items": null,
      "align_self": null,
      "border": null,
      "bottom": null,
      "display": null,
      "flex": null,
      "flex_flow": null,
      "grid_area": null,
      "grid_auto_columns": null,
      "grid_auto_flow": null,
      "grid_auto_rows": null,
      "grid_column": null,
      "grid_gap": null,
      "grid_row": null,
      "grid_template_areas": null,
      "grid_template_columns": null,
      "grid_template_rows": null,
      "height": null,
      "justify_content": null,
      "justify_items": null,
      "left": null,
      "margin": null,
      "max_height": null,
      "max_width": null,
      "min_height": null,
      "min_width": null,
      "object_fit": null,
      "object_position": null,
      "order": null,
      "overflow": null,
      "overflow_x": null,
      "overflow_y": null,
      "padding": null,
      "right": null,
      "top": null,
      "visibility": null,
      "width": null
     }
    },
    "af950977f181439ba6efb9ecd62f333d": {
     "model_module": "@jupyter-widgets/controls",
     "model_module_version": "1.5.0",
     "model_name": "HBoxModel",
     "state": {
      "_dom_classes": [],
      "_model_module": "@jupyter-widgets/controls",
      "_model_module_version": "1.5.0",
      "_model_name": "HBoxModel",
      "_view_count": null,
      "_view_module": "@jupyter-widgets/controls",
      "_view_module_version": "1.5.0",
      "_view_name": "HBoxView",
      "box_style": "",
      "children": [
       "IPY_MODEL_78f2cf9bb8264a70a16c781fc996fdbd",
       "IPY_MODEL_e57d99b08f8c438dae45608d8fdfeacc",
       "IPY_MODEL_8cfc56af946447dda997378373d96f5f"
      ],
      "layout": "IPY_MODEL_2eb89e470231486bb719673583cec0e7"
     }
    },
    "b51bfc42836a4708852ff949ff12e6af": {
     "model_module": "@jupyter-widgets/controls",
     "model_module_version": "1.5.0",
     "model_name": "DescriptionStyleModel",
     "state": {
      "_model_module": "@jupyter-widgets/controls",
      "_model_module_version": "1.5.0",
      "_model_name": "DescriptionStyleModel",
      "_view_count": null,
      "_view_module": "@jupyter-widgets/base",
      "_view_module_version": "1.2.0",
      "_view_name": "StyleView",
      "description_width": ""
     }
    },
    "ba7de7713f59438aa772f72cecc98ebc": {
     "model_module": "@jupyter-widgets/controls",
     "model_module_version": "1.5.0",
     "model_name": "HBoxModel",
     "state": {
      "_dom_classes": [],
      "_model_module": "@jupyter-widgets/controls",
      "_model_module_version": "1.5.0",
      "_model_name": "HBoxModel",
      "_view_count": null,
      "_view_module": "@jupyter-widgets/controls",
      "_view_module_version": "1.5.0",
      "_view_name": "HBoxView",
      "box_style": "",
      "children": [
       "IPY_MODEL_4601cae8e3d64c72a8d72776f5d341de",
       "IPY_MODEL_f2c61f3e3dc145db87cd51a545c8e51e",
       "IPY_MODEL_2e0ecc52fa764993bcf5bbb64aff3eea"
      ],
      "layout": "IPY_MODEL_9e8f735a5d984130b81c65d8981794c8"
     }
    },
    "cadd15e9afdd42a890346b2f1951b962": {
     "model_module": "@jupyter-widgets/controls",
     "model_module_version": "1.5.0",
     "model_name": "DescriptionStyleModel",
     "state": {
      "_model_module": "@jupyter-widgets/controls",
      "_model_module_version": "1.5.0",
      "_model_name": "DescriptionStyleModel",
      "_view_count": null,
      "_view_module": "@jupyter-widgets/base",
      "_view_module_version": "1.2.0",
      "_view_name": "StyleView",
      "description_width": ""
     }
    },
    "e4f80523b09e4bdeb0578f27375fadec": {
     "model_module": "@jupyter-widgets/base",
     "model_module_version": "1.2.0",
     "model_name": "LayoutModel",
     "state": {
      "_model_module": "@jupyter-widgets/base",
      "_model_module_version": "1.2.0",
      "_model_name": "LayoutModel",
      "_view_count": null,
      "_view_module": "@jupyter-widgets/base",
      "_view_module_version": "1.2.0",
      "_view_name": "LayoutView",
      "align_content": null,
      "align_items": null,
      "align_self": null,
      "border": null,
      "bottom": null,
      "display": null,
      "flex": null,
      "flex_flow": null,
      "grid_area": null,
      "grid_auto_columns": null,
      "grid_auto_flow": null,
      "grid_auto_rows": null,
      "grid_column": null,
      "grid_gap": null,
      "grid_row": null,
      "grid_template_areas": null,
      "grid_template_columns": null,
      "grid_template_rows": null,
      "height": null,
      "justify_content": null,
      "justify_items": null,
      "left": null,
      "margin": null,
      "max_height": null,
      "max_width": null,
      "min_height": null,
      "min_width": null,
      "object_fit": null,
      "object_position": null,
      "order": null,
      "overflow": null,
      "overflow_x": null,
      "overflow_y": null,
      "padding": null,
      "right": null,
      "top": null,
      "visibility": null,
      "width": null
     }
    },
    "e57d99b08f8c438dae45608d8fdfeacc": {
     "model_module": "@jupyter-widgets/controls",
     "model_module_version": "1.5.0",
     "model_name": "FloatProgressModel",
     "state": {
      "_dom_classes": [],
      "_model_module": "@jupyter-widgets/controls",
      "_model_module_version": "1.5.0",
      "_model_name": "FloatProgressModel",
      "_view_count": null,
      "_view_module": "@jupyter-widgets/controls",
      "_view_module_version": "1.5.0",
      "_view_name": "ProgressView",
      "bar_style": "success",
      "description": "",
      "description_tooltip": null,
      "layout": "IPY_MODEL_f0b1b846eaee4ce2a7f2724158021ad3",
      "max": 5346,
      "min": 0,
      "orientation": "horizontal",
      "style": "IPY_MODEL_60e07e2849d14b549e30226f1c7df88f",
      "value": 5346
     }
    },
    "ea258252bd4746ada14c4cef7b9a6c0b": {
     "model_module": "@jupyter-widgets/controls",
     "model_module_version": "1.5.0",
     "model_name": "HTMLModel",
     "state": {
      "_dom_classes": [],
      "_model_module": "@jupyter-widgets/controls",
      "_model_module_version": "1.5.0",
      "_model_name": "HTMLModel",
      "_view_count": null,
      "_view_module": "@jupyter-widgets/controls",
      "_view_module_version": "1.5.0",
      "_view_name": "HTMLView",
      "description": "",
      "description_tooltip": null,
      "layout": "IPY_MODEL_e4f80523b09e4bdeb0578f27375fadec",
      "placeholder": "​",
      "style": "IPY_MODEL_b51bfc42836a4708852ff949ff12e6af",
      "value": "Downloading data: 100%"
     }
    },
    "f0b1b846eaee4ce2a7f2724158021ad3": {
     "model_module": "@jupyter-widgets/base",
     "model_module_version": "1.2.0",
     "model_name": "LayoutModel",
     "state": {
      "_model_module": "@jupyter-widgets/base",
      "_model_module_version": "1.2.0",
      "_model_name": "LayoutModel",
      "_view_count": null,
      "_view_module": "@jupyter-widgets/base",
      "_view_module_version": "1.2.0",
      "_view_name": "LayoutView",
      "align_content": null,
      "align_items": null,
      "align_self": null,
      "border": null,
      "bottom": null,
      "display": null,
      "flex": null,
      "flex_flow": null,
      "grid_area": null,
      "grid_auto_columns": null,
      "grid_auto_flow": null,
      "grid_auto_rows": null,
      "grid_column": null,
      "grid_gap": null,
      "grid_row": null,
      "grid_template_areas": null,
      "grid_template_columns": null,
      "grid_template_rows": null,
      "height": null,
      "justify_content": null,
      "justify_items": null,
      "left": null,
      "margin": null,
      "max_height": null,
      "max_width": null,
      "min_height": null,
      "min_width": null,
      "object_fit": null,
      "object_position": null,
      "order": null,
      "overflow": null,
      "overflow_x": null,
      "overflow_y": null,
      "padding": null,
      "right": null,
      "top": null,
      "visibility": null,
      "width": null
     }
    },
    "f2c61f3e3dc145db87cd51a545c8e51e": {
     "model_module": "@jupyter-widgets/controls",
     "model_module_version": "1.5.0",
     "model_name": "FloatProgressModel",
     "state": {
      "_dom_classes": [],
      "_model_module": "@jupyter-widgets/controls",
      "_model_module_version": "1.5.0",
      "_model_name": "FloatProgressModel",
      "_view_count": null,
      "_view_module": "@jupyter-widgets/controls",
      "_view_module_version": "1.5.0",
      "_view_name": "ProgressView",
      "bar_style": "success",
      "description": "",
      "description_tooltip": null,
      "layout": "IPY_MODEL_094e80862ffb4cc6a9a2300fd4fa0da4",
      "max": 656,
      "min": 0,
      "orientation": "horizontal",
      "style": "IPY_MODEL_5827322ad92944128cd4676b3dd4f2e6",
      "value": 656
     }
    },
    "f6ad73af059d44d3bd706565539739e5": {
     "model_module": "@jupyter-widgets/controls",
     "model_module_version": "1.5.0",
     "model_name": "HBoxModel",
     "state": {
      "_dom_classes": [],
      "_model_module": "@jupyter-widgets/controls",
      "_model_module_version": "1.5.0",
      "_model_name": "HBoxModel",
      "_view_count": null,
      "_view_module": "@jupyter-widgets/controls",
      "_view_module_version": "1.5.0",
      "_view_name": "HBoxView",
      "box_style": "",
      "children": [
       "IPY_MODEL_ea258252bd4746ada14c4cef7b9a6c0b",
       "IPY_MODEL_21672904ff57471a85926ae94f4d5ff5",
       "IPY_MODEL_f9a3b26c038b4f3d949f8bd1a40f0500"
      ],
      "layout": "IPY_MODEL_a2de44d10463476dad90b9e596f7591a"
     }
    },
    "f9a3b26c038b4f3d949f8bd1a40f0500": {
     "model_module": "@jupyter-widgets/controls",
     "model_module_version": "1.5.0",
     "model_name": "HTMLModel",
     "state": {
      "_dom_classes": [],
      "_model_module": "@jupyter-widgets/controls",
      "_model_module_version": "1.5.0",
      "_model_name": "HTMLModel",
      "_view_count": null,
      "_view_module": "@jupyter-widgets/controls",
      "_view_module_version": "1.5.0",
      "_view_name": "HTMLView",
      "description": "",
      "description_tooltip": null,
      "layout": "IPY_MODEL_84dcaa89866e44239a4d0bbc46f1c6d3",
      "placeholder": "​",
      "style": "IPY_MODEL_358ff1eb32dd4e14b4d284c84057381e",
      "value": " 709k/709k [00:01&lt;00:00, 669kB/s]"
     }
    }
   }
  }
 },
 "nbformat": 4,
 "nbformat_minor": 1
}
